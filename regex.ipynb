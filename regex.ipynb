{
 "cells": [
  {
   "cell_type": "markdown",
   "metadata": {},
   "source": []
  },
  {
   "cell_type": "markdown",
   "metadata": {},
   "source": [
    "# Story of backslash:\n",
    "## Escape Character in Strings\n",
    "* Within strings, the **backslash( \\\\ )** is used as an ***escape character***. \n",
    "* It allows you to include **special characters** in a string.\n",
    "\n",
    "Common escape sequences:  \n",
    "1. ` \\n ` : Newline  \n",
    "2. ` \\t ` : Tab  \n",
    "3. ` \\\\ ` : Backslash  \n",
    "4. ` \\' ` : Single quote  \n",
    "5. ` \\\" ` : Double quote  \n",
    "\n",
    "## Raw Strings:\n",
    "* Raw string is also very important concept.\n",
    "* When a string is prefixed with ***r*** or ***R***,it becomes a raw string. \n",
    "* This means that backslashes are treated as ***literals*** and not as ***escape characters***."
   ]
  },
  {
   "cell_type": "markdown",
   "metadata": {},
   "source": []
  },
  {
   "cell_type": "markdown",
   "metadata": {},
   "source": []
  },
  {
   "cell_type": "markdown",
   "metadata": {},
   "source": [
    "## 1. re.search(regex, string):\n",
    "* **regex** : It's a ***pattern*** you are searching inside ***string***.\n",
    "* **string** : It's a ***text*** in which ***pattern*** to be found out.\n",
    "   \n",
    "* Before using it, You have to first import it:\n",
    "   1. `import re` then use it like : `re.search()`\n",
    "   2. `from re import search` Then use it directly : `search()`  \n",
    "   \n",
    "* It returns a **match object**. Otherwise returns **None**.  \n",
    "* This ***match object*** contains a wealth of information:\n",
    "\n",
    "\n",
    "### Let's see what actually is inside 'match object'\n",
    " \n"
   ]
  },
  {
   "cell_type": "code",
   "execution_count": 1,
   "metadata": {},
   "outputs": [
    {
     "name": "stdout",
     "output_type": "stream",
     "text": [
      "<re.Match object; span=(3, 6), match='123'>\n"
     ]
    }
   ],
   "source": [
    "from re import search\n",
    "\n",
    "text = 'abc123abc'\n",
    "\n",
    "print( search('123',text))"
   ]
  },
  {
   "cell_type": "markdown",
   "metadata": {},
   "source": [
    "#### <re.Match object; span=(3, 6), match='123'>\n",
    "* `span=(3, 6)` indicates the portion of ***text*** in which the match was found.   \n",
    "* `match='123'` indicates which characters from ***text*** matched."
   ]
  },
  {
   "cell_type": "code",
   "execution_count": 3,
   "metadata": {},
   "outputs": [
    {
     "name": "stdout",
     "output_type": "stream",
     "text": [
      "<re.Match object; span=(3, 6), match='ad4'>\n"
     ]
    }
   ],
   "source": [
    "import re\n",
    "text = 'abcad4235abc'\n",
    "\n",
    "print( re.search('ad[1-9]',text) )"
   ]
  },
  {
   "cell_type": "markdown",
   "metadata": {},
   "source": [
    "* Here : \n",
    "   * **pattern** = 'ad[1-9]'\n",
    "   *  **text** = 'abcad4235abc'\n",
    "\n",
    "* Now In match object: `<re.Match object; span=(3, 6), match='ad4'>`\n",
    "   * span = (3,6) i.e. index=3 to 6\n",
    "   * match='ad4'."
   ]
  },
  {
   "cell_type": "markdown",
   "metadata": {},
   "source": [
    "# Metacharacters"
   ]
  },
  {
   "cell_type": "markdown",
   "metadata": {},
   "source": [
    "## 1. [ ] -> Square bracketts\n",
    "* So first a set of characters specified in square brackets ([]) makes up a character class.\n",
    "    * Example 1 : [0-9]  = [0,1,2,3,4,5,6,7,8,9]   \n",
    "    * Example 2 : [a-z]  = [a,b,c,d......z]   \n",
    "    * Example 3 : [a1TpO23] = This is also characte class. It matches a single character : 'a','1','T','p','0',...\n",
    "    * Example 4 : [0-9A-Fa-f] : This character class matches characters from '0' to '9','A' to 'F', 'a' to 'f'\n",
    "\n",
    "* It matches a single character."
   ]
  },
  {
   "cell_type": "code",
   "execution_count": 5,
   "metadata": {},
   "outputs": [
    {
     "name": "stdout",
     "output_type": "stream",
     "text": [
      "<re.Match object; span=(3, 6), match='bar'>\n",
      "<re.Match object; span=(3, 6), match='baz'>\n"
     ]
    }
   ],
   "source": [
    "import re\n",
    "print( re.search('ba[artz]', 'foobarqux'))\n",
    "print( re.search('ba[artz]', 'foobazqux'))"
   ]
  },
  {
   "cell_type": "code",
   "execution_count": 6,
   "metadata": {},
   "outputs": [
    {
     "name": "stdout",
     "output_type": "stream",
     "text": [
      "<re.Match object; span=(3, 4), match='b'>\n"
     ]
    }
   ],
   "source": [
    "import re\n",
    "print( re.search('[a-z]', 'FOObar'))"
   ]
  },
  {
   "cell_type": "code",
   "execution_count": 8,
   "metadata": {},
   "outputs": [
    {
     "name": "stdout",
     "output_type": "stream",
     "text": [
      "<re.Match object; span=(4, 5), match='e'>\n"
     ]
    }
   ],
   "source": [
    "import re\n",
    "print( re.search('[0-9a-fA-f]', '--- e0 ---'))"
   ]
  },
  {
   "cell_type": "markdown",
   "metadata": {},
   "source": [
    "### How to *complement* a character class:\n",
    "* What is the meaning of **complement** :\n",
    "    *  It means simply Exclusion or Negation or just Opposite.\n",
    "* So when you use *complement* in character class, you are implying *Match any character except the ones which are declared inside character class.*\n",
    "\n",
    "* We can complement a character class by specifying ` ^ ` **as the first character**\n",
    "* NOTE : If this ` ^ ` *character isn’t the first character in a character class, then it has no special meaning* and matches a literal ` ^ ` character."
   ]
  },
  {
   "cell_type": "code",
   "execution_count": 9,
   "metadata": {},
   "outputs": [
    {
     "name": "stdout",
     "output_type": "stream",
     "text": [
      "<re.Match object; span=(5, 6), match='f'>\n"
     ]
    }
   ],
   "source": [
    "import re\n",
    "print( re.search('[^0-9]', '12345foo'))"
   ]
  },
  {
   "cell_type": "markdown",
   "metadata": {},
   "source": [
    "It's clear that, Characters which were inside [] aren't matched because we used complement.  \n",
    "\n",
    "\n",
    "### What If you want to pass it ` ^ ` as literal in regex. "
   ]
  },
  {
   "cell_type": "code",
   "execution_count": 10,
   "metadata": {},
   "outputs": [
    {
     "name": "stdout",
     "output_type": "stream",
     "text": [
      "<re.Match object; span=(3, 4), match='^'>\n"
     ]
    }
   ],
   "source": [
    "import re\n",
    "print( re.search('[#:^]', 'foo^bar:b#q') )  #  Here [#:^] = character class. ^ symbol is meaningless here."
   ]
  },
  {
   "cell_type": "markdown",
   "metadata": {},
   "source": [
    "As we can specify a range of characters in a character class by separating characters with a **hyphen**. Like [a-zA-Z0-9].   \n",
    "So Now Question is :\n",
    "### How can we use hyphen(-) as a literal?\n",
    "* There are various ways of achieveing that : \n",
    "    1. place it as the first character\n",
    "    2. Or place it as the last character.\n",
    "    3. Or escape it with a backslash ` \\ `\n"
   ]
  },
  {
   "cell_type": "code",
   "execution_count": 11,
   "metadata": {},
   "outputs": [
    {
     "name": "stdout",
     "output_type": "stream",
     "text": [
      "<re.Match object; span=(3, 4), match='-'>\n",
      "<re.Match object; span=(3, 4), match='-'>\n",
      "<re.Match object; span=(3, 4), match='-'>\n"
     ]
    }
   ],
   "source": [
    "print( search('[-abc]', '123-456'))\n",
    "\n",
    "print(re.search('[abc-]', '123-456'))\n",
    "\n",
    "print(re.search('[ab\\-c]', '123-456'))"
   ]
  },
  {
   "cell_type": "markdown",
   "metadata": {},
   "source": [
    "Similarly, If you want to include '[' , ']' as literal in regex. you can backslash (\\) or you can put them as first character in character class."
   ]
  },
  {
   "cell_type": "markdown",
   "metadata": {},
   "source": [
    "## 2. dot(.):\n",
    "* It also matches single character.\n",
    "* it matches ***any character*** except ***newline***\n",
    "* For example let's consider this regex : **'foo.bar'**\n",
    "   * It means the characters `foo`, then any character except newline, then the characters ` bar`"
   ]
  },
  {
   "cell_type": "code",
   "execution_count": 1,
   "metadata": {},
   "outputs": [
    {
     "name": "stdout",
     "output_type": "stream",
     "text": [
      "<re.Match object; span=(0, 7), match='fooxbar'>\n",
      "None\n",
      "None\n"
     ]
    }
   ],
   "source": [
    "import re\n",
    "\n",
    "print( re.search('foo.bar', 'fooxbar') )\n",
    "\n",
    "print(re.search('foo.bar', 'foobar'))\n",
    "\n",
    "print(re.search('foo.bar', 'foo\\nbar'))"
   ]
  },
  {
   "cell_type": "markdown",
   "metadata": {},
   "source": [
    "# 3. `\\w` and `\\W` : \n",
    "\n",
    "* ` \\w ` : \n",
    "  * It matches any  `uppercase and lowercase letters`, `digits`, and `the underscore ( _ )` characters.\n",
    "  * So ` \\w ` is essentially shorthand for `[a-zA-Z0-9_ ]`\n",
    "  * Hence, It returns first non-word character.\n",
    "\n",
    "* ` \\W ` : \n",
    "  * It basically opposite of ` \\w `.\n",
    "  * It is equivalent to `[^a-zA-Z0-9_ ]`\n",
    "  * It returns first non-word character.\n",
    "\n",
    "\n",
    "* ***`Trick to remember : W = Words ( alphanumeric + _ )`***"
   ]
  },
  {
   "cell_type": "code",
   "execution_count": 6,
   "metadata": {},
   "outputs": [
    {
     "name": "stdout",
     "output_type": "stream",
     "text": [
      "<re.Match object; span=(3, 4), match='a'>\n",
      "<re.Match object; span=(3, 4), match='a'>\n",
      "-----------------------------------------------\n",
      "Demonstration of \\W :\n",
      "<re.Match object; span=(3, 4), match='*'>\n",
      "<re.Match object; span=(3, 4), match='*'>\n"
     ]
    }
   ],
   "source": [
    "import re\n",
    "print(re.search('\\w', '#(.a$@&'))\n",
    "print(re.search('[a-zA-Z0-9_]', '#(.a$@&'))\n",
    "\n",
    "print(\"-----------------------------------------------\")\n",
    "print(\"Demonstration of \\W :\")\n",
    "\n",
    "print(re.search('\\W', 'a_1*3Qb'))\n",
    "print(re.search('[^a-zA-Z0-9_]', 'a_1*3Qb')) # Remember here we are complementing it using ^ inside []\n"
   ]
  },
  {
   "cell_type": "markdown",
   "metadata": {},
   "source": [
    "## 4. ` \\d ` and  ` \\D `:\n",
    "* d means digits, \n",
    "* ` \\d ` matches any decimal digit character. \n",
    "\n",
    "* ` \\D ` is the opposite to the ` \\d `. It matches any character that isn’t a decimal digit"
   ]
  },
  {
   "cell_type": "code",
   "execution_count": null,
   "metadata": {},
   "outputs": [],
   "source": []
  },
  {
   "cell_type": "markdown",
   "metadata": {},
   "source": [
    "## 4. ` \\s ` and ` \\S ` : "
   ]
  },
  {
   "cell_type": "markdown",
   "metadata": {},
   "source": []
  },
  {
   "cell_type": "markdown",
   "metadata": {},
   "source": [
    "# difflib"
   ]
  },
  {
   "cell_type": "code",
   "execution_count": 3,
   "metadata": {},
   "outputs": [
    {
     "name": "stdout",
     "output_type": "stream",
     "text": [
      "['other']\n"
     ]
    }
   ],
   "source": [
    "import difflib\n",
    "\n",
    "closest_match = difflib.get_close_matches('ot', ['male','female','other'], n=1, cutoff=0.5)\n",
    "print(closest_match)"
   ]
  }
 ],
 "metadata": {
  "kernelspec": {
   "display_name": "Python 3",
   "language": "python",
   "name": "python3"
  },
  "language_info": {
   "codemirror_mode": {
    "name": "ipython",
    "version": 3
   },
   "file_extension": ".py",
   "mimetype": "text/x-python",
   "name": "python",
   "nbconvert_exporter": "python",
   "pygments_lexer": "ipython3",
   "version": "3.10.12"
  }
 },
 "nbformat": 4,
 "nbformat_minor": 2
}

{
 "cells": [
  {
   "cell_type": "markdown",
   "id": "77f4f8ca",
   "metadata": {},
   "source": [
    "# logging in python"
   ]
  },
  {
   "cell_type": "markdown",
   "id": "60ad8267",
   "metadata": {},
   "source": [
    "## Default logger\n",
    "**root** : Name of default logger, given by *logging* module."
   ]
  },
  {
   "cell_type": "code",
   "execution_count": 2,
   "id": "bf801f1d",
   "metadata": {},
   "outputs": [
    {
     "name": "stderr",
     "output_type": "stream",
     "text": [
      "WARNING:root:This is a warning\n",
      "ERROR:root:This is an error message\n"
     ]
    }
   ],
   "source": [
    "import logging\n",
    "\n",
    "logging.debug(\"This is a Debug message\")\n",
    "logging.info(\"This is an info message\")\n",
    "logging.warning(\"This is a warning\")\n",
    "logging.error(\"This is an error message\")"
   ]
  },
  {
   "cell_type": "markdown",
   "id": "fdd34c12",
   "metadata": {},
   "source": [
    "### Note: the debug() and info() messages didn’t get logged. \n",
    "- **REASON** : Because, by default, the logging module logs the messages with a severity level of *WARNING* or *above*.  \n",
    "  - We can change that *by configuring the logging module* to log events of all levels, Using this : `logging.basicConfig(level=logging.CONFIG)`\n",
    "\n",
    "- Lowest level  = **DEBUG**, whose corresponding costant = 10\n",
    "\n",
    "- Highest level =  **CRITICAL**, whose corresponding constant = 50."
   ]
  },
  {
   "cell_type": "code",
   "execution_count": 2,
   "id": "f85fa749",
   "metadata": {},
   "outputs": [
    {
     "name": "stderr",
     "output_type": "stream",
     "text": [
      "DEBUG:root:This is a Debug message\n",
      "INFO:root:This is an info message\n",
      "WARNING:root:This is a warning\n",
      "ERROR:root:This is an error message\n"
     ]
    }
   ],
   "source": [
    "import logging\n",
    "\n",
    "logging.basicConfig(level=10)\n",
    "\n",
    "logging.debug(\"This is a Debug message\")\n",
    "logging.info(\"This is an info message\")\n",
    "logging.warning(\"This is a warning\")\n",
    "logging.error(\"This is an error message\")\n",
    "\n",
    "# See, Now it's logging all..."
   ]
  },
  {
   "cell_type": "markdown",
   "id": "404d102e",
   "metadata": {},
   "source": [
    "\n",
    "# Logging Levels in Python\n",
    "\n",
    "1. **DEBUG**\n",
    "   - **Function**: `logging.debug()`\n",
    "   - **Constant** : 10\n",
    "   - **Description**: Detailed information, typically useful only for diagnosing problems.\n",
    "\n",
    "2. **INFO**\n",
    "   - **Function**: `logging.info()`\n",
    "   - **Constant** : 20\n",
    "   - **Description**: Confirms that things are working as expected.\n",
    "\n",
    "3. **WARNING**\n",
    "   - **Function**: `logging.warning()`\n",
    "   - **Constant** : 30\n",
    "   - **Description**: An indication that something unexpected happened, but the program continues.\n",
    "\n",
    "4. **ERROR**\n",
    "   - **Function**: `logging.error()`\n",
    "   - **Constant** : 40\n",
    "   - **Description**: A more serious problem; the program didn't perform a function as expected.\n",
    "\n",
    "5. **CRITICAL**\n",
    "   - **Function**: `logging.critical()`\n",
    "   - **Constant** : 50\n",
    "   - **Description**: A very serious error, indicating the program itself may be unable to continue.\n",
    "\n"
   ]
  },
  {
   "cell_type": "markdown",
   "id": "362c2378",
   "metadata": {},
   "source": [
    "#   Configuring logging:\n",
    "- For configuring we use `logging.basicConfig()`.\n",
    "    - **PARAMETERS**: \n",
    "        1. ***level*** \n",
    "        2. ***format*** \n",
    "        3. ***datefmt*** \n",
    "        4. ***filename***\n",
    "        5. ***filemode***\n",
    "\n",
    "## Formatting the Output : *format* parameter\n",
    "- By default, logs contain the log level, the logger’s name, and the log message. But we can enhance the logs by using the **format** parameter.\n",
    "\n",
    "- **format** parameter:\n",
    "  - Accepts a string consist of ***predefined-attributes***\n",
    "\n",
    "- You can define the **style of your format string** with the style parameter. \n",
    "  - The options for **style** are \"%\", \"$\", or \"{\".\n",
    "  ```py\n",
    "        logging.basicConfig(format=\"%(levelname)s:%(name)s:%(message)s\")       # Default style = %\n",
    "        logging.basicConfig(format=\"{levelname}:{name}:{message}\", style=\"{\")  # style='{'\n",
    "  ```\n",
    "\n",
    "\n",
    "*HINT : Once you run the code with previous configurations, you have to restart the kernel to apply new configurations*\n"
   ]
  },
  {
   "cell_type": "code",
   "execution_count": 3,
   "id": "5a196be6",
   "metadata": {},
   "outputs": [
    {
     "name": "stderr",
     "output_type": "stream",
     "text": [
      "DEBUG:root:This is debug message\n",
      "INFO:root:This is info message\n",
      "WARNING:root:This is warning message\n",
      "ERROR:root:This is error message\n",
      "CRITICAL:root:This is critical message\n"
     ]
    }
   ],
   "source": [
    "# We would probably want to save our logs into a file.\n",
    "import logging\n",
    "\n",
    "logging.basicConfig(\n",
    "    filename=\"app.log\",\n",
    "    filemode='w',\n",
    "    level=logging.DEBUG,\n",
    "    format = \"%(asctime)s - %(name)s - %(levelname)s - %(message)s\",\n",
    "    datefmt=\"%Y-%M-%d %H:%M:%S\"\n",
    ")\n",
    "\n",
    "# log messages with different severity levels\n",
    "logging.debug(\"This is debug message\")\n",
    "logging.info(\"This is info message\")\n",
    "logging.warning(\"This is warning message\")\n",
    "logging.error(\"This is error message\")\n",
    "logging.critical(\"This is critical message\")"
   ]
  },
  {
   "cell_type": "markdown",
   "id": "1bf494ae",
   "metadata": {},
   "source": [
    "# logging with multiple loggers"
   ]
  },
  {
   "cell_type": "code",
   "execution_count": 1,
   "id": "b8195f44",
   "metadata": {},
   "outputs": [],
   "source": [
    "import logging\n",
    "\n",
    "# logger for module 1\n",
    "logger1 = logging.getLogger(\"Module1\")\n",
    "\n",
    "# logger for module 2\n",
    "logger2 = logging.getLogger(\"Module2\")\n",
    "\n",
    "# basic configuration settings..\n",
    "logging.basicConfig(\n",
    "    level=logging.DEBUG,\n",
    "    format = \"%(asctime)s - %(name)s - %(levelname)s - %(message)s\",\n",
    "    datefmt=\"%Y-%M-%d %H:%M:%S\"  \n",
    ")"
   ]
  },
  {
   "cell_type": "code",
   "execution_count": null,
   "id": "777a23d2",
   "metadata": {},
   "outputs": [
    {
     "name": "stderr",
     "output_type": "stream",
     "text": [
      "2025-49-05 19:49:45 - Module1 - DEBUG - This is debug message\n",
      "2025-49-05 19:49:45 - Module2 - WARNING - This is warning message\n"
     ]
    }
   ],
   "source": [
    "logger1.debug(\"This is debug message\")\n",
    "logger2.warning(\"This is warning message\")\n",
    "\n",
    "# here 'root' is not, instead 'Module1' or 'Module2'"
   ]
  }
 ],
 "metadata": {
  "kernelspec": {
   "display_name": "Python 3",
   "language": "python",
   "name": "python3"
  },
  "language_info": {
   "codemirror_mode": {
    "name": "ipython",
    "version": 3
   },
   "file_extension": ".py",
   "mimetype": "text/x-python",
   "name": "python",
   "nbconvert_exporter": "python",
   "pygments_lexer": "ipython3",
   "version": "3.10.12"
  }
 },
 "nbformat": 4,
 "nbformat_minor": 5
}

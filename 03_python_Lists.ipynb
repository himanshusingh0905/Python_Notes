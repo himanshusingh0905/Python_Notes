{
 "cells": [
  {
   "cell_type": "markdown",
   "metadata": {},
   "source": [
    "# List \n",
    "* List in python are just like vector in c++. Dyanmic size, mutable.\n",
    "* List is created using square brackets just like c++.\n",
    "* starting index = 0 and so on.\n",
    "* It also supports negative indexing. where [ ***last element's index = -1*** ]\n",
    "* constructor = ***list()***\n",
    "\n",
    "----------------------------------------------------------------------------------------\n",
    "\n",
    "* ***append()*** : To add a element at the end of list\n",
    "* ***pop()*** : To remove last element"
   ]
  },
  {
   "cell_type": "code",
   "execution_count": null,
   "metadata": {},
   "outputs": [],
   "source": []
  },
  {
   "cell_type": "markdown",
   "metadata": {},
   "source": [
    "## Nested List:\n",
    "* *Simply*, we can say a nested-list = list of lists"
   ]
  },
  {
   "cell_type": "code",
   "execution_count": 4,
   "metadata": {},
   "outputs": [
    {
     "name": "stdout",
     "output_type": "stream",
     "text": [
      "[[2, 3, 6], ['a', 'b', 'c']]\n",
      "6\n"
     ]
    }
   ],
   "source": [
    "# Example 1:\n",
    "list1 = [2,3,6]\n",
    "list2 = ['a','b','c']\n",
    "\n",
    "nested_list = [list1,list2] \n",
    "print(nested_list)\n",
    "\n",
    "# How can you access each element ?\n",
    "print( nested_list[0][2] ) # 0 -> pointing to 'first list', and 2 -> pointing to 3rd element inside 'first list'."
   ]
  },
  {
   "cell_type": "markdown",
   "metadata": {},
   "source": []
  },
  {
   "cell_type": "markdown",
   "metadata": {},
   "source": [
    "# extend()\n",
    "` myList.extend()` similar to `( myList[len(myList):] = iterable )`"
   ]
  },
  {
   "cell_type": "code",
   "execution_count": 13,
   "metadata": {},
   "outputs": [
    {
     "name": "stdout",
     "output_type": "stream",
     "text": [
      "[6, 8]\n",
      "[2, 4]\n",
      "[2, 4, 6, 8, 10, 12]\n"
     ]
    }
   ],
   "source": [
    "# Without use of extend():\n",
    "myList = [2,4,6,8]\n",
    "tp = (10,12)\n",
    "\n",
    "print( myList[2:] ) # prints from (index = 2) to (last index)            : Output :-> [6, 8]\n",
    "print( myList[:2])  # Prints from 0th index to 1. As 2 is excluded.      : Output :-> [2, 4]\n",
    "\n",
    "# Now let's extend myList\n",
    "length = len(myList)\n",
    "myList[length: ] = tp  \n",
    "print(myList)               # Output : [2, 4, 6, 8, 10, 12]"
   ]
  },
  {
   "cell_type": "markdown",
   "metadata": {},
   "source": [
    "### Alternatively, We can use  extend()"
   ]
  },
  {
   "cell_type": "code",
   "execution_count": 14,
   "metadata": {},
   "outputs": [
    {
     "name": "stdout",
     "output_type": "stream",
     "text": [
      "[2, 4, 6, 8, 10, 12]\n"
     ]
    }
   ],
   "source": [
    "myList = [2,4,6,8]\n",
    "tp = (10,12)\n",
    "\n",
    "myList.extend(tp)\n",
    "print(myList)"
   ]
  },
  {
   "cell_type": "markdown",
   "metadata": {},
   "source": [
    "![green-divider](https://user-images.githubusercontent.com/7065401/52071924-c003ad80-2562-11e9-8297-1c6595f8a7ff.png)"
   ]
  },
  {
   "cell_type": "code",
   "execution_count": 15,
   "metadata": {},
   "outputs": [
    {
     "name": "stdout",
     "output_type": "stream",
     "text": [
      "65\n"
     ]
    }
   ],
   "source": [
    "char = 'A'\n",
    "int_val = ord(char)  # Convert 'A' to an integer using ord()\n",
    "print(int_val)  # Output: 65"
   ]
  }
 ],
 "metadata": {
  "kernelspec": {
   "display_name": "Python 3",
   "language": "python",
   "name": "python3"
  },
  "language_info": {
   "codemirror_mode": {
    "name": "ipython",
    "version": 3
   },
   "file_extension": ".py",
   "mimetype": "text/x-python",
   "name": "python",
   "nbconvert_exporter": "python",
   "pygments_lexer": "ipython3",
   "version": "3.11.8"
  }
 },
 "nbformat": 4,
 "nbformat_minor": 2
}

{
  "cells": [
    {
      "cell_type": "markdown",
      "metadata": {
        "colab_type": "text",
        "id": "view-in-github"
      },
      "source": [
        "<a href=\"https://colab.research.google.com/github/himanshusingh0905/python-notes/blob/main/python_basics.ipynb\" target=\"_parent\"><img src=\"https://colab.research.google.com/assets/colab-badge.svg\" alt=\"Open In Colab\"/></a>"
      ]
    },
    {
      "cell_type": "markdown",
      "metadata": {
        "id": "2YdYzZ1VFx-7"
      },
      "source": [
        "# First program:"
      ]
    },
    {
      "cell_type": "markdown",
      "metadata": {},
      "source": [
        "### print():\n",
        "* SYNTAX : `print(object(s), sep=separator, end=end, file=file, flush=flush)`\n",
        "  * object = object you are printing\n",
        "  * sep = separator between variables, when you are passing multiple variables to print.\n",
        "  * end = By default = \\n, ending of line ( after printing variables passed into print() )\n"
      ]
    },
    {
      "cell_type": "code",
      "execution_count": null,
      "metadata": {
        "id": "7Uvl8iGrFx_A",
        "outputId": "8eba8043-c25d-49a0-9ef9-f72612a40077"
      },
      "outputs": [
        {
          "name": "stdout",
          "output_type": "stream",
          "text": [
            "Hello world\n"
          ]
        }
      ],
      "source": [
        "print(\"Hello world\")"
      ]
    },
    {
      "cell_type": "code",
      "execution_count": null,
      "metadata": {
        "id": "8IU_Ai9xFx_E",
        "outputId": "433b3579-f8d3-442a-acbf-559c1cb3b74d"
      },
      "outputs": [
        {
          "name": "stdout",
          "output_type": "stream",
          "text": [
            "Hello World!\n",
            "Hello World!\n",
            "Hello World!\n"
          ]
        }
      ],
      "source": [
        "print(\"Hello World!\\nHello World!\\nHello World!\")"
      ]
    },
    {
      "cell_type": "code",
      "execution_count": null,
      "metadata": {
        "id": "56Mev8gLFx_E",
        "outputId": "42b53126-a251-4974-e0f6-1fa785cbdddb"
      },
      "outputs": [
        {
          "name": "stdout",
          "output_type": "stream",
          "text": [
            "She said \"Hello\" and left\n",
            "She said \"Hello\" and left\n"
          ]
        }
      ],
      "source": [
        "# If I want to print ->  she said \"Hello\" and left.\n",
        "# First method:\n",
        "print('She said \"Hello\" and left')\n",
        "# Second method:  Using backspace(\\) to escape the double quotes\n",
        "print(\"She said \\\"Hello\\\" and left\")"
      ]
    },
    {
      "cell_type": "markdown",
      "metadata": {
        "id": "VHH3XdjP94UI"
      },
      "source": [
        "# 1. Python Variables & Data types\n",
        "\n",
        "* Python is `Dynamically typed` language. Which means we don't have to declare the `type` before variable.\n",
        "* It's a **case-sensitive** language.\n",
        "\n",
        "### RULES TO DECLARE VARIABLES:\n",
        "* A variable name must start with a `letter` or the `underscore` character.\n",
        "* A variable name can only contain **alpha-numeric** characters and underscores **(A-z, 0-9, and _ )**.\n",
        "* Variable names are case-sensitive (age, Age and AGE are three different variables).\n",
        "* A variable name cannot be any of the Python keywords."
      ]
    },
    {
      "cell_type": "code",
      "execution_count": null,
      "metadata": {
        "colab": {
          "base_uri": "https://localhost:8080/"
        },
        "id": "DC9ZW_Xu-N8I",
        "outputId": "1f8b50fb-c812-49cf-ec10-3a15ee4c1467"
      },
      "outputs": [
        {
          "name": "stdout",
          "output_type": "stream",
          "text": [
            "you are 40 years old\n",
            "you are 40 years old\n",
            "shri 89 28j\n",
            "you are 40 years old\n"
          ]
        }
      ],
      "source": [
        "\n",
        "age = 40\n",
        "\n",
        "# 1. print using 'string - concatenation'\n",
        "\n",
        "# print(\"you are \"+ age + \"years old\")  # you are going to get TypeError here as age is int\n",
        "# correction : age is type-casted to int\n",
        "print(\"you are \"+ str(age) + \" years old\")\n",
        "\n",
        "# 2. Pass as argument or using comma\n",
        "print(\"you are\", age , \"years old\") # Here print() is treating them as 3 arguments, so automatic space is included after comma\n",
        "a = \"shri\"\n",
        "b = 89\n",
        "c = 28j\n",
        "print(a,b,c)\n",
        "\n",
        "# 3. fstrings\n",
        "print( f\"you are {age} years old\")\n",
        "\n"
      ]
    },
    {
      "cell_type": "markdown",
      "metadata": {
        "id": "tlvVaOJ8Fx_G"
      },
      "source": [
        "<img src=\"images\\green-divider.png\"/>"
      ]
    },
    {
      "cell_type": "markdown",
      "metadata": {
        "id": "nydrpdy_9JNq"
      },
      "source": [
        "## Data types\n",
        "  ### 1. Numbers\n",
        "  * #### int\n",
        "  * #### float\n",
        "  * #### complex\n"
      ]
    },
    {
      "cell_type": "code",
      "execution_count": null,
      "metadata": {
        "colab": {
          "base_uri": "https://localhost:8080/"
        },
        "id": "xFl3CdHn-PxS",
        "outputId": "425d58e7-e2c0-42ae-91ef-ce5020f966b0"
      },
      "outputs": [
        {
          "name": "stdout",
          "output_type": "stream",
          "text": [
            "<class 'int'>\n",
            "<class 'float'>\n",
            "<class 'complex'>\n"
          ]
        }
      ],
      "source": [
        "a = 25\n",
        "b = 25.4\n",
        "c = 7 + 4j\n",
        "\n",
        "print(type(a))\n",
        "print(type(b))\n",
        "print(type(c))"
      ]
    },
    {
      "cell_type": "code",
      "execution_count": null,
      "metadata": {
        "id": "Dx9qBCqpFx_I",
        "outputId": "191afb39-dda3-4120-ad38-4a03442385fb"
      },
      "outputs": [
        {
          "name": "stdout",
          "output_type": "stream",
          "text": [
            "31243555\n",
            "56973.4789\n",
            "180\n"
          ]
        }
      ],
      "source": [
        "# To increase redability of numbers we can use underscore in it like this.\n",
        "num = 3_12_43_555\n",
        "print(num)\n",
        "\n",
        "num2 = 5_69_73.4789\n",
        "print(num2)\n",
        "\n",
        "print( 1_2  * 1_5)"
      ]
    },
    {
      "cell_type": "markdown",
      "metadata": {
        "id": "wfIILMxiFx_I"
      },
      "source": [
        "#### round() :\n",
        "- Syntax : **round (** *value*, *precision after decimal* **)**"
      ]
    },
    {
      "cell_type": "code",
      "execution_count": null,
      "metadata": {
        "id": "_e0apSoLFx_J",
        "outputId": "b728dfd1-6631-4ef3-b542-69b77a6b630c"
      },
      "outputs": [
        {
          "name": "stdout",
          "output_type": "stream",
          "text": [
            "3.33\n",
            "5.4\n",
            "2.312\n"
          ]
        }
      ],
      "source": [
        "print( round( 10/3, 2)) # precision = 2 digits afte decimal\n",
        "print( round(5.36725, 1))\n",
        "print( round(2.31243, 3))"
      ]
    },
    {
      "cell_type": "code",
      "execution_count": 6,
      "metadata": {},
      "outputs": [
        {
          "name": "stdout",
          "output_type": "stream",
          "text": [
            "255\n"
          ]
        }
      ],
      "source": [
        "# Some operations which are supported in Javascript but not in python\n",
        "n1 = \"25\"\n",
        "n2 = \"5\"\n",
        "\n",
        "# print(n1 / n2)   # TypeError\n",
        "# print(n1 - n2)     # TypeError\n",
        "# print(n1 * n2)      # TypeError\n",
        "\n",
        "# This concatenation is supported\n",
        "# print(n1 + n2 ) # 255\n"
      ]
    },
    {
      "cell_type": "markdown",
      "metadata": {
        "id": "HluSXXg3Fx_J"
      },
      "source": [
        "<img src=\"images\\green-divider.png\"/>"
      ]
    },
    {
      "cell_type": "markdown",
      "metadata": {
        "id": "vo7Hjg7PBVOT"
      },
      "source": [
        "### 2. STRING (str)"
      ]
    },
    {
      "cell_type": "code",
      "execution_count": null,
      "metadata": {
        "colab": {
          "base_uri": "https://localhost:8080/"
        },
        "id": "DiI_gyAa9Ax7",
        "outputId": "380004ed-6f1e-4115-fbf9-20fee1b0c7bb"
      },
      "outputs": [
        {
          "name": "stdout",
          "output_type": "stream",
          "text": [
            "your name is Himanshu\n",
            "your email is abc@gmail.com\n",
            "<class 'str'>\n"
          ]
        }
      ],
      "source": [
        "email = \"abc@gmail.com\"\n",
        "name = \"Himanshu\"\n",
        "\n",
        "# Using fstring to print :\n",
        "print(f\"your name is {name}\")\n",
        "print(f\"your email is {email}\")\n",
        "\n",
        "print(type(name))"
      ]
    },
    {
      "cell_type": "markdown",
      "metadata": {
        "id": "-NgEi_9mBSxn"
      },
      "source": [
        "### 3. BOOLEAN ( True or False ):"
      ]
    },
    {
      "cell_type": "code",
      "execution_count": null,
      "metadata": {
        "colab": {
          "base_uri": "https://localhost:8080/"
        },
        "id": "77CYCX0CCgpY",
        "outputId": "d963c1d8-de09-4cac-b5cb-5647de860403"
      },
      "outputs": [
        {
          "name": "stdout",
          "output_type": "stream",
          "text": [
            "Are you single True\n",
            "<class 'bool'>\n"
          ]
        }
      ],
      "source": [
        "flag = True\n",
        "print(f\"Are you single {flag}\")\n",
        "print(type(flag))"
      ]
    },
    {
      "cell_type": "markdown",
      "metadata": {
        "id": "gJ35snCLgLbN"
      },
      "source": [
        "## Ways to assign values to varibles\n",
        "\n",
        "#### 1. ONE TO MANY\n",
        "#### 2. MANY TO MANY\n",
        "#### 3. MANY TO ITERABLE ( OR ANY COLLECTION )"
      ]
    },
    {
      "cell_type": "markdown",
      "metadata": {
        "id": "AP9Xt0NkhwRF"
      },
      "source": [
        "<img src=\"images\\green-divider.png\"/>"
      ]
    },
    {
      "cell_type": "markdown",
      "metadata": {
        "id": "M0iCZzJYWRg4"
      },
      "source": [
        "# User Input & Type-Casting:\n",
        "* `input()` always returns a **string** (or **str**)."
      ]
    },
    {
      "cell_type": "code",
      "execution_count": null,
      "metadata": {
        "colab": {
          "base_uri": "https://localhost:8080/"
        },
        "id": "qUkjWIRwdYxK",
        "outputId": "34fdf45b-3cee-4a04-8beb-057e59b0fb48"
      },
      "outputs": [
        {
          "name": "stdout",
          "output_type": "stream",
          "text": [
            "Hello Himanshu\n"
          ]
        }
      ],
      "source": [
        "# User input\n",
        "name = input(\"Enter your name \")\n",
        "print(f\"Hello {name}\")"
      ]
    },
    {
      "cell_type": "code",
      "execution_count": null,
      "metadata": {
        "colab": {
          "base_uri": "https://localhost:8080/"
        },
        "id": "F9ctcYxjdeyy",
        "outputId": "fc4a0a2b-103e-4306-d297-a5139c6079cd"
      },
      "outputs": [
        {
          "name": "stdout",
          "output_type": "stream",
          "text": [
            "25\n",
            "<class 'str'>\n"
          ]
        }
      ],
      "source": [
        "# input() returns 'str' type:\n",
        "age = input(\"Enter your age: \")\n",
        "\n",
        "# Suppose I want to increase my age by 1\n",
        "# age = age + 1\n",
        "# Yes, I am going to get TypeError, If I do previous action because it was a str.\n",
        "print(age)\n",
        "print(type(age))"
      ]
    },
    {
      "cell_type": "markdown",
      "metadata": {
        "id": "Ls260LbwDs3i"
      },
      "source": [
        "**NOTE :**  In Previous example, If I do `age = age + 1`. I am going to get **TypeError**.Because you can't concatenate `int` to `str`.\n",
        "\n",
        "*Hence the Role of Type-casting comes here...*"
      ]
    },
    {
      "cell_type": "markdown",
      "metadata": {
        "id": "wkS0XHexBh0q"
      },
      "source": [
        "#### Note : By default input() function returns `str` type. so we have to typecast it into other data types.\n",
        "\n",
        "\n",
        "\n"
      ]
    },
    {
      "cell_type": "markdown",
      "metadata": {
        "id": "a4fOA6r3WfsW"
      },
      "source": [
        "\n",
        "### TYPE-CASTING:"
      ]
    },
    {
      "cell_type": "code",
      "execution_count": null,
      "metadata": {
        "colab": {
          "base_uri": "https://localhost:8080/"
        },
        "id": "uGoX1Zv4ezas",
        "outputId": "33833559-88d0-416c-8773-932b422da750"
      },
      "outputs": [
        {
          "name": "stdout",
          "output_type": "stream",
          "text": [
            "<class 'int'>\n",
            "<class 'float'>\n",
            "<class 'bool'>\n",
            "<class 'complex'>\n",
            "5\n",
            "10.0\n",
            "True\n",
            "(20+0j)\n"
          ]
        }
      ],
      "source": [
        "# How to take int, float and bool input\n",
        "i = int(input())\n",
        "f = float(input())\n",
        "b = bool(input())\n",
        "co = complex(input())\n",
        "print(type(i))\n",
        "print(type(f))\n",
        "print(type(b))\n",
        "print(type(co))\n",
        "print(i)\n",
        "print(f)\n",
        "print(b)\n",
        "print(co)"
      ]
    },
    {
      "cell_type": "code",
      "execution_count": null,
      "metadata": {
        "colab": {
          "base_uri": "https://localhost:8080/"
        },
        "id": "ZgUlzk-UKMAX",
        "outputId": "bce83dd3-22ff-47ac-e705-ea1995378b28"
      },
      "outputs": [
        {
          "name": "stdout",
          "output_type": "stream",
          "text": [
            "False\n",
            "True\n"
          ]
        }
      ],
      "source": [
        "# QUESTION : WHAT WOULD THESE BOOLEAN VARIABLES PRINT ?\n",
        "str1 = \"\"\n",
        "str2 = \" \"\n",
        "str1 = bool(str1)\n",
        "print(str1)\n",
        "str2 = bool(str2)\n",
        "print(str2)\n",
        "\n",
        "# Note : this way we can also find out that if string is empty or not.\n",
        "#        Because empty string when type-casted to bool, becomes false.\n"
      ]
    },
    {
      "cell_type": "markdown",
      "metadata": {
        "id": "0EthfhhsYNtN"
      },
      "source": [
        "#### Basically type-casting is of two types:\n",
        "*  #### Explicit : Manual type-casting or ` Doing casting by yourself`\n",
        "*  #### Implicit : Automatic type-casting."
      ]
    },
    {
      "cell_type": "code",
      "execution_count": null,
      "metadata": {
        "colab": {
          "base_uri": "https://localhost:8080/"
        },
        "id": "nW-x6wpJZUau",
        "outputId": "701ebe51-a9c4-4510-e85a-a46e277a0488"
      },
      "outputs": [
        {
          "name": "stdout",
          "output_type": "stream",
          "text": [
            "2.5\n",
            "<class 'float'>\n",
            "(7.2+3j)\n",
            "<class 'complex'>\n"
          ]
        }
      ],
      "source": [
        "# Implicit Type-casting\n",
        "a = 4     # int\n",
        "b = 10.0  # float\n",
        "\n",
        "c = b / a\n",
        "\n",
        "print(c)\n",
        "print(type(c))\n",
        "#--------------------------------------------------------------------\n",
        "# EXample 2:\n",
        "\n",
        "a = 5.2\n",
        "b  = 2 + 3j\n",
        "\n",
        "c = a + b\n",
        "\n",
        "print(c)\n",
        "print(type(c))"
      ]
    },
    {
      "cell_type": "markdown",
      "metadata": {
        "id": "tK4KLBqcgLpE"
      },
      "source": [
        "**NOTE :** Above variable `c` was automatically typecasted. so Implicit typecasting is done from lower data-type to higher data type. Like above:\n",
        "* `int` was typecasted to `float`.\n",
        "*  `float` was typecasted to `complex`.\n"
      ]
    },
    {
      "cell_type": "markdown",
      "metadata": {
        "id": "FBWq4DgjGUzW"
      },
      "source": [
        "## Let's do a simple exercise..\n",
        "\n",
        "## Exercise 1 : Write a Program to find out Area of Circle."
      ]
    },
    {
      "cell_type": "code",
      "execution_count": null,
      "metadata": {
        "colab": {
          "base_uri": "https://localhost:8080/"
        },
        "id": "NTcEp0hwGrYe",
        "outputId": "e0174013-21c9-42d7-973f-515bf588e60a"
      },
      "outputs": [
        {
          "name": "stdout",
          "output_type": "stream",
          "text": [
            "Area of circle = 153.94 m^2\n"
          ]
        }
      ],
      "source": [
        "# Area of Circle\n",
        "import math\n",
        "\n",
        "r = int(input(\"Enter radius of circle: \"))\n",
        "pi = math.pi\n",
        "area = pi * r * r\n",
        "# I can use round() function to round the value upto desired places\n",
        "print(f\"Area of circle = {round(area,2)} m^2\")\n"
      ]
    },
    {
      "cell_type": "markdown",
      "metadata": {
        "id": "bQ8pyQ-nOjAB"
      },
      "source": [
        "<img src=\"images\\green-divider.png\"/>"
      ]
    },
    {
      "cell_type": "markdown",
      "metadata": {
        "id": "oaTG6W2_Olhw"
      },
      "source": [
        "# Mathematical operators in python:\n",
        "\n",
        "## 1. Arithmetic operators:\n",
        "\n",
        "1.   Basic operators : +, -, *, /\n",
        "2.   Modulus operator: %\n",
        "3.   Exponentiation : **\n",
        "4.  floor or integer division : //\n",
        "\n",
        "## 2. Python Bitwise Operators\n",
        "Bitwise operators are used to perform operations on bits:\n",
        "1. AND (&)\n",
        "2. OR ( | )\n",
        "3. NOT ( ~ )\n",
        "4. left shift ( << )\n",
        "5. right shift ( >> )\n",
        "\n",
        "## Augmented Assignment operator:\n",
        "+=,  -= ,  *= ,  /= ,  &= ,  |= ,  <<= ,  >>= ,  ~= ,  **= ,  %= ,  //=\n",
        "\n",
        "# 3. Comparision Operator:\n",
        "1. greater than ( > )\n",
        "2. less than ( < )\n",
        "3. greater than or equal to ( >= )\n",
        "4. less than or equal to ( <= )\n",
        "5. Not equal ( != )\n",
        "6. equal ( == )\n",
        "\n",
        "# 4. Logical Operator:\n",
        "1. and ( like && in c++ )\n",
        "2. or\n",
        "3. not\n",
        "\n",
        "# 5. Identity Operator\n",
        "1. `is`\n",
        "2.  `is not`\n",
        "\n",
        "# 6. Membership Operator\n",
        "1. `in`\n",
        "2. `not in`\n",
        "\n",
        "\n",
        "\n",
        "\n",
        "\n"
      ]
    },
    {
      "cell_type": "code",
      "execution_count": null,
      "metadata": {
        "colab": {
          "base_uri": "https://localhost:8080/"
        },
        "id": "AU7wAslAOlDg",
        "outputId": "5ae3f66d-03aa-4547-8535-878f4fd12842"
      },
      "outputs": [
        {
          "name": "stdout",
          "output_type": "stream",
          "text": [
            "value of a =  15\n",
            "value of normal division (a / 2) =  7.5\n",
            "Integer division =  7\n",
            "value of exponentiation =  343\n",
            "Rounded value of 7.8764236 upto 2 decimal places 7.88\n",
            "abs() of -89 is = 89\n"
          ]
        }
      ],
      "source": [
        "a = 11\n",
        "\n",
        "# 1. '+' operator:\n",
        "a += 4\n",
        "print(\"value of a = \",a)\n",
        "\n",
        "# Normal division\n",
        "d = a / 2\n",
        "print(f\"value of normal division (a / 2) = \",d)\n",
        "\n",
        "d = a // 2\n",
        "print(f\"Integer division = \", d);\n",
        "\n",
        "# Integer division\n",
        "a //= 2\n",
        "\n",
        "# Exponentiation\n",
        "a **= 3\n",
        "print(f\"value of exponentiation = \",a)\n",
        "\n",
        "# round()\n",
        "f = 7.8764236\n",
        "print(f\"Rounded value of {f} upto 2 decimal places {round(f,2)}\")\n",
        "\n",
        "\n",
        "# abs()\n",
        "n = -89\n",
        "print(f\"abs() of {n} is = {abs(n)}\")\n"
      ]
    },
    {
      "cell_type": "markdown",
      "metadata": {
        "id": "2BKteq4VUlN2"
      },
      "source": [
        "## Identity Operators in detail :\n",
        "\n",
        "* Identity operators are used to **compare the objects**.\n",
        "* If both the objects are actually of the `same data type` and `share the same memory location`.\n",
        "\n",
        "1.   `is = True` : If variables on either side of the it point to same object and `False` otherwise.\n",
        "2.   `is not = True` If variables on either side of it aren't same. and `False` otherwise."
      ]
    },
    {
      "cell_type": "code",
      "execution_count": null,
      "metadata": {
        "colab": {
          "base_uri": "https://localhost:8080/"
        },
        "id": "i-nitJkLYa6P",
        "outputId": "aa6f9fb7-5798-432b-84b2-b8c465787a13"
      },
      "outputs": [
        {
          "name": "stdout",
          "output_type": "stream",
          "text": [
            "False\n",
            "True\n",
            "False\n"
          ]
        }
      ],
      "source": [
        "# Example 1:\n",
        "a = 1000\n",
        "b = 1000\n",
        "print(a is b)\n",
        "\n",
        "# Example 2:\n",
        "x = 5\n",
        "y = 5\n",
        "print(x is y)\n",
        "\n",
        "# Example 3:\n",
        "x = [\"Geeks\", \"for\", \"Geeks\"]\n",
        "y = [\"Geeks\", \"for\", \"Geeks\"]\n",
        "print(x is y)\n"
      ]
    },
    {
      "cell_type": "markdown",
      "metadata": {
        "id": "eTcnzeHOhEyG"
      },
      "source": [
        "# Membership operators in detail:\n",
        "1. **in operator**:\n",
        "* It is used to check if a **character/ substring/ element** exists in a sequence or not.\n",
        "* Evaluate to `True` if it finds the specified element in a sequence otherwise `False`.\n",
        "\n",
        "*  **Time complexity** of the **in** operator for `lists` is **O(n)**. And for `sets` is **O(n)**\n",
        "\n",
        "\n",
        "---\n",
        "\n",
        "\n",
        "2. **not in** returns:\n",
        "* `True` : If finds the variable in sequence and `False` otherwise."
      ]
    },
    {
      "cell_type": "code",
      "execution_count": 1,
      "metadata": {
        "colab": {
          "base_uri": "https://localhost:8080/"
        },
        "id": "t4AmO9y-q_7h",
        "outputId": "dad62ff8-e394-4c84-d2c8-55187e5ad37f"
      },
      "outputs": [
        {
          "name": "stdout",
          "output_type": "stream",
          "text": [
            "comman elements are : [4, 5]\n"
          ]
        }
      ],
      "source": [
        "# Write a program to find comman element in list using 'in' operator:\n",
        "list1 = [1,2,3,4,5]\n",
        "list2 = [5,6,8,4]\n",
        "ans = list()\n",
        "\n",
        "for i in list1:\n",
        "  if i in list2:\n",
        "    ans.append(i)\n",
        "\n",
        "print(f\"comman elements are : {ans}\")"
      ]
    },
    {
      "cell_type": "markdown",
      "metadata": {
        "id": "xKJBgjiJyrHl"
      },
      "source": [
        "<img src=\"images\\green-divider.png\"/>"
      ]
    },
    {
      "cell_type": "markdown",
      "metadata": {
        "id": "nTxmCNRXyxzt"
      },
      "source": [
        "# math module:"
      ]
    },
    {
      "cell_type": "code",
      "execution_count": null,
      "metadata": {
        "colab": {
          "base_uri": "https://localhost:8080/"
        },
        "id": "NvKLHAg4y4ly",
        "outputId": "5d5d9409-da81-4d82-bdc0-95630fd26cf1"
      },
      "outputs": [
        {
          "name": "stdout",
          "output_type": "stream",
          "text": [
            "Built-in pi = 3.141592653589793\n",
            "Built-in e = 2.718281828459045\n",
            "square root = 5.385164807134504\n",
            "floor of x = 4\n",
            "ceil of x = 5\n"
          ]
        }
      ],
      "source": [
        "import math\n",
        "\n",
        "x = 29\n",
        "\n",
        "print(f\"Built-in pi = {math.pi}\")\n",
        "print(f\"Built-in e = {math.e}\")\n",
        "print(f\"square root = {math.sqrt(x)}\")\n",
        "\n",
        "a = 4.25\n",
        "\n",
        "print(f\"floor of x = {math.floor(a)}\")\n",
        "print(f\"ceil of x = {math.ceil(a)}\")\n",
        "\n",
        "\n"
      ]
    },
    {
      "cell_type": "code",
      "execution_count": null,
      "metadata": {
        "colab": {
          "base_uri": "https://localhost:8080/"
        },
        "id": "VBUte58B0XVZ",
        "outputId": "3f3650b1-cca9-4c3c-a921-fcb9a46cb29f"
      },
      "outputs": [
        {
          "name": "stdout",
          "output_type": "stream",
          "text": [
            "Enter length of side A = 3\n",
            "Enter length of side B = 4\n",
            "length of third side = 5.0\n"
          ]
        }
      ],
      "source": [
        "# Write a program to find hypotenuse of a right triangle\n",
        "import math\n",
        "a = int(input(\"Enter length of side A = \"))\n",
        "b = int(input(\"Enter length of side B = \"))\n",
        "\n",
        "h = math.sqrt(a**2 + b**2)\n",
        "print(f\"length of third side = {h}\")"
      ]
    },
    {
      "cell_type": "markdown",
      "metadata": {
        "id": "0qqHLmX2gbjX"
      },
      "source": [
        "# random module\n",
        "1. randrange(*start*, *stop*, *step*)\n",
        "2. randint( a,b ):\n",
        "   -  range = [a,b]\n",
        "3. random():\n",
        "   -  x is in range = [0,1)\n",
        "   -  Basically it's float values"
      ]
    },
    {
      "cell_type": "code",
      "execution_count": 32,
      "metadata": {
        "colab": {
          "base_uri": "https://localhost:8080/"
        },
        "id": "IELq6WIVgaKY",
        "outputId": "530e59c8-1ee6-4898-e5b4-19f625aa02b0"
      },
      "outputs": [
        {
          "name": "stdout",
          "output_type": "stream",
          "text": [
            "11\n",
            "0.008221398202102548\n"
          ]
        }
      ],
      "source": [
        "import random\n",
        "# let's use randrange()\n",
        "random = random.randrange(1,15,2)\n",
        "print(random)\n"
      ]
    },
    {
      "cell_type": "markdown",
      "metadata": {},
      "source": [
        "### choice() in 'random' module\n",
        "* returns a randomly selected element from the specified sequence.\n",
        "* The sequence can be a *string*, a **range*, a *list*, a *tuple* or any other kind of sequence."
      ]
    },
    {
      "cell_type": "code",
      "execution_count": 2,
      "metadata": {},
      "outputs": [
        {
          "name": "stdout",
          "output_type": "stream",
          "text": [
            "We\n",
            "4\n",
            "M\n"
          ]
        }
      ],
      "source": [
        "import random\n",
        "# for List:\n",
        "List= [\"him\", \"he\", \"she\", \"her\", \"I\", \"We\"]\n",
        "print( random.choice(List) )\n",
        "\n",
        "# for range()\n",
        "print( random.choice( range(1,10) ))\n",
        "\n",
        "# for string\n",
        "print( random.choice( \"WELCOME\") ) # giving random letter as output\n"
      ]
    },
    {
      "cell_type": "markdown",
      "metadata": {
        "id": "Vjw_aYgwlxeq"
      },
      "source": [
        "### EXERCISE :           \n",
        "You are going to write a virtual coin toss program. It will randomly tell the user \"Heads\" or \"Tails\".\n",
        "\n",
        "Important, the first letter should be capitalised and spelt exactly like in the example e.g. \"Heads\", not \"heads\".\n",
        "\n",
        "There are many ways of doing this. But to practice what we learnt in the last lesson, you should generate a random number, either 0 or 1. Then use that number to print out \"Heads\" or \"Tails\".\n",
        "\n",
        "e.g. 1 means Heads 0 means Tails"
      ]
    },
    {
      "cell_type": "code",
      "execution_count": 33,
      "metadata": {
        "colab": {
          "base_uri": "https://localhost:8080/"
        },
        "id": "4Jxrloojl4sk",
        "outputId": "83576af6-67f8-49ec-8ee9-92b0d7bc61a6"
      },
      "outputs": [
        {
          "name": "stdout",
          "output_type": "stream",
          "text": [
            "Heads\n"
          ]
        }
      ],
      "source": [
        "import random\n",
        "\n",
        "random = random.randint(0,1)\n",
        "if random == 1 :\n",
        "  print(\"Heads\")\n",
        "else:\n",
        "  print(\"Tails\")"
      ]
    },
    {
      "cell_type": "markdown",
      "metadata": {
        "id": "pXfI-Xj01u-m"
      },
      "source": [
        "<img src=\"images\\green-divider.png\"/>"
      ]
    },
    {
      "cell_type": "markdown",
      "metadata": {
        "id": "UeZAftHQFx_Z"
      },
      "source": [
        "# control flow:\n",
        "- Loops and if-else blocks"
      ]
    },
    {
      "cell_type": "markdown",
      "metadata": {
        "id": "bGwEXbMDWgMT"
      },
      "source": [
        "## ( if - else - elif ) in python :\n",
        "* `elif` is similar to `else if` in c++. Otherwise `if-else` are already same.\n",
        "* Only one difference colon ( : ). Here in python `colon` is used to represent a block of code like `paranthesis` does in c++."
      ]
    },
    {
      "cell_type": "code",
      "execution_count": null,
      "metadata": {
        "colab": {
          "base_uri": "https://localhost:8080/"
        },
        "id": "Iprq_J0F1wtf",
        "outputId": "e45a8d74-1826-4a89-b5b5-5fa90ad15c00"
      },
      "outputs": [
        {
          "name": "stdout",
          "output_type": "stream",
          "text": [
            "Choose an operator from (+ , - , / , *) : *\n",
            "Enter first number : 8\n",
            "Enter second number : 6\n",
            "Multiplication = 48\n"
          ]
        }
      ],
      "source": [
        "# Calculator program to demonstrate if-else-elif:\n",
        "op = input(\"Choose an operator from (+ , - , / , *) : \")\n",
        "n1 = int(input(\"Enter first number : \"))\n",
        "n2 = int(input(\"Enter second number : \"))\n",
        "\n",
        "if op == '+':\n",
        "  print(f\"sum = {n1 + n2}\")\n",
        "elif op == \"-\":\n",
        "  print(f\"subtraction = {n1-n2}\")\n",
        "elif op == \"*\":\n",
        "  print(f\"Multiplication = {n1*n2}\")\n",
        "else:\n",
        "  print(f\"division = {n1/n2}\")"
      ]
    },
    {
      "cell_type": "code",
      "execution_count": 2,
      "metadata": {},
      "outputs": [
        {
          "name": "stdout",
          "output_type": "stream",
          "text": [
            "True\n"
          ]
        }
      ],
      "source": [
        "word = \"avacado\"\n",
        "ans = (\"v\" in word)\n",
        "print(ans)"
      ]
    },
    {
      "cell_type": "markdown",
      "metadata": {
        "id": "BpX0bLjCFx_a"
      },
      "source": [
        "---"
      ]
    },
    {
      "cell_type": "markdown",
      "metadata": {
        "id": "7SBrbHEIFx_a"
      },
      "source": [
        "### Exercise:\n",
        "Write a program that check out whether if a given year is a leap year. A normal year has 365 days, leap years have 366, with an extra day in February. The reason why we have leap years is really fascinating, this video does it more justice.\n",
        "\n",
        "This is how you check out whether if a particular year is a leap year.\n",
        "- on every year that is divisible by 4 with no remainder\n",
        "- **except** every year that is evenly divisible by 100 with no remainder\n",
        "- **unless** the year is also divisible by 400 with no remainder\n",
        "\n",
        "e.g. The year 2000:\n",
        "   - 2000 ÷ 4 = 500 (Leap)\n",
        "   - 2000 ÷ 100 = 20 (Not Leap)\n",
        "   - 2000 ÷ 400 = 5 (Leap!)\n",
        "- So the year 2000 is a leap year.\n",
        "\n",
        "But the year 2100 is not a leap year because:\n",
        "- 2100 ÷ 4 = 525 (Leap)\n",
        "- 2100 ÷ 100 = 21 (Not Leap)\n",
        "- 2100 ÷ 400 = 5.25 (Not Leap)\n",
        "---\n",
        "#### ALGORITHM :\n",
        "<img src=\"images\\algo.png\"/>\n"
      ]
    },
    {
      "cell_type": "code",
      "execution_count": null,
      "metadata": {
        "colab": {
          "base_uri": "https://localhost:8080/"
        },
        "id": "li_e3ufnFx_a",
        "outputId": "a50fafac-778b-4253-aa0c-acb98d5be9e2"
      },
      "outputs": [
        {
          "name": "stdout",
          "output_type": "stream",
          "text": [
            "Enter year : 2100\n",
            "Not a Leap year\n"
          ]
        }
      ],
      "source": [
        "year = int(input(\"Enter year : \"))\n",
        "\n",
        "if year % 4 == 0:\n",
        "    if year % 100 == 0:\n",
        "        if year % 400 == 0:\n",
        "            print(\"Yes, It's a Leap year\")\n",
        "        else :\n",
        "            print(\"Not a Leap year\")\n",
        "    else :\n",
        "        print(\"Yes, It's a Leap year\")\n",
        "else :\n",
        "    print(\"Not a Leap year\")"
      ]
    },
    {
      "cell_type": "markdown",
      "metadata": {
        "id": "oL0oGqmIFx_a"
      },
      "source": [
        "## EXERCISE 2 :\n",
        "\n",
        "You are going to write a program that tests the compatibility between two people.\n",
        "\n",
        "To work out the love score between two people:\n",
        "- Take both people's names and check for the number of times the letters in the word TRUE occurs.\n",
        "- Then check for the number of times the letters in the word LOVE occurs.\n",
        "- Then combine these numbers to make a 2 digit number.\n",
        "\n",
        "For Love Scores less than 10 or greater than 90, the message should be:\n",
        "- \"Your score is *x*, you go together like coke and mentos.\"\n",
        "For Love Scores between 40 and 50, the message should be:\n",
        "- \"Your score is *y*, you are alright together.\"\n",
        "\n",
        "Otherwise, the message will just be their score. e.g.:\n",
        "\n",
        "\"Your score is *z*.\"\n",
        "e.g.\n",
        "\n",
        "name1 = \"Angela Yu\"\n",
        "name2 = \"Jack Bauer\"\n",
        "\n",
        "- T occurs 0 times\n",
        "- R occurs 1 time\n",
        "- U occurs 2 times\n",
        "- E occurs 2 times\n",
        "\n",
        "Total = 5\n",
        "\n",
        "- L occurs 1 time\n",
        "- O occurs 0 times\n",
        "- V occurs 0 times\n",
        "- E occurs 2 times\n",
        "\n",
        "Total = 3\n",
        "\n",
        "Love Score = 53\n",
        "\n",
        "**Print: \"Your score is 53.\"**\n",
        "\n",
        "----\n",
        "### Important functions we can use here :\n",
        "1. **count()** :\n",
        "   -  **SYNTAX :**   ***string.count(\"char\")***        -> It will return the number of characters present in that string.\n",
        "\n",
        "2. **lower()**:\n",
        "   -  **SYNTAX :**  ***string.lower()***   -> It will convert all characters of that string into lowercase."
      ]
    },
    {
      "cell_type": "code",
      "execution_count": null,
      "metadata": {
        "colab": {
          "base_uri": "https://localhost:8080/"
        },
        "id": "jOqzlYS9Fx_b",
        "outputId": "856fc710-6272-4418-8c4a-719ead71e652"
      },
      "outputs": [
        {
          "name": "stdout",
          "output_type": "stream",
          "text": [
            "David Beckham\n",
            "Victoria Beckham\t\n",
            "Your score is 45, you are alright together.\n"
          ]
        }
      ],
      "source": [
        "# Here we can use count() to count characters\n",
        "name1 = input().lower()\n",
        "name2 = input().lower()\n",
        "\n",
        "# Now I have to count letters of TRUE in both names\n",
        "Tcount = 0\n",
        "Tcount += ( name1.count(\"t\") + name1.count(\"r\") + name1.count(\"u\") + name1.count(\"e\") )\n",
        "Tcount += ( name2.count(\"t\") + name2.count(\"r\") + name2.count(\"u\") + name2.count(\"e\") )\n",
        "\n",
        "# Now I have to count letters of LOVE in both names\n",
        "Lcount = 0\n",
        "Lcount += ( name1.count(\"l\") + name1.count(\"o\") + name1.count(\"v\") + name1.count(\"e\") )\n",
        "Lcount += ( name2.count(\"l\") + name2.count(\"o\") + name2.count(\"v\") + name2.count(\"e\") )\n",
        "\n",
        "score = Tcount * 10 + Lcount\n",
        "\n",
        "if score < 10 and score > 90:\n",
        "    print(f\"Your score is {score}, you go together like coke and mentos.\")\n",
        "elif score > 40 and score < 50:\n",
        "    print(f\"Your score is {score}, you are alright together.\")\n",
        "else :\n",
        "    print(f\"Your score is {score}.\")\n"
      ]
    },
    {
      "cell_type": "markdown",
      "metadata": {},
      "source": [
        "---\n"
      ]
    },
    {
      "cell_type": "markdown",
      "metadata": {},
      "source": [
        "# Loops in python:"
      ]
    },
    {
      "cell_type": "code",
      "execution_count": 3,
      "metadata": {},
      "outputs": [
        {
          "name": "stdout",
          "output_type": "stream",
          "text": [
            "Him\n",
            "HE\n",
            "she\n",
            "her\n"
          ]
        }
      ],
      "source": [
        "List = [\"Him\", \"HE\", \"she\", \"her\"]\n",
        "\n",
        "# I call it, For-each loop\n",
        "for item in List:\n",
        "    print(item)"
      ]
    },
    {
      "cell_type": "markdown",
      "metadata": {},
      "source": [
        "## range():\n",
        "* SYNTAX : range( *start*, *end*, *step* )\n",
        "* *end* is excluded."
      ]
    },
    {
      "cell_type": "code",
      "execution_count": 7,
      "metadata": {},
      "outputs": [
        {
          "name": "stdout",
          "output_type": "stream",
          "text": [
            "[2, 4, 6, 8]\n"
          ]
        }
      ],
      "source": [
        "# combining LC for more clarity\n",
        "List = [i for i in range(2,10,2)]\n",
        "print(List)"
      ]
    },
    {
      "cell_type": "code",
      "execution_count": 8,
      "metadata": {},
      "outputs": [
        {
          "name": "stdout",
          "output_type": "stream",
          "text": [
            "0\n",
            "1\n",
            "2\n",
            "3\n",
            "4\n"
          ]
        }
      ],
      "source": [
        "# By default, It starts from 0 and 'end' is not included.\n",
        "for i in range(5):\n",
        "    print(i)"
      ]
    },
    {
      "cell_type": "markdown",
      "metadata": {},
      "source": [
        "## Exercise: Print the sum of all even numbers from 1 to N using range().\n"
      ]
    },
    {
      "cell_type": "code",
      "execution_count": 16,
      "metadata": {},
      "outputs": [
        {
          "name": "stdout",
          "output_type": "stream",
          "text": [
            "2 4 6 8 10 12 14 16 18 20 22 24 \n",
            "sum = 156\n"
          ]
        }
      ],
      "source": [
        "N = int(input())\n",
        "\n",
        "sum = 0\n",
        "for i in range( 2 , N+1, 2):\n",
        "    sum += i\n",
        "    print(i,end=\" \")\n",
        "\n",
        "print(f\"\\nsum = {sum}\")"
      ]
    },
    {
      "cell_type": "markdown",
      "metadata": {
        "id": "YaBX1rV2G7Wa"
      },
      "source": [
        "<img src=\"images\\purple-divider.png\"/>"
      ]
    },
    {
      "cell_type": "markdown",
      "metadata": {
        "id": "tCWUS2jUuY72"
      },
      "source": [
        "## Numbers ( decimal, octal, binary and hexadecimal ):\n",
        "### 1. Decimal : Normal numbers that we usually deal with.\n",
        "### 2. binary :     \n",
        "\n",
        "*   bin() constructor :   converts a number into binary. and return as str\n",
        "*   binary numbers are having prefix **0b**\n",
        "*   Example : 0b1001\n",
        "\n",
        "### 3. oct :    \n",
        "*  oct() constructor : converts a number into octal. and return result as str\n",
        "*  octals prefixed with **0o**.\n",
        "\n",
        "### 4. hex :\n",
        "*  hex() constructor converts number into hexadecimal. and return as str.\n",
        "*  prefixed with **0x**.\n",
        "\n"
      ]
    },
    {
      "cell_type": "code",
      "execution_count": null,
      "metadata": {
        "colab": {
          "base_uri": "https://localhost:8080/"
        },
        "id": "tmje5tFLIWls",
        "outputId": "ab88ad00-2784-47a5-acb0-312c315817f0"
      },
      "outputs": [
        {
          "name": "stdout",
          "output_type": "stream",
          "text": [
            "0xf\n",
            "0b1111\n",
            "0o17\n"
          ]
        }
      ],
      "source": [
        "num = 15\n",
        "h =  hex(num) # output = 0xf\n",
        "b = bin(num)  # Output = 0b1111\n",
        "\n",
        "# Can we convert hex into binary directly using bin().\n",
        "#print( bin(h) )   # Error : 'str' object cannot be interpreted as an integer.\n",
        "print(h)\n",
        "print(b)\n",
        "print( oct(num) )"
      ]
    },
    {
      "cell_type": "markdown",
      "metadata": {
        "id": "FbWmDYojFx_c"
      },
      "source": [
        "<img src=\"images\\green-divider.png\"/>"
      ]
    },
    {
      "cell_type": "markdown",
      "metadata": {
        "id": "IaLeXsPaFx_c"
      },
      "source": [
        "## fstring in python:"
      ]
    },
    {
      "cell_type": "code",
      "execution_count": null,
      "metadata": {
        "id": "oeAiVW9WFx_c"
      },
      "outputs": [],
      "source": []
    },
    {
      "cell_type": "markdown",
      "metadata": {
        "id": "k8oH-y68HBXC"
      },
      "source": [
        "## Format specifiers in python:\n",
        "\n",
        "### SYNTAX :-  {value:flags}\n",
        "\n",
        "1. **`.(number)f`** -> Rounds the value upto that(number) many places.\n",
        "2. **`:(number)`** -> Allocate that many places.\n",
        "3. **`:0number`** -> attach zeroes in front of value.\n",
        "4. **`:<number`** -> left justified result. Here by default `number - (digits in value)` spaces will be added at end of value\n",
        "5. **`:>number`** -> same as above, but spaces will be added in front of value.\n",
        "6. **`:^number`** -> Same as above, However we can also add 0 instead of spaces.\n",
        "7. **`:+`** -> Any positive number will be preceded with + sign. and negative number remain same.\n",
        "8. **`:, `** -> Helps in representing value in thousand separater like:  4,697\n",
        "\n"
      ]
    },
    {
      "cell_type": "code",
      "execution_count": null,
      "metadata": {
        "colab": {
          "base_uri": "https://localhost:8080/"
        },
        "id": "RVHkk0NpdfM3",
        "outputId": "9f177418-6e05-4ddd-8547-c616743710ea"
      },
      "outputs": [
        {
          "name": "stdout",
          "output_type": "stream",
          "text": [
            "=>  round of upto 2 decimal places..\n",
            "round the 5.165464 upto 2 decimal places = 5.17\n",
            "________________________________________________________________\n",
            "\n",
            "=>  this will create spaces in front of result..\n",
            "                      5.165464\n",
            "                         4.364\n",
            "                         -1.23\n",
            "________________________________________________________________\n",
            "\n",
            "=>  Prefixing with zeroes..\n",
            "00000000000000000000005.165464\n",
            "________________________________________________________________\n",
            "\n",
            "=>  left justified the result: \n",
            "5.165464            \n",
            "4.364               \n",
            "-1.23               \n",
            "\n",
            "=>  Now let's see right justfied..\n",
            "            5.165464\n",
            "               4.364\n",
            "               -1.23\n",
            "\n",
            "=> Now let's see center justified....\n",
            "      5.165464      \n",
            "       4.364        \n",
            "       -1.23        \n",
            "________________________________________________________________\n",
            "\n",
            "=>  let's use thousand separator\n",
            "Representation of 7452369 in thousand separate format = 7,452,369\n",
            "________________________________________________________________\n",
            "\n",
            "=>numbers will be preceded with + sign and negative number remain same..\n",
            "           +5.165464\n",
            "              +4.364\n",
            "               -1.23\n",
            "________________________________________________________________\n",
            "We can also use mix format specifiers.Like here we're using 2 format specifiers..\n",
            "                5.17\n",
            "                4.36\n",
            "               -1.23\n"
          ]
        }
      ],
      "source": [
        "num = 5.165464\n",
        "num2 = 4.364\n",
        "num3 = -1.23\n",
        "\n",
        "# syntax : { : flags}\n",
        "# 1. Rounds the value upto 2 decimal places :\n",
        "print(\"=>  round of upto 2 decimal places..\")\n",
        "print(f\"round the {num} upto 2 decimal places = {num:.2f}\")\n",
        "print(\"________________________________________________________________\")\n",
        "\n",
        "print(\"\\n=>  this will create spaces in front of result..\")\n",
        "# 2. # will attach space in front of num\n",
        "print(f\"{num:30}\") # ( spaces = 30 - [digits in num] )\n",
        "print(f\"{num2:30}\")\n",
        "print(f\"{num3:30}\")\n",
        "print(\"________________________________________________________________\")\n",
        "\n",
        "# 3. Below will attach zeroes in front of number.\n",
        "print(f\"\\n=>  Prefixing with zeroes..\")\n",
        "print(f\"{num:030}\") # Here total digits will be 30 i.e. (digits in num + zeroes = 30)\n",
        "print(\"________________________________________________________________\")\n",
        "\n",
        "# 4. left justified the result\n",
        "print(\"\\n=>  left justified the result: \")\n",
        "print(f\"{num:<20}\")\n",
        "print(f\"{num2:<20}\")\n",
        "print(f\"{num3:<20}\")\n",
        "\n",
        "print(\"\\n=>  Now let's see right justfied..\")\n",
        "print(f\"{num:>20}\")\n",
        "print(f\"{num2:>20}\")\n",
        "print(f\"{num3:>20}\")\n",
        "\n",
        "print(\"\\n=> Now let's see center justified....\")\n",
        "print(f\"{num:^20}\")\n",
        "print(f\"{num2:^20}\")\n",
        "print(f\"{num3:^20}\")\n",
        "print(\"________________________________________________________________\")\n",
        "\n",
        "print(\"\\n=>  let's use thousand separator\")\n",
        "n = 7452369\n",
        "print(f\"Representation of {n} in thousand separate format = {n:,}\")\n",
        "print(\"________________________________________________________________\")\n",
        "\n",
        "print(\"\\n=>numbers will be preceded with + sign and negative number remain same..\")\n",
        "print(f\"{num:+20}\")\n",
        "print(f\"{num2:+20}\")\n",
        "print(f\"{num3:+20}\")\n",
        "print(\"________________________________________________________________\")\n",
        "\n",
        "print(\"We can also use mix format specifiers.Like here we're using 2 format specifiers..\")\n",
        "print(f\"{num:>20.2f}\")\n",
        "print(f\"{num2:>20.2f}\")\n",
        "print(f\"{num3:>20.2f}\")"
      ]
    },
    {
      "cell_type": "markdown",
      "metadata": {},
      "source": [
        "<img src=\"images\\green-divider.png\"/>"
      ]
    },
    {
      "cell_type": "markdown",
      "metadata": {},
      "source": [
        "# functions in python\n",
        "* while creating any block of code in python ***indentation*** is very important.For example : if-block, loops, and functional block\n",
        "* functions in python are created using **def** keyword."
      ]
    },
    {
      "cell_type": "code",
      "execution_count": 4,
      "metadata": {},
      "outputs": [
        {
          "name": "stdout",
          "output_type": "stream",
          "text": [
            "Hi!\n"
          ]
        }
      ],
      "source": [
        "# Example:\n",
        "def sayHi():\n",
        "    print(\"Hi!\")\n",
        "\n",
        "sayHi()"
      ]
    },
    {
      "cell_type": "markdown",
      "metadata": {},
      "source": [
        "# unpacking "
      ]
    },
    {
      "cell_type": "code",
      "execution_count": null,
      "metadata": {},
      "outputs": [],
      "source": [
        "def demo_unpacking(**data):\n",
        "    ...\n",
        "\n",
        "\n",
        "List = [1,2,3,4,5,6,7]\n",
        "Dict = {\n",
        "    \"Name\":\"David\",\n",
        "    \"Roll No\": 123,\n",
        "}"
      ]
    },
    {
      "cell_type": "code",
      "execution_count": null,
      "metadata": {},
      "outputs": [],
      "source": []
    }
  ],
  "metadata": {
    "colab": {
      "include_colab_link": true,
      "provenance": []
    },
    "kernelspec": {
      "display_name": "Python 3",
      "name": "python3"
    },
    "language_info": {
      "codemirror_mode": {
        "name": "ipython",
        "version": 3
      },
      "file_extension": ".py",
      "mimetype": "text/x-python",
      "name": "python",
      "nbconvert_exporter": "python",
      "pygments_lexer": "ipython3",
      "version": "3.11.8"
    }
  },
  "nbformat": 4,
  "nbformat_minor": 0
}

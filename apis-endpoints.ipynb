{
 "cells": [
  {
   "cell_type": "markdown",
   "metadata": {},
   "source": [
    "# API\n",
    "* What are APIs ?\n",
    "* Why they Used ?\n",
    "\n",
    "\n",
    "### API-endpoint :\n",
    "* It's just a URL or location of resource over the server. Just like a URL of website you enter in browser."
   ]
  },
  {
   "cell_type": "code",
   "execution_count": null,
   "metadata": {},
   "outputs": [],
   "source": []
  },
  {
   "cell_type": "markdown",
   "metadata": {},
   "source": [
    "## Http response status-codes?\n",
    "### Generally,\n",
    "* **`1XX`** : HOLD ON, something is happening (processing)\n",
    "* **`2XX`** : Successful\n",
    "* **`3XX`** : You don't actually have permission\n",
    "* **`4XX`** : You screwed up\n",
    "* **`5XX`** : I screwed up"
   ]
  },
  {
   "cell_type": "markdown",
   "metadata": {},
   "source": [
    "\n",
    "Certainly! Here is a brief overview of HTTP status codes, which are used to indicate the result of a client’s request to a server:\n",
    "\n",
    "## 1xx: Informational\n",
    "\n",
    "* **100 Continue:** *The server has received the request headers, and the client should proceed to send the request body.*\n",
    "\n",
    "* **101 Switching Protocols:** *The requester has asked the server to switch protocols, and the server is acknowledging that it will do so.*\n",
    "\n",
    "* **102 Processing:** *The server has received and is processing the request, but no response is available yet.*\n",
    "\n"
   ]
  },
  {
   "cell_type": "markdown",
   "metadata": {},
   "source": [
    "## 2xx: Success\n",
    "* **200 OK:** *The request was successful, and the server has returned the requested resource.*\n",
    "\n",
    "* **201 Created:** *The request was successful, and a new resource was created.*\n",
    "\n",
    "* **202 Accepted:** *The request has been accepted for processing, but the processing is not complete.*\n",
    "\n",
    "* **203 Non-Authoritative Information:** *The returned metadata is not exactly the same as available from the origin server.*\n",
    "\n",
    "* **204 No Content:** *The server successfully processed the request, but there is no content to send in the response.*\n",
    "\n",
    "* **205 Reset Content:** *The server successfully processed the request, but asks the client to reset the document view.*\n",
    "\n",
    "* **206 Partial Content:** *The server is delivering only part of the resource due to a range header sent by the client.*\n"
   ]
  },
  {
   "cell_type": "markdown",
   "metadata": {},
   "source": [
    "## 3xx: Redirection\n",
    "\n",
    "* **300 Multiple Choices:** *There are multiple options for the resource that the client may follow.*\n",
    "\n",
    "* **301 Moved Permanently:** *The resource has been moved to a new URL permanently.*\n",
    "\n",
    "* **302 Found:** *The resource has been temporarily moved to a new URL.*\n",
    "\n",
    "* **303 See Other:** *The response can be found under a different URI and should be retrieved using a GET method.*\n",
    "\n",
    "* **304 Not Modified:** *The resource has not been modified since the last request.*\n",
    "\n",
    "* **305 Use Proxy:** *The requested resource is only available through a proxy.*\n",
    "\n",
    "* **307 Temporary Redirect:** *The resource is temporarily moved to a different URL, and the request should be repeated with the original URL.*\n",
    "\n",
    "* **308 Permanent Redirect:** *The resource is permanently moved to a different URL, and future requests should use the new URL.*\n",
    "\n"
   ]
  },
  {
   "cell_type": "markdown",
   "metadata": {},
   "source": [
    "## 4xx: Client Errors\n",
    "\n",
    "* **400 Bad Request:**  *The server could not understand the request due to invalid syntax.*\n",
    "\n",
    "* **401 Unauthorized:**  *The client must authenticate itself to get the requested response.*\n",
    "\n",
    "* **402 Payment Required:**  *Reserved for future use.*\n",
    "\n",
    "* **403 Forbidden:**  *The client does not have access rights to the content.*\n",
    "\n",
    "* **404 Not Found:**  *The server can not find the requested resource.*\n",
    "\n",
    "* **405 Method Not Allowed:**  *The request method is known by the server but has been disabled and cannot be used.*\n",
    "\n",
    "* **406 Not Acceptable:**  *The server cannot produce a response matching the list of acceptable values defined in the request's headers.*\n",
    "\n",
    "* **407 Proxy Authentication Required:**  *The client must first authenticate itself with the proxy.*\n",
    "\n",
    "* **408 Request Timeout:**  *The server timed out waiting for the request.*\n",
    "\n",
    "* **409 Conflict:**  *The request could not be completed due to a conflict with the current state of the resource.*\n",
    "\n",
    "* **410 Gone:**  *The resource requested is no longer available and will not be available again.*\n",
    "\n",
    "* **411 Length Required:**  *The request did not specify the length of its content, which is required by the requested resource.*\n",
    "\n",
    "* **412 Precondition Failed:**  *The server does not meet one of the preconditions that the requester put on the request.*\n",
    "\n",
    "* **413 Payload Too Large:**  *The request is larger than the server is willing or able to process.*\n",
    "\n",
    "* **414 URI Too Long:**  *The URI provided was too long for the server to process.*\n",
    "\n",
    "* **415 Unsupported Media Type:**  *The request entity has a media type which the server or resource does not support.*\n",
    "\n",
    "* **416 Range Not Satisfiable:**  *The client has asked for a portion of the file, but the server cannot supply that portion.*\n",
    "\n",
    "* **417 Expectation Failed:**  *The server cannot meet the requirements of the Expect request-header field.*\n",
    "\n",
    "* **418 I'm a Teapot:**  *This code was defined in 1998 as an April Fools' joke and is not expected to be implemented by actual HTTP servers.*\n",
    "\n",
    "* **421 Misdirected Request:**  *The request was directed at a server that is not able to produce a response.*\n",
    "\n",
    "* **422 Unprocessable Entity:**  *The request was well-formed but was unable to be followed due to semantic errors.*\n",
    "\n",
    "* **423 Locked:**  *The resource that is being accessed is locked.*\n",
    "\n",
    "* **424 Failed Dependency:**  *The request failed due to failure of a previous request.*\n",
    "\n",
    "* **425 Too Early:**  *Indicates that the server is unwilling to risk processing a request that might be replayed.*\n",
    "\n",
    "* **426 Upgrade Required:**  *The client should switch to a different protocol.*\n",
    "\n",
    "* **428 Precondition Required:**  *The origin server requires the request to be conditional.*\n",
    "\n",
    "* **429 Too Many Requests:**  *The user has sent too many requests in a given amount of time.*\n",
    "\n",
    "* **431 Request Header Fields Too Large:**  *The server is unwilling to process the request because its header fields are too large.*\n",
    "\n",
    "* **451 Unavailable For Legal Reasons:**  *The user-agent requested a resource that cannot legally be provided, such as a web page censored by a government."
   ]
  },
  {
   "cell_type": "markdown",
   "metadata": {},
   "source": [
    "## 5xx: Server Errors\n",
    "* **500 Internal Server Error:** *The server has encountered a situation it doesn't know how to handle.*\n",
    "\n",
    "* **501 Not Implemented:** * *The request method is not supported by the server and cannot be handled.*\n",
    "\n",
    "* **502 Bad Gateway:** *The server, while acting as a gateway or proxy, received an invalid response from the upstream server.*\n",
    "\n",
    "* **503 Service Unavailable:** *The server is not ready to handle the request, usually due to maintenance or overloading.*\n",
    "\n",
    "* **504 Gateway Timeout:** *The server, while acting as a gateway or proxy, did not get a response in time from the upstream server.*\n",
    "\n",
    "* **505 HTTP Version Not Supported:** *The HTTP version used in the request is not supported by the server.*\n",
    "\n",
    "* **506Variant Also Negotiates:** *The server has an internal configuration error.*\n",
    "\n",
    "* **507 Insufficient Storage:** *The server is unable to store the representation needed to complete the request.*\n",
    "  \n",
    "* **508 Loop Detected:** *The server detected an infinite loop while processing a request with \"Depth: infinity\".*\n",
    "\n",
    "* **510 Not Extended:** *Further extensions to the request are required for the server to fulfill it.*\n",
    "\n",
    "* **511 Network Authentication Required:** *The client needs to authenticate to gain network access.*\n"
   ]
  },
  {
   "cell_type": "markdown",
   "metadata": {},
   "source": [
    "<img src=\"images\\green-divider.png\"/>"
   ]
  },
  {
   "cell_type": "markdown",
   "metadata": {},
   "source": [
    "<img src=\"images\\purple-divider.png\"/>"
   ]
  },
  {
   "cell_type": "markdown",
   "metadata": {},
   "source": [
    "# request library:\n",
    "* A simple HTTP library for Python"
   ]
  },
  {
   "cell_type": "code",
   "execution_count": 20,
   "metadata": {},
   "outputs": [
    {
     "name": "stdout",
     "output_type": "stream",
     "text": [
      "{'message': 'Requires authentication', 'documentation_url': 'https://docs.github.com/rest/users/users#get-the-authenticated-user', 'status': '401'}\n"
     ]
    }
   ],
   "source": [
    "import requests\n",
    "r = requests.get('https://api.github.com/user', auth=('user', 'pass'))\n",
    "data = r.json()\n",
    "\n",
    "print(data)"
   ]
  },
  {
   "cell_type": "markdown",
   "metadata": {},
   "source": [
    "## Exercise: Build a Kanye quotes APP using Kanye Rest API:"
   ]
  },
  {
   "cell_type": "code",
   "execution_count": 3,
   "metadata": {},
   "outputs": [],
   "source": []
  },
  {
   "cell_type": "code",
   "execution_count": 21,
   "metadata": {},
   "outputs": [
    {
     "name": "stdout",
     "output_type": "stream",
     "text": [
      "Sometimes you have to get rid of everything\n"
     ]
    }
   ],
   "source": [
    "\n",
    "import requests\n",
    "\n",
    "response = requests.get(url=\"https://api.kanye.rest/\")\n",
    "data = response.json()['quote']\n",
    "print(data)"
   ]
  },
  {
   "cell_type": "markdown",
   "metadata": {},
   "source": []
  }
 ],
 "metadata": {
  "kernelspec": {
   "display_name": ".env",
   "language": "python",
   "name": "python3"
  },
  "language_info": {
   "codemirror_mode": {
    "name": "ipython",
    "version": 3
   },
   "file_extension": ".py",
   "mimetype": "text/x-python",
   "name": "python",
   "nbconvert_exporter": "python",
   "pygments_lexer": "ipython3",
   "version": "3.12.3"
  }
 },
 "nbformat": 4,
 "nbformat_minor": 2
}

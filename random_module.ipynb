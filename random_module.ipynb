{
 "cells": [
  {
   "cell_type": "markdown",
   "metadata": {},
   "source": [
    "# random module\n",
    "\n",
    "Everything starts from importing **random** module.\n",
    "\n",
    "```py\n",
    "import random\n",
    "```\n"
   ]
  },
  {
   "cell_type": "markdown",
   "metadata": {},
   "source": [
    "# 1. GENERATING RANDOM NUMBERS:\n",
    "## 1.1 random.random() : \n",
    "  - Returns a random floating-point **number** between **[0, 1)**."
   ]
  },
  {
   "cell_type": "code",
   "execution_count": 5,
   "metadata": {},
   "outputs": [
    {
     "name": "stdout",
     "output_type": "stream",
     "text": [
      "0.04\n",
      "0.37\n",
      "0.32\n",
      "0.87\n",
      "0.25\n",
      "0.13\n",
      "0.72\n",
      "0.88\n",
      "0.83\n"
     ]
    }
   ],
   "source": [
    "import random\n",
    "for i in range(1,10):\n",
    "    print(f\"{random.random():.2f}\")"
   ]
  },
  {
   "cell_type": "markdown",
   "metadata": {},
   "source": [
    "## 1.2 random.uniform(a,b): \n",
    "- **Generates a random floating-point number in the range [a, b].**"
   ]
  },
  {
   "cell_type": "code",
   "execution_count": 6,
   "metadata": {},
   "outputs": [
    {
     "name": "stdout",
     "output_type": "stream",
     "text": [
      "33.99\n",
      "35.24\n",
      "31.75\n",
      "32.95\n",
      "31.00\n",
      "33.72\n",
      "31.01\n",
      "37.72\n",
      "32.23\n"
     ]
    }
   ],
   "source": [
    "import random\n",
    "\n",
    "for i in range(1, 10):\n",
    "  print(f\"{random.uniform(30,40):.2f}\")"
   ]
  },
  {
   "cell_type": "markdown",
   "metadata": {},
   "source": [
    "## 1.3 random.randint():\n",
    "\n",
    "**Returns a random *INTEGER* between a and b (both inclusive).**"
   ]
  },
  {
   "cell_type": "code",
   "execution_count": 7,
   "metadata": {},
   "outputs": [
    {
     "name": "stdout",
     "output_type": "stream",
     "text": [
      "25\n",
      "25\n",
      "30\n",
      "29\n",
      "28\n",
      "28\n",
      "24\n",
      "27\n",
      "20\n"
     ]
    }
   ],
   "source": [
    "import random\n",
    "\n",
    "for i in range(1,10):\n",
    "    print(f\"{random.randint(20,30)}\")"
   ]
  },
  {
   "cell_type": "markdown",
   "metadata": {},
   "source": [
    "# 1.4 random.randrange(start, stop, step): \n",
    "- Generate a random integer within a range.\n",
    "- works like range() but returns random number.\n",
    "- **Range = [start, stop)**"
   ]
  },
  {
   "cell_type": "code",
   "execution_count": null,
   "metadata": {},
   "outputs": [
    {
     "name": "stdout",
     "output_type": "stream",
     "text": [
      "16\n",
      "16\n",
      "13\n",
      "19\n",
      "10\n",
      "19\n",
      "13\n",
      "19\n",
      "19\n"
     ]
    }
   ],
   "source": [
    "import random\n",
    "\n",
    "for i in range(1,10):\n",
    "    print(f\"{random.randrange(10,20,3)}\") \n",
    "\n",
    "# since step = 3, so this range is revisited: [10, 13, 16, 19). \n",
    "# so random number would only be from revisited range."
   ]
  },
  {
   "cell_type": "markdown",
   "metadata": {},
   "source": [
    "<img src=\"images\\green-divider.png\"/>"
   ]
  },
  {
   "cell_type": "markdown",
   "metadata": {},
   "source": [
    "# 2. RANDOM SELECTION FROM A SEQUENCE: \n",
    "\n",
    "## 2.1 random.choice(sequence):\n",
    "- **Returns a random element from sequence**\n",
    "\n",
    "- **Note**: only returns 1 element.\n"
   ]
  },
  {
   "cell_type": "code",
   "execution_count": 13,
   "metadata": {},
   "outputs": [
    {
     "name": "stdout",
     "output_type": "stream",
     "text": [
      "Mango\n",
      "Apple\n",
      "Banana\n",
      "Mango\n",
      "Pears\n"
     ]
    }
   ],
   "source": [
    "\n",
    "import random\n",
    "\n",
    "fruits = [\"Apple\", \"Mango\", \"Banana\", \"Pears\", \"Grapes\"]\n",
    "\n",
    "for i in range(0,5):\n",
    "    print(f\"{random.choice(fruits)}\")"
   ]
  },
  {
   "cell_type": "markdown",
   "metadata": {},
   "source": [
    "## 2.1 random.choices(sequence, k=N ): \n",
    "- Picks N random elements **with Replacement**.\n",
    "\n",
    "- **Hence Returns N random elements from the sequence**\n",
    "\n",
    "- **With replacements** : once an element is picked, it's put back into the sequence. so it can be picked in future.\n",
    "\n",
    "- and it's different from choice(), it's choices()."
   ]
  },
  {
   "cell_type": "code",
   "execution_count": 15,
   "metadata": {},
   "outputs": [
    {
     "name": "stdout",
     "output_type": "stream",
     "text": [
      "['Grapes', 'Apple', 'Mango']\n",
      "['Mango', 'Apple', 'Mango']\n",
      "['Grapes', 'Banana', 'Grapes']\n",
      "['Pears', 'Grapes', 'Pears']\n",
      "['Mango', 'Mango', 'Apple']\n"
     ]
    }
   ],
   "source": [
    "\n",
    "import random\n",
    "\n",
    "fruits = [\"Apple\", \"Mango\", \"Banana\", \"Pears\", \"Grapes\"]\n",
    "\n",
    "for i in range(0,5):\n",
    "    print(f\"{random.choices(fruits,k = 3)}\")"
   ]
  },
  {
   "cell_type": "markdown",
   "metadata": {},
   "source": [
    "<img src=\"images\\green-divider.png\"/>"
   ]
  },
  {
   "cell_type": "markdown",
   "metadata": {},
   "source": [
    "# 3. Generate Random Boolean values:\n",
    "## random.getrandbits(n):\n",
    "- **n represents the number of bits used to generate a random integer.**\n"
   ]
  },
  {
   "cell_type": "code",
   "execution_count": 25,
   "metadata": {},
   "outputs": [
    {
     "name": "stdout",
     "output_type": "stream",
     "text": [
      "0\n",
      "1\n",
      "0\n",
      "1\n"
     ]
    }
   ],
   "source": [
    "import random\n",
    "\n",
    "for i in range(1,5):\n",
    "    print(f\"{random.getrandbits(1)}\")\n",
    "\n",
    "    # since bits = 1, so possible values = [0,1]\n",
    "    # IF bits = 2, possible values = [0,1, 2, 3]"
   ]
  },
  {
   "cell_type": "code",
   "execution_count": null,
   "metadata": {},
   "outputs": [
    {
     "name": "stdout",
     "output_type": "stream",
     "text": [
      "2\n",
      "2\n",
      "3\n",
      "1\n"
     ]
    }
   ],
   "source": [
    "import random\n",
    "\n",
    "for i in range(1,5):\n",
    "    print(f\"{random.getrandbits(2)}\")\n",
    "\n",
    "    # since bits = 2, possible values = [0,1, 2, 3]"
   ]
  },
  {
   "cell_type": "markdown",
   "metadata": {},
   "source": [
    "<img src=\"images\\green-divider.png\"/>"
   ]
  },
  {
   "cell_type": "markdown",
   "metadata": {},
   "source": [
    "# 4. Shuffling Elements\n",
    "\n",
    "## random.shuffle(sequence) :\n",
    "**shuffles a sequence.**"
   ]
  },
  {
   "cell_type": "code",
   "execution_count": 30,
   "metadata": {},
   "outputs": [
    {
     "name": "stdout",
     "output_type": "stream",
     "text": [
      "[2, 5, 4, 3, 1]\n"
     ]
    }
   ],
   "source": [
    "import random\n",
    "\n",
    "List = [1,2,3,4,5]\n",
    "\n",
    "random.shuffle(List)\n",
    "print(List)"
   ]
  },
  {
   "cell_type": "markdown",
   "metadata": {},
   "source": [
    "<img src=\"images\\green-divider.png\"/>"
   ]
  },
  {
   "cell_type": "markdown",
   "metadata": {},
   "source": [
    "#  5. Setting the Seed for Reproducibility\n",
    "\n",
    "- **First set the seed value**\n",
    "\n",
    "- Then call any function from above.\n",
    "\n",
    "- Ensures that the random numbers generated stay the same every time the code runs.\n",
    "\n",
    "- **Parameters**\n",
    "    1. **a (Optional)**  \n",
    "       - It is the seed value that initializes the random number generator.\n",
    "\n",
    "       - If a is None, Python uses the current system time or another system source for randomness.  \n",
    "\n",
    "       - If a is an integer or string, it ensures that the same sequence of random numbers is generated each time.\n",
    "\n",
    "    2. **version (Optional, Default = 2)**\n",
    "       - Specifies the version of the seeding algorithm.\n",
    "\n",
    "       - Version 2 is the default and should be used unless compatibility with older versions is needed."
   ]
  },
  {
   "cell_type": "code",
   "execution_count": 53,
   "metadata": {},
   "outputs": [
    {
     "name": "stdout",
     "output_type": "stream",
     "text": [
      "12\n",
      "19\n",
      "11\n",
      "14\n"
     ]
    }
   ],
   "source": [
    "import random\n",
    "\n",
    "random.seed(1)\n",
    "\n",
    "for i in range(1,5):\n",
    "    print(f\"{random.randint(10,20)}\")"
   ]
  },
  {
   "cell_type": "markdown",
   "metadata": {},
   "source": [
    "# "
   ]
  },
  {
   "cell_type": "markdown",
   "metadata": {},
   "source": [
    "<img src=\"images\\purple-divider.png\"/>"
   ]
  },
  {
   "cell_type": "markdown",
   "metadata": {},
   "source": [
    "### EXERCISE 1 :           \n",
    "You are going to write a virtual coin toss program. It will randomly tell the user \"Heads\" or \"Tails\".\n",
    "\n",
    "Important, the first letter should be capitalised and spelt exactly like in the example e.g. \"Heads\", not \"heads\".\n",
    "\n",
    "There are many ways of doing this. But to practice what we learnt in the last lesson, you should generate a random number, either 0 or 1. Then use that number to print out \"Heads\" or \"Tails\".\n",
    "\n",
    "e.g. 1 means Heads 0 means Tails\n"
   ]
  },
  {
   "cell_type": "code",
   "execution_count": 39,
   "metadata": {},
   "outputs": [
    {
     "name": "stdout",
     "output_type": "stream",
     "text": [
      "Heads\n"
     ]
    }
   ],
   "source": [
    "import random\n",
    "\n",
    "random = random.getrandbits(1)\n",
    "if random == 1 :\n",
    "  print(\"Heads\")\n",
    "else:\n",
    "  print(\"Tails\")"
   ]
  },
  {
   "cell_type": "markdown",
   "metadata": {},
   "source": [
    "### Exercise 2: Give some examples of random.choice()"
   ]
  },
  {
   "cell_type": "code",
   "execution_count": 1,
   "metadata": {},
   "outputs": [
    {
     "name": "stdout",
     "output_type": "stream",
     "text": [
      "he\n",
      "2\n",
      "E\n"
     ]
    }
   ],
   "source": [
    "import random\n",
    "# for List:create full systematic lecture and note from that, with examples , simple and straightforward theory \n",
    "List= [\"him\", \"he\", \"she\", \"her\", \"I\", \"We\"]\n",
    "print( random.choice(List) )\n",
    "\n",
    "print( random.choice( range(1,10) ))\n",
    "# for range()\n",
    "\n",
    "# for string\n",
    "print( random.choice( \"WELCOME\") ) # giving random letter as output\n"
   ]
  },
  {
   "cell_type": "markdown",
   "metadata": {},
   "source": [
    "###  Exercise 3 : write a program to choose a Random Discount for Users (0% to 100%)"
   ]
  },
  {
   "cell_type": "code",
   "execution_count": 41,
   "metadata": {},
   "outputs": [
    {
     "name": "stdout",
     "output_type": "stream",
     "text": [
      "You get 40.49% discout..\n"
     ]
    }
   ],
   "source": [
    "import random\n",
    "\n",
    "discount = random.random() * 100\n",
    "\n",
    "print(f\"You get {discount:.2f}% discout..\")"
   ]
  }
 ],
 "metadata": {
  "kernelspec": {
   "display_name": "Python 3",
   "language": "python",
   "name": "python3"
  },
  "language_info": {
   "codemirror_mode": {
    "name": "ipython",
    "version": 3
   },
   "file_extension": ".py",
   "mimetype": "text/x-python",
   "name": "python",
   "nbconvert_exporter": "python",
   "pygments_lexer": "ipython3",
   "version": "3.10.12"
  }
 },
 "nbformat": 4,
 "nbformat_minor": 2
}

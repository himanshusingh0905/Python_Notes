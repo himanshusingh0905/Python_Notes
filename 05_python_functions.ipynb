{
 "cells": [
  {
   "cell_type": "markdown",
   "metadata": {},
   "source": [
    "# Functions"
   ]
  },
  {
   "cell_type": "markdown",
   "metadata": {},
   "source": [
    "## Important points:\n",
    "1. Declared using ***def*** keyword"
   ]
  },
  {
   "cell_type": "code",
   "execution_count": 3,
   "metadata": {},
   "outputs": [
    {
     "name": "stdout",
     "output_type": "stream",
     "text": [
      "Hello! David, How are you?\n"
     ]
    }
   ],
   "source": [
    "# EXAMPLE: function with input\n",
    "def greet(name):\n",
    "    print(f\"Hello! {name}, How are you?\")\n",
    "\n",
    "\n",
    "myName = \"David\"\n",
    "greet(myName)"
   ]
  },
  {
   "cell_type": "markdown",
   "metadata": {},
   "source": [
    "# Argument and Parameters:\n",
    "* **Parameters** : variables in the function declaration. \n",
    "   * Example :  `def mul(a,b):` , Here *a* and *b* are **parameters**.\n",
    "  \n",
    "* **Arguments** : varibles which are passed to function.\n",
    "   * Example :\n",
    "   * `p = 5, q = 4`  \n",
    "     `mul(p,q)`, Here  *p* and *q* are **arguments**\n",
    "  "
   ]
  },
  {
   "cell_type": "code",
   "execution_count": 2,
   "metadata": {},
   "outputs": [
    {
     "name": "stdout",
     "output_type": "stream",
     "text": [
      "Anonymous\n",
      "David\n"
     ]
    }
   ],
   "source": [
    "# Default argument:\n",
    "def greet(name=\"Anonymous\"):\n",
    "    print(name)\n",
    "\n",
    "greet() # By defult 'Anonymous will be printed'\n",
    "greet(\"David\")"
   ]
  },
  {
   "cell_type": "markdown",
   "metadata": {},
   "source": [
    "<img src=\"images\\purple-divider.png\"/>"
   ]
  },
  {
   "cell_type": "markdown",
   "metadata": {},
   "source": [
    "# Positional and keyword arguments in function\n",
    "\n",
    "### Positional Argument\n",
    "* Here *positional argument* means : *arguments* must be passed according to the **position** of parameters in the function declaration.\n",
    "\n",
    "### Keyword argument: \n",
    "* Here position is not important.\n",
    "* But to avoid ambiguity, variables must be passed like `mul(b=4,a=3)` .   \n",
    "\n",
    "\n",
    "\n",
    "## Positional Arguments\n"
   ]
  },
  {
   "cell_type": "code",
   "execution_count": 4,
   "metadata": {},
   "outputs": [
    {
     "name": "stdout",
     "output_type": "stream",
     "text": [
      "Hello Joss\n",
      "What is it like in California\n",
      "\n",
      "\n",
      "Hello California\n",
      "What is it like in Joss\n"
     ]
    }
   ],
   "source": [
    "# Example of function with positional arguments\n",
    "\n",
    "def greet(name, location):\n",
    "    print(f\"Hello {name}\")\n",
    "    print(f\"What is it like in {location}\")\n",
    "\n",
    "greet(\"Joss\", \"California\")\n",
    "print(\"\\n\")\n",
    "greet(\"California\", \"Joss\")\n"
   ]
  },
  {
   "cell_type": "markdown",
   "metadata": {},
   "source": [
    "Note: Above example is demonstrating the positional argumnents.\n",
    "\n",
    "## Keyword arguments:\n",
    "* See below, order of passing arguments doesn't matter and that's the key point here."
   ]
  },
  {
   "cell_type": "code",
   "execution_count": 8,
   "metadata": {},
   "outputs": [
    {
     "name": "stdout",
     "output_type": "stream",
     "text": [
      "Hello Taylor swift\n",
      "What is it like in Pennsylvania\n"
     ]
    }
   ],
   "source": [
    "# Example of keyword arguments:\n",
    "def greet(name, location):\n",
    "    print(f\"Hello {name}\")\n",
    "    print(f\"What is it like in {location}\")\n",
    "\n",
    "greet(location=\"Pennsylvania\", name=\"Taylor swift\")\n",
    "# greet(location=\"Pennsylvania\", \"Taylor swift\")  # Error : positional argument follows keyword argument"
   ]
  },
  {
   "cell_type": "markdown",
   "metadata": {},
   "source": [
    "# *args and **kwargs\n",
    "\n",
    "---  \n",
    "\n",
    "\n",
    "## *args : Variable length Positional-Arguments\n"
   ]
  },
  {
   "cell_type": "code",
   "execution_count": 3,
   "metadata": {},
   "outputs": [
    {
     "name": "stdout",
     "output_type": "stream",
     "text": [
      "1\n",
      "2\n",
      "3\n",
      "David\n",
      "4\n",
      "5\n"
     ]
    }
   ],
   "source": [
    "def print_details( *args ):  # We can name anything in place of 'args'\n",
    "    for arg in args:\n",
    "        print(arg)\n",
    "\n",
    "\n",
    "print_details(1,2,3,\"David\", 4,5)"
   ]
  },
  {
   "cell_type": "markdown",
   "metadata": {},
   "source": [
    "## **kwargs : variable length Keyword-Arguments"
   ]
  },
  {
   "cell_type": "code",
   "execution_count": 5,
   "metadata": {},
   "outputs": [
    {
     "name": "stdout",
     "output_type": "stream",
     "text": [
      "name : John\n",
      "age : 45\n",
      "gender : M\n",
      "country : Britain\n"
     ]
    }
   ],
   "source": [
    "def print_details( **kwargs ):  # We can name anything in place of 'kwargs'\n",
    "    for key,value in kwargs.items():\n",
    "        print(f\"{key} : {value}\")\n",
    "\n",
    "print_details(name=\"John\", age=45, gender=\"M\", country=\"Britain\")"
   ]
  },
  {
   "cell_type": "code",
   "execution_count": 6,
   "metadata": {},
   "outputs": [
    {
     "name": "stdout",
     "output_type": "stream",
     "text": [
      "Printing POSITIONAL ARGUMENTS........\n",
      "1\n",
      "2\n",
      "3\n",
      "Printing KEYWORD ARGUMENTS........\n",
      "name : John\n",
      "age : 45\n",
      "country : Britain\n"
     ]
    }
   ],
   "source": [
    "# Let's take an example where we are using both\n",
    "def print_details(*args, **kwargs ):  # We can name anything in place of 'kwargs'\n",
    "    print(\"Printing POSITIONAL ARGUMENTS........\")\n",
    "    for arg in args:\n",
    "        print(arg)\n",
    "    print(\"Printing KEYWORD ARGUMENTS........\")\n",
    "    for key,value in kwargs.items():\n",
    "        print(f\"{key} : {value}\")\n",
    "\n",
    "print_details(1,2,3, name=\"John\", age=45,country=\"Britain\")\n"
   ]
  },
  {
   "cell_type": "markdown",
   "metadata": {},
   "source": [
    "<img src=\"images\\green-divider.png\"/>"
   ]
  },
  {
   "cell_type": "markdown",
   "metadata": {},
   "source": [
    "# Mix Positional and Keyword Arguments:\n",
    "#### Below are few examples to demonstarate How we can use 'mix positional and keyword arguments'"
   ]
  },
  {
   "cell_type": "code",
   "execution_count": 11,
   "metadata": {},
   "outputs": [
    {
     "name": "stdout",
     "output_type": "stream",
     "text": [
      "10\n",
      "10\n",
      "10\n"
     ]
    }
   ],
   "source": [
    "#  Example 1 :\n",
    "def add(a,b,c,d):\n",
    "    return a+b+c+d\n",
    "\n",
    "print( add(1,2,3,4) )\n",
    "print( add(a=1, d=4, c=2, b=3) )\n",
    "print( add(1,2, d=3, c=4) )\n",
    "\n",
    "#          **********       Error-cases      ***********\n",
    "\n",
    "# print( add(a=1, b=2, 3, 4) )      # Error : positional argument follows keyword argument\n",
    "# print( add(1,2, b=3, d=4) )         # Error : add() got multiple values for argument 'b'\n",
    "\n"
   ]
  },
  {
   "cell_type": "code",
   "execution_count": 17,
   "metadata": {},
   "outputs": [
    {
     "name": "stdout",
     "output_type": "stream",
     "text": [
      "15\n",
      "15\n"
     ]
    }
   ],
   "source": [
    "#  Example 2 :\n",
    "def add(a,b,/ ,c,d,e):\n",
    "    return a+b+c+d+e\n",
    "\n",
    "print( add(1, 2, 3, 4, 5) )\n",
    "print( add(1, 3, d=4, c=2, e=5) )\n",
    "\n",
    "\n",
    "#          **********       Error-cases      ***********\n",
    "\n",
    "# print( add(a=1, b=2, d=3, c=4, e=5) )        # Error : add() got some positional-only arguments passed as keyword arguments: 'a, \n",
    "#                                                      *  We are getting this error because, In function declaration some parameters must be\n",
    "#                                                         'positional'. \n",
    "#                                                      *  Parameters before / (forward slash) are must be positional.\n"
   ]
  },
  {
   "cell_type": "code",
   "execution_count": 25,
   "metadata": {},
   "outputs": [
    {
     "name": "stdout",
     "output_type": "stream",
     "text": [
      "21\n"
     ]
    }
   ],
   "source": [
    "#  Example 3 :\n",
    "def add(a,b,/,c,d,*,e,f):\n",
    "    return a+b+c+d+e+f\n",
    "\n",
    "\n",
    "print( add(1, 3, 2, d=4, f=6, e=5) )\n",
    "\n",
    "\n",
    "#          **********       Error-cases      ***********\n",
    "\n",
    "# print( add(1, 2, 3, 4, 5, 6))           # Error : As per function declaration:\n",
    "#                                         Note : Parameters after * must be keyword arguments. But Here we're passing them as positional\n",
    "#                                                          1.   a,b  ->  must be positional arguments\n",
    "#                                                          2.   e,f  ->  must be keyword arguments\n"
   ]
  },
  {
   "cell_type": "markdown",
   "metadata": {},
   "source": [
    "### Note : forward slash(/) : Signifies that parameters 'before' it must be positional.\n",
    "### Note : Asterisk(/) : Signifies that parameters 'after' it must be keyword."
   ]
  },
  {
   "cell_type": "markdown",
   "metadata": {},
   "source": [
    "<img src=\"images\\green-divider.png\"/>"
   ]
  },
  {
   "cell_type": "markdown",
   "metadata": {},
   "source": []
  },
  {
   "cell_type": "markdown",
   "metadata": {},
   "source": [
    "<img src=\"images\\purple-divider.png\"/>"
   ]
  },
  {
   "cell_type": "markdown",
   "metadata": {},
   "source": [
    "# Functions with 'return' keyword:"
   ]
  },
  {
   "cell_type": "code",
   "execution_count": 4,
   "metadata": {},
   "outputs": [
    {
     "name": "stdout",
     "output_type": "stream",
     "text": [
      "Mike Ross\n"
     ]
    }
   ],
   "source": [
    "def formatName(f_name, l_name):\n",
    "    formated_f_name = f_name.title()\n",
    "    formated_l_name = l_name.title()\n",
    "    \n",
    "    # Let's return multiple things, [ returning single value, We already know that ]\n",
    "    return formated_f_name,formated_l_name\n",
    "\n",
    "fname,lname = formatName(\"Mike\",\"Ross\")\n",
    "\n",
    "print(f\"{fname} {lname}\")"
   ]
  },
  {
   "cell_type": "markdown",
   "metadata": {},
   "source": [
    "## sum():\n",
    "**SYNTAX:** sum(iterable, start)\n",
    "* iterable (list, tuple, set, etc)\n",
    "* start = start value of sum, by default = 0"
   ]
  },
  {
   "cell_type": "code",
   "execution_count": 11,
   "metadata": {},
   "outputs": [
    {
     "name": "stdout",
     "output_type": "stream",
     "text": [
      "18\n",
      "28\n"
     ]
    }
   ],
   "source": [
    "List = [4, 5, 6, 3]\n",
    "\n",
    "print( sum(List)) # By default, start = 0\n",
    "print( sum(List, 10) ) # Here initial sum = 10"
   ]
  },
  {
   "cell_type": "markdown",
   "metadata": {},
   "source": [
    "# Pass by value and Pass by reference:\n",
    "* Python doesn't have ***Pass by value*** and ***Pass by reference*** instead it is ***pass by object***\n",
    "* Depending on the type of object you pass in the function, the function behaves differently. \n",
    "    * **Immutable Objects** show “pass by value” whereas **Mutable Objects** show “pass by reference”.\n",
    "* **Immutable Objects:** int, float, complex, str, tuple, frozenset\n",
    "* **Mutable Objects:** list, dict, set, bytearray\n"
   ]
  },
  {
   "cell_type": "code",
   "execution_count": 6,
   "metadata": {},
   "outputs": [
    {
     "name": "stdout",
     "output_type": "stream",
     "text": [
      "name inside function : Ross\n",
      "name outside function : Mike\n"
     ]
    }
   ],
   "source": [
    "def changeValue(name):\n",
    "    name = \"Ross\"\n",
    "    print(f\"name inside function : {name}\")\n",
    "    \n",
    "name = \"Mike\"\n",
    "changeValue(name)\n",
    "print(f\"name outside function : {name}\")\n",
    "# So value didn't change"
   ]
  },
  {
   "cell_type": "markdown",
   "metadata": {},
   "source": [
    "# Scopes in python\n",
    "## Local scope:\n",
    "* When a variable is declared inside a function, then it has a local scope.\n",
    "\n",
    "## Global scope :\n",
    "* When a variable is declared outside of any function, it has Global scope."
   ]
  },
  {
   "cell_type": "code",
   "execution_count": 7,
   "metadata": {},
   "outputs": [
    {
     "name": "stdout",
     "output_type": "stream",
     "text": [
      "Inside function age = 24\n",
      "Outside function age = 14\n"
     ]
    }
   ],
   "source": [
    "age = 14 # Global scope\n",
    "def fun():\n",
    "    age = 24  # Local scope\n",
    "    print(f\"Inside function age = {age}\") # Local variable overrides global variable\n",
    "\n",
    "fun()\n",
    "print(f\"Outside function age = {age}\")  # global varible will be printed"
   ]
  },
  {
   "cell_type": "markdown",
   "metadata": {},
   "source": [
    "#### Note : Python doesn't have block scope. \n",
    "* Anything which is declared inside *if-block* , *loop-block* or any *indented-block* have same scope as it's parent scope.\n",
    "* For Example: \n",
    "    * If any of above block is inside a function, Then variable inside that will have same scope as function.\n",
    "    * or if this block is global, Then variable inside that function will have global scope too."
   ]
  },
  {
   "cell_type": "code",
   "execution_count": 9,
   "metadata": {},
   "outputs": [
    {
     "name": "stdout",
     "output_type": "stream",
     "text": [
      "Accessing variable outside if-block: Will smith\n"
     ]
    }
   ],
   "source": [
    "if True:\n",
    "    name = \"Will smith\"\n",
    "\n",
    "print(f\"Accessing variable outside if-block: {name}\")"
   ]
  },
  {
   "cell_type": "markdown",
   "metadata": {},
   "source": [
    "## How to modify a global variable inside a function? : \n",
    "* When we are modifying a particular variable inside a top(global) if/loop block, then there is no problem at all, as it has same scope as global variable.\n",
    "* when modifying inside a function then we use following procedure:\n",
    "\n",
    "#### Note : \n",
    "* But it's not a good practice to modify global variables like below.\n",
    "* Instead we could return value then modify the global value."
   ]
  },
  {
   "cell_type": "code",
   "execution_count": 15,
   "metadata": {},
   "outputs": [
    {
     "name": "stdout",
     "output_type": "stream",
     "text": [
      "Inside function age = 25\n"
     ]
    }
   ],
   "source": [
    "age = 14 # Global scope\n",
    "def fun():\n",
    "    # age = age + 1  # Error:  cannot access local variable 'age' where it is not associated with a value\n",
    "\n",
    "    # To modiy global 'age' variable:\n",
    "    global age\n",
    "    age = 25\n",
    "    print(f\"Inside function age = {age}\")\n",
    "\n",
    "fun()"
   ]
  },
  {
   "cell_type": "code",
   "execution_count": null,
   "metadata": {},
   "outputs": [],
   "source": [
    "# Example 2:\n",
    "Mytuple = (\"apple\",\"banana\",\"mango\")\n",
    "\n",
    "def modify():\n",
    "    global Mytuple\n",
    "    Mytuple = ('a','b','c') # Remember here we're not modifying it, instead we're re-assigning it.\n",
    "\n",
    "modify()\n",
    "print(Mytuple)"
   ]
  },
  {
   "cell_type": "markdown",
   "metadata": {},
   "source": [
    "### REMEMBER : Mutable objects can be easily modified inside a funtion"
   ]
  },
  {
   "cell_type": "code",
   "execution_count": 3,
   "metadata": {},
   "outputs": [
    {
     "name": "stdout",
     "output_type": "stream",
     "text": [
      "List Before editing:\n",
      " [12, 3, 96, 45]\n",
      "List after editing in function:\n",
      " [12, 3, 96, 90]\n"
     ]
    }
   ],
   "source": [
    "List = [12,3,96,45]\n",
    "print(\"List Before editing:\\n\",List)\n",
    "\n",
    "def fun():\n",
    "    List[3] += 45\n",
    "\n",
    "fun()\n",
    "print(\"List after editing in function:\\n\",List)"
   ]
  }
 ],
 "metadata": {
  "kernelspec": {
   "display_name": "Python 3",
   "language": "python",
   "name": "python3"
  },
  "language_info": {
   "codemirror_mode": {
    "name": "ipython",
    "version": 3
   },
   "file_extension": ".py",
   "mimetype": "text/x-python",
   "name": "python",
   "nbconvert_exporter": "python",
   "pygments_lexer": "ipython3",
   "version": "3.12.3"
  }
 },
 "nbformat": 4,
 "nbformat_minor": 2
}

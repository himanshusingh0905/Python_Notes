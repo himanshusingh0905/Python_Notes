{
 "cells": [
  {
   "cell_type": "markdown",
   "metadata": {},
   "source": [
    "# Dictionary in python\n",
    "1. constructor = ***dict()***\n",
    "2. It's a group of key-value pairs in python\n",
    "3. key is unique\n",
    "4. every item in it is separated by comma"
   ]
  },
  {
   "cell_type": "code",
   "execution_count": null,
   "metadata": {},
   "outputs": [],
   "source": [
    "# Two ways to create an empty dictionary:\n",
    "# Method I : using angular brackets:\n",
    "myDict = {}\n",
    "\n",
    "# Method II : using  constuctor:\n",
    "myDict2 = dict()\n"
   ]
  },
  {
   "cell_type": "markdown",
   "metadata": {},
   "source": [
    "## Add new item"
   ]
  },
  {
   "cell_type": "code",
   "execution_count": 7,
   "metadata": {},
   "outputs": [
    {
     "data": {
      "text/plain": [
       "{'a': 1, 123: 'Ross', True: 'Mike'}"
      ]
     },
     "execution_count": 7,
     "metadata": {},
     "output_type": "execute_result"
    }
   ],
   "source": [
    "myDict = {}\n",
    "\n",
    "# This is how we add items in a dictionary.\n",
    "myDict[\"a\"] = 1\n",
    "# myDict[age] = 24           # Error : 'age' is not defined\n",
    "# myDict[Name] = \"David\"     # Error : 'Name' is not defined\n",
    "myDict[123] = \"Ross\"\n",
    "myDict[True] = \"Mike\"\n",
    "\n",
    "\n",
    "myDict"
   ]
  },
  {
   "cell_type": "markdown",
   "metadata": {},
   "source": [
    "#### Note : Above we didn't get error when key = 123 or True. But for age,Name we were getting errors?\n",
    "**Reason :** Just like in c++, We could have a map like (int, int) ,(int,string), (string,int), or others, But didn't have any key value with these idetifiers. Similarly here, what actually are age and Name ? that's the reason we're getting error."
   ]
  },
  {
   "cell_type": "markdown",
   "metadata": {},
   "source": [
    "<img src=\"images\\green-divider.png\"/>"
   ]
  },
  {
   "cell_type": "markdown",
   "metadata": {},
   "source": [
    "# Loop through python dictionary"
   ]
  },
  {
   "cell_type": "code",
   "execution_count": 13,
   "metadata": {},
   "outputs": [
    {
     "name": "stdout",
     "output_type": "stream",
     "text": [
      "name\n",
      "age\n",
      "Salary\n",
      "dict_items([('name', 'David'), ('age', 24), ('Salary', '1 lac per day')])\n",
      "dict_keys(['name', 'age', 'Salary'])\n",
      "dict_values(['David', 24, '1 lac per day'])\n"
     ]
    }
   ],
   "source": [
    "myDict = {\n",
    "    \"name\" : \"David\",\n",
    "    \"age\"  : 24,\n",
    "    \"Salary\" : \"1 lac per day\",\n",
    "}\n",
    "\n",
    "# What you expect when you loop through a dictionary?\n",
    "# I expect it would be an item consisting (key-value)\n",
    "# But your are so wrong.........\n",
    "for i in myDict:\n",
    "    print(i)\n",
    "# It turns out, It only print keys\n",
    "\n",
    "print( myDict.items() )\n",
    "\n",
    "print( myDict.keys() )\n",
    "\n",
    "print( myDict.values() )"
   ]
  },
  {
   "cell_type": "markdown",
   "metadata": {},
   "source": [
    "<img src=\"images\\purple-divider.png\"/>"
   ]
  },
  {
   "cell_type": "markdown",
   "metadata": {},
   "source": [
    "# Nesting of dictionary"
   ]
  },
  {
   "cell_type": "code",
   "execution_count": 17,
   "metadata": {},
   "outputs": [
    {
     "name": "stdout",
     "output_type": "stream",
     "text": [
      "{'Name': 'Mike ross', 'Age': 24, 'Friends': {'Chandler': 'Monica', 'Harvey': 'Dana'}}\n"
     ]
    }
   ],
   "source": [
    "# Nesting of dictionary\n",
    "Dict = {\n",
    "    \"Name\": \"Mike ross\",\n",
    "    \"Age\":24,\n",
    "    \"Friends\":{\"Chandler\": \"Monica\", \"Harvey\":\"Dana\" }\n",
    "}\n",
    "print(Dict)"
   ]
  },
  {
   "cell_type": "code",
   "execution_count": 16,
   "metadata": {},
   "outputs": [
    {
     "name": "stdout",
     "output_type": "stream",
     "text": [
      "[{'country': 'France', 'visits': 12, 'cities': ['Paris', 'Lille', 'Dijon']}, {'country': 'Germany', 'visits': 5, 'cities': ['Berlin', 'Hamburg', 'Stuttgart']}]\n"
     ]
    }
   ],
   "source": [
    "# List containing two dictionary\n",
    "travel_log = [\n",
    "  {\n",
    "    \"country\": \"France\",\n",
    "    \"visits\": 12,\n",
    "    \"cities\": [\"Paris\", \"Lille\", \"Dijon\"]\n",
    "  },\n",
    "  {\n",
    "    \"country\": \"Germany\",\n",
    "    \"visits\": 5,\n",
    "    \"cities\": [\"Berlin\", \"Hamburg\", \"Stuttgart\"]\n",
    "  },\n",
    "]\n",
    "\n",
    "print(travel_log)"
   ]
  },
  {
   "cell_type": "markdown",
   "metadata": {},
   "source": []
  }
 ],
 "metadata": {
  "kernelspec": {
   "display_name": "Python 3",
   "language": "python",
   "name": "python3"
  },
  "language_info": {
   "codemirror_mode": {
    "name": "ipython",
    "version": 3
   },
   "file_extension": ".py",
   "mimetype": "text/x-python",
   "name": "python",
   "nbconvert_exporter": "python",
   "pygments_lexer": "ipython3",
   "version": "3.11.8"
  }
 },
 "nbformat": 4,
 "nbformat_minor": 2
}

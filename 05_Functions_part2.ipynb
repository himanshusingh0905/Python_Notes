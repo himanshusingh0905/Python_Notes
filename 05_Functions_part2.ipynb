{
 "cells": [
  {
   "cell_type": "markdown",
   "metadata": {},
   "source": [
    "# map()\n",
    "\n",
    "* Returns a map object (an iterator).\n",
    "* Takes an iterable and a function/lambda, and applies the function to each item of the iterable.\n",
    "\n",
    "## Syntax : map(fun, iter)\n",
    "* fun = A function to which map passes each element of given iterable.  \n",
    "* iter = iterable( list, tuple, set, etc).\n"
   ]
  },
  {
   "cell_type": "code",
   "execution_count": null,
   "metadata": {},
   "outputs": [],
   "source": [
    "\n",
    "\n",
    "# Example:\n",
    "# to double the value of each item of list\n",
    "def add(n):\n",
    "    return n + n\n",
    "\n",
    "List = [2,3,11,12,23,24]\n",
    "ans = map(add,List)\n",
    "print(type(ans)) #  Output : <class 'map'>    (a map object)\n",
    "\n",
    "# If I print it directly:\n",
    "# print(ans)  # Yes, It prints but an address. like  ' <map object at 0x0000021B7B3AAA70> '\n",
    "\n",
    "# Now to print items, we can convert it into other iterables like (list, tuple, set, unpackaging(using *) etc )\n",
    "print(list(ans)) # prints list\n",
    "# Note:\n",
    "print(* ans) # prints nothing, bcz iterators are consumed ones and you've already consumed it in previous print statement. \n"
   ]
  },
  {
   "cell_type": "markdown",
   "metadata": {},
   "source": []
  },
  {
   "cell_type": "markdown",
   "metadata": {},
   "source": [
    "# More about function:\n",
    "1. function as Object\n",
    "2. Nested functions\n",
    "3. Function as Parameter\n",
    "4. Function returning function"
   ]
  },
  {
   "cell_type": "markdown",
   "metadata": {},
   "source": [
    "## Function as object:\n",
    "- In Python, everything is an object, including numbers, strings, lists, tuples, and even functions.\n",
    "- So functions are also object. see:\n",
    "```py\n",
    "        def display(name):\n",
    "            print(f\"hello {name}\")\n",
    "        print(type(display))        # <class 'function'>\n",
    "```\n",
    "- In above example, you can see '`display`' is of type '`function`'.\n",
    "\n",
    "- Hence **every function** in python is **instance** of **function class** "
   ]
  },
  {
   "cell_type": "code",
   "execution_count": null,
   "metadata": {},
   "outputs": [
    {
     "name": "stdout",
     "output_type": "stream",
     "text": [
      "<class 'function'>\n",
      "hello David\n",
      "<class 'function'>\n",
      "<function display at 0x7d9436ba7520>\n",
      "<function display at 0x7d9436ba7520>\n",
      "hello Rose\n",
      "hello mike\n"
     ]
    }
   ],
   "source": [
    "def display(name):\n",
    "    print(f\"hello {name}\")\n",
    "\n",
    "    \n",
    "print(type(display))\n",
    "# calling display function normally\n",
    "display(\"David\") \n",
    "\n",
    "# creating another pointer to display function\n",
    "d = display\n",
    "print(type(d))\n",
    "\n",
    "# display and d both are pointers you can say, referring to same location\n",
    "print(display)\n",
    "print(d)\n",
    "\n",
    "d(\"Rose\")\n",
    "d(\"mike\")\n"
   ]
  },
  {
   "cell_type": "markdown",
   "metadata": {},
   "source": [
    "## Nested Function: \n",
    "- Yes we can define a function inside a function.\n",
    "- But **inner function** is visible only inside **outer function**.If we call **inner()** outside the **outer()** we'll get error."
   ]
  },
  {
   "cell_type": "code",
   "execution_count": 1,
   "metadata": {},
   "outputs": [
    {
     "name": "stdout",
     "output_type": "stream",
     "text": [
      "inner function\n"
     ]
    }
   ],
   "source": [
    "def outer():\n",
    "    def inner():\n",
    "        print(\"inner function\")\n",
    "    \n",
    "    inner()  # calling inner function\n",
    "\n",
    "outer() "
   ]
  },
  {
   "cell_type": "markdown",
   "metadata": {},
   "source": [
    "## Function as Parameter\n",
    "- we can also pass a function as parameter."
   ]
  },
  {
   "cell_type": "code",
   "execution_count": 2,
   "metadata": {},
   "outputs": [
    {
     "name": "stdout",
     "output_type": "stream",
     "text": [
      "hello world\n"
     ]
    }
   ],
   "source": [
    "def display():\n",
    "    print(\"hello world\")\n",
    "\n",
    "def func(d):\n",
    "    d()\n",
    "\n",
    "func(display)  # passing display function as an argument to func"
   ]
  },
  {
   "cell_type": "code",
   "execution_count": 3,
   "metadata": {},
   "outputs": [
    {
     "name": "stdout",
     "output_type": "stream",
     "text": [
      "15\n",
      "5\n"
     ]
    }
   ],
   "source": [
    "def add(x, y):\n",
    "    print(x + y)\n",
    "\n",
    "def sub(x, y):\n",
    "    print(x - y)\n",
    "\n",
    "def func(fun, x, y):\n",
    "    fun(x, y) \n",
    "\n",
    "func(add, 10, 5)  # passing add function as an argument to func\n",
    "func(sub, 10, 5)  # passing sub function as an argument to func\n"
   ]
  },
  {
   "cell_type": "markdown",
   "metadata": {},
   "source": [
    "## Function returning Function: "
   ]
  },
  {
   "cell_type": "code",
   "execution_count": 5,
   "metadata": {},
   "outputs": [
    {
     "name": "stdout",
     "output_type": "stream",
     "text": [
      "<class 'function'>\n",
      "inner function is saying Hello!\n"
     ]
    }
   ],
   "source": [
    "def outer():\n",
    "    def inner():\n",
    "        print(\"inner function is saying Hello!\")\n",
    "\n",
    "    return inner\n",
    "\n",
    "d = outer()  \n",
    "print(type(d)) \n",
    "d()  # calling inner function\n",
    "\n",
    "\n",
    "# Note:\n",
    "# 1. inner function is not accessible outside the outer function\n",
    "# 2. outer function returns inner function\n",
    "# 3. d is a reference to inner function\n"
   ]
  },
  {
   "cell_type": "markdown",
   "metadata": {},
   "source": [
    "## closure functions?"
   ]
  }
 ],
 "metadata": {
  "kernelspec": {
   "display_name": "Python 3",
   "language": "python",
   "name": "python3"
  },
  "language_info": {
   "codemirror_mode": {
    "name": "ipython",
    "version": 3
   },
   "file_extension": ".py",
   "mimetype": "text/x-python",
   "name": "python",
   "nbconvert_exporter": "python",
   "pygments_lexer": "ipython3",
   "version": "3.10.12"
  }
 },
 "nbformat": 4,
 "nbformat_minor": 2
}

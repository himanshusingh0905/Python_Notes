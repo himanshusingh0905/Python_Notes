{
 "cells": [
  {
   "cell_type": "markdown",
   "metadata": {},
   "source": [
    "# map()\n",
    "\n",
    "* Returns a map object (an iterator).\n",
    "* Takes an iterable and a function/lambda, and applies the function to each item of the iterable.\n",
    "\n",
    "## Syntax : map(fun, iter)\n",
    "* fun = A function to which map passes each element of given iterable.  \n",
    "* iter = iterable( list, tuple, set, etc).\n"
   ]
  },
  {
   "cell_type": "code",
   "execution_count": null,
   "metadata": {},
   "outputs": [],
   "source": [
    "\n",
    "\n",
    "# Example:\n",
    "# to double the value of each item of list\n",
    "def add(n):\n",
    "    return n + n\n",
    "\n",
    "List = [2,3,11,12,23,24]\n",
    "ans = map(add,List)\n",
    "print(type(ans)) #  Output : <class 'map'>    (a map object)\n",
    "\n",
    "# If I print it directly:\n",
    "# print(ans)  # Yes, It prints but an address. like  ' <map object at 0x0000021B7B3AAA70> '\n",
    "\n",
    "# Now to print items, we can convert it into other iterables like (list, tuple, set, unpackaging(using *) etc )\n",
    "print(list(ans)) # prints list\n",
    "# Note:\n",
    "print(* ans) # prints nothing, bcz iterators are consumed ones and you've already consumed it in previous print statement. \n"
   ]
  },
  {
   "cell_type": "markdown",
   "metadata": {},
   "source": []
  },
  {
   "cell_type": "markdown",
   "metadata": {},
   "source": [
    "# More about function:\n",
    "1. function as Object\n",
    "2. Nested functions\n",
    "3. Function as Parameter\n",
    "4. Function returning function"
   ]
  },
  {
   "cell_type": "markdown",
   "metadata": {},
   "source": [
    "## Function as object:\n",
    "- In Python, everything is an object, including numbers, strings, lists, tuples, and even functions."
   ]
  },
  {
   "cell_type": "code",
   "execution_count": 2,
   "metadata": {},
   "outputs": [
    {
     "name": "stdout",
     "output_type": "stream",
     "text": [
      "<class 'list'>\n",
      "<class 'tuple'>\n",
      "<class 'str'>\n",
      "<class 'int'>\n",
      "<class 'float'>\n",
      "<class 'dict'>\n"
     ]
    }
   ],
   "source": [
    "myList = [1,2,3,4]\n",
    "myTuple = (9,7,5)\n",
    "\n",
    "myString = \"Hello\"\n",
    "\n",
    "myInteger = 45\n",
    "myDecimal = 89.5\n",
    "\n",
    "MyDict = {\n",
    "    \"a\": 45,\n",
    "    \"b\" : 96\n",
    "}\n",
    "\n",
    "print( type(myList) )\n",
    "print( type(myTuple) )\n",
    "print( type(myString) )\n",
    "print( type(myInteger) )\n",
    "print( type(myDecimal) )\n",
    "print( type(MyDict) )"
   ]
  },
  {
   "cell_type": "code",
   "execution_count": 6,
   "metadata": {},
   "outputs": [
    {
     "name": "stdout",
     "output_type": "stream",
     "text": [
      "hello David\n",
      "<class 'function'>\n",
      "hello Rose\n"
     ]
    }
   ],
   "source": [
    "def display(name):\n",
    "    print(f\"hello {name}\")\n",
    "\n",
    "display(\"David\")\n",
    "\n",
    "d = display\n",
    "print(type(d))\n",
    "\n",
    "d(\"Rose\")\n",
    "# print(d(\"Ross\"))"
   ]
  }
 ],
 "metadata": {
  "kernelspec": {
   "display_name": "Python 3",
   "language": "python",
   "name": "python3"
  },
  "language_info": {
   "codemirror_mode": {
    "name": "ipython",
    "version": 3
   },
   "file_extension": ".py",
   "mimetype": "text/x-python",
   "name": "python",
   "nbconvert_exporter": "python",
   "pygments_lexer": "ipython3",
   "version": "3.10.12"
  }
 },
 "nbformat": 4,
 "nbformat_minor": 2
}

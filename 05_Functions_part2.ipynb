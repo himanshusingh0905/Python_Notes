{
 "cells": [
  {
   "cell_type": "markdown",
   "metadata": {},
   "source": [
    "# map()\n",
    "\n",
    "* Returns a map object (an iterator).\n",
    "* Takes an iterable and a function/lambda, and applies the function to each item of the iterable.\n",
    "\n",
    "## Syntax : map(fun, iter)\n",
    "* fun = A function to which map passes each element of given iterable.  \n",
    "* iter = iterable( list, tuple, set, etc).\n"
   ]
  },
  {
   "cell_type": "code",
   "execution_count": null,
   "metadata": {},
   "outputs": [],
   "source": [
    "\n",
    "\n",
    "# Example:\n",
    "# to double the value of each item of list\n",
    "def add(n):\n",
    "    return n + n\n",
    "\n",
    "List = [2,3,11,12,23,24]\n",
    "ans = map(add,List)\n",
    "print(type(ans)) #  Output : <class 'map'>    (a map object)\n",
    "\n",
    "# If I print it directly:\n",
    "# print(ans)  # Yes, It prints but an address. like  ' <map object at 0x0000021B7B3AAA70> '\n",
    "\n",
    "# Now to print items, we can convert it into other iterables like (list, tuple, set, unpackaging(using *) etc )\n",
    "print(list(ans)) # prints list\n",
    "# Note:\n",
    "print(* ans) # prints nothing, bcz iterators are consumed ones and you've already consumed it in previous print statement. \n"
   ]
  }
 ],
 "metadata": {
  "kernelspec": {
   "display_name": "Python 3",
   "language": "python",
   "name": "python3"
  },
  "language_info": {
   "name": "python",
   "version": "3.10.12"
  }
 },
 "nbformat": 4,
 "nbformat_minor": 2
}

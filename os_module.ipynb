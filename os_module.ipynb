{
 "cells": [
  {
   "cell_type": "markdown",
   "metadata": {},
   "source": [
    "# OS module :"
   ]
  },
  {
   "cell_type": "markdown",
   "metadata": {},
   "source": [
    "1. os.path.splitext( *path* )\n",
    "2. os.path.basename( *path* )\n",
    "3. os.path."
   ]
  },
  {
   "cell_type": "markdown",
   "metadata": {},
   "source": [
    "##  os.path.basename( *path* )\n",
    "* It returns the ***base name*** of a file path.\n",
    "* The ***base name*** is the final component of the path\n",
    "   - **EXAMPLE** : If the path is */home/user/Documents/myfile.txt*, the base name is *myfile.txt*."
   ]
  },
  {
   "cell_type": "code",
   "execution_count": 2,
   "metadata": {},
   "outputs": [
    {
     "name": "stdout",
     "output_type": "stream",
     "text": [
      "myfile.txt\n",
      "<class 'str'>\n"
     ]
    }
   ],
   "source": [
    "import os\n",
    "file_name = os.path.basename(\"/home/user/Documents/myfile.txt\")\n",
    "print(file_name)\n",
    "print(type(file_name))"
   ]
  }
 ],
 "metadata": {
  "kernelspec": {
   "display_name": "Python 3",
   "language": "python",
   "name": "python3"
  },
  "language_info": {
   "codemirror_mode": {
    "name": "ipython",
    "version": 3
   },
   "file_extension": ".py",
   "mimetype": "text/x-python",
   "name": "python",
   "nbconvert_exporter": "python",
   "pygments_lexer": "ipython3",
   "version": "3.11.8"
  }
 },
 "nbformat": 4,
 "nbformat_minor": 2
}

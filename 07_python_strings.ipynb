{
  "cells": [
    {
      "cell_type": "markdown",
      "metadata": {
        "colab_type": "text",
        "id": "view-in-github"
      },
      "source": [
        "<a href=\"https://colab.research.google.com/github/himanshusingh0905/python-notes/blob/main/python_strings.ipynb\" target=\"_parent\"><img src=\"https://colab.research.google.com/assets/colab-badge.svg\" alt=\"Open In Colab\"/></a>"
      ]
    },
    {
      "cell_type": "markdown",
      "metadata": {},
      "source": [
        "# str\n",
        "## Topics:\n",
        "   1. What are Strings?\n",
        "    \n",
        "   2. Accessing String elements\n",
        "    \n",
        "   3. String properties\n",
        "    \n",
        "   4. Builtin functions\n",
        "    \n",
        "   5. String methods\n",
        "    \n",
        "   6. String conversions\n",
        "    \n",
        "   7. String Comparisions"
      ]
    },
    {
      "cell_type": "markdown",
      "metadata": {},
      "source": [
        "# What are Strings?\n",
        "* strings are declared using ***single quote(' ')*** , ***double quotes(\" \")***, ***Triple quotes(\"\"\"  \"\"\")*** and ***backtics(``)***.\n",
        "* starting **index = 0**\n",
        "* In python, constructor of strings = ***str()***"
      ]
    },
    {
      "cell_type": "code",
      "execution_count": 5,
      "metadata": {},
      "outputs": [
        {
          "name": "stdout",
          "output_type": "stream",
          "text": [
            "Himanshu\n",
            "e\n",
            "l\n",
            "o\n"
          ]
        }
      ],
      "source": [
        "string = \"Himanshu\"\n",
        "print(string)\n",
        "\n",
        "# Let's print individual characters\n",
        "print( \"hello\"[1] )\n",
        "print( \"hello\"[2] )\n",
        "print( \"hello\"[4] )"
      ]
    },
    {
      "cell_type": "markdown",
      "metadata": {},
      "source": [
        "# fstring in python:\n",
        "* **starts with `f`**. \n",
        "* Example: \n",
        "```python\n",
        "        name = \"Moss\"\n",
        "        greet = f\"hello {name}\"\n",
        "```\n",
        "\n",
        "\n",
        "## Format specifiers attached with fstrings.\n",
        "\n",
        "### SYNTAX :-  {value:flags}\n",
        "\n",
        "1. **`.(number)f`** -> Rounds the value upto that(number) many places.\n",
        "\n",
        "2. **`:(number)`** -> Allocate that many places.\n",
        "\n",
        "3. **`:0number`** -> attach zeroes in front of value.\n",
        "\n",
        "4. **`:<number`** -> left justified result. Here by default `number - (digits in value)` spaces will be added at end of value\n",
        "\n",
        "5. **`:>number`** -> same as above, but spaces will be added in front of value.\n",
        "\n",
        "6. **`:^number`** -> Same as above, However centered.\n",
        "\n",
        "7. **`:+`** -> Any positive number will be preceded with + sign. and negative number remain same.\n",
        "\n",
        "8. **`:, `** -> Helps in representing value in thousand separater like:  4,697"
      ]
    },
    {
      "cell_type": "markdown",
      "metadata": {},
      "source": [
        "### 1. Rounds the value upto 2 decimal places :\n",
        "- SYNTAX : `{num : .(number)f}`"
      ]
    },
    {
      "cell_type": "code",
      "execution_count": 7,
      "metadata": {},
      "outputs": [
        {
          "name": "stdout",
          "output_type": "stream",
          "text": [
            "round the 5.165464 upto 2 decimal places = 5.17\n"
          ]
        }
      ],
      "source": [
        "num = 5.165464\n",
        "num2 = 4.364\n",
        "num3 = -1.23\n",
        "\n",
        "# 1. Rounds the value upto 2 decimal places :\n",
        "print(f\"round the {num} upto 2 decimal places = {num:.2f}\")"
      ]
    },
    {
      "cell_type": "markdown",
      "metadata": {},
      "source": [
        "### 2. To attach space in front of  a number\n",
        "- SYNTAX :  **`{num:(number)}`**\n",
        "- `Total spaces = number - [digits in num]`\n",
        "\n",
        "- result is right inclined"
      ]
    },
    {
      "cell_type": "code",
      "execution_count": 6,
      "metadata": {},
      "outputs": [
        {
          "name": "stdout",
          "output_type": "stream",
          "text": [
            "                      5.165464\n",
            "                         4.364\n",
            "                         -1.23\n"
          ]
        }
      ],
      "source": [
        "num = 5.165464\n",
        "num2 = 4.364\n",
        "num3 = -1.23\n",
        "\n",
        "# 2. # will attach space in front of num\n",
        "print(f\"{num:30}\") # ( spaces = 30 - [digits in num] )\n",
        "print(f\"{num2:30}\")\n",
        "print(f\"{num3:30}\")\n"
      ]
    },
    {
      "cell_type": "markdown",
      "metadata": {},
      "source": [
        "### 3. Below will attach zeroes in front of number.\n",
        "- Previously we are attaching white space in front of num.\n",
        "- Here we are attaching 0's in front of num. \n",
        "- But it won't work with other number, for example: {num:130} so here 130 spaces will be attached rather than 30 1's."
      ]
    },
    {
      "cell_type": "code",
      "execution_count": 12,
      "metadata": {},
      "outputs": [
        {
          "name": "stdout",
          "output_type": "stream",
          "text": [
            "\n",
            "=>  Prefixing with zeroes..\n",
            "00000000000000000000005.165464\n"
          ]
        }
      ],
      "source": [
        "num = 5.165464\n",
        "num2 = 4.364\n",
        "num3 = -1.23\n",
        "\n",
        "# 3. Below will attach zeroes in front of number.\n",
        "print(f\"\\n=>  Prefixing with zeroes..\")\n",
        "print(f\"{num:030}\") # Here total digits will be 30 i.e. (digits in num + zeroes = 30)\n"
      ]
    },
    {
      "cell_type": "markdown",
      "metadata": {},
      "source": [
        "### 4. Left justified the result\n",
        "- SYNTAX : `{ num : <number}`\n",
        "\n",
        "- `Total spaces = number - [digits in num]`"
      ]
    },
    {
      "cell_type": "code",
      "execution_count": 14,
      "metadata": {},
      "outputs": [
        {
          "name": "stdout",
          "output_type": "stream",
          "text": [
            "left justified the result: \n",
            "5.165464            \n",
            "4.364               \n",
            "-1.23               \n"
          ]
        }
      ],
      "source": [
        "num = 5.165464\n",
        "num2 = 4.364\n",
        "num3 = -1.23\n",
        "\n",
        "\n",
        "# 4. left justified the result\n",
        "print(\"left justified the result: \")\n",
        "print(f\"{num:<20}\")\n",
        "print(f\"{num2:<20}\")\n",
        "print(f\"{num3:<20}\")"
      ]
    },
    {
      "cell_type": "markdown",
      "metadata": {},
      "source": [
        "### 5. Right justified the result\n",
        "- SYNTAX : `{ num : >number}`\n",
        "\n",
        "- `Total spaces = number - [digits in num]`"
      ]
    },
    {
      "cell_type": "code",
      "execution_count": 17,
      "metadata": {},
      "outputs": [
        {
          "name": "stdout",
          "output_type": "stream",
          "text": [
            "Now let's see right justfied..\n",
            "            5.165464\n",
            "               4.364\n",
            "               -1.23\n"
          ]
        }
      ],
      "source": [
        "num = 5.165464\n",
        "num2 = 4.364\n",
        "num3 = -1.23\n",
        "\n",
        "print(\"Now let's see right justfied..\")\n",
        "print(f\"{num:>20}\")\n",
        "print(f\"{num2:>20}\")\n",
        "print(f\"{num3:>20}\")"
      ]
    },
    {
      "cell_type": "markdown",
      "metadata": {},
      "source": [
        "### 6. Center justified the result\n",
        "- SYNTAX : `{ num : ^number}`  \n",
        "\n",
        "- `Total spaces = number - [digits in num]`"
      ]
    },
    {
      "cell_type": "code",
      "execution_count": 18,
      "metadata": {},
      "outputs": [
        {
          "name": "stdout",
          "output_type": "stream",
          "text": [
            "\n",
            "=> Now let's see center justified....\n",
            "      5.165464      \n",
            "       4.364        \n",
            "       -1.23        \n"
          ]
        }
      ],
      "source": [
        "num = 5.165464\n",
        "num2 = 4.364\n",
        "num3 = -1.23\n",
        "\n",
        "\n",
        "print(\"\\n=> Now let's see center justified....\")\n",
        "print(f\"{num:^20}\")\n",
        "print(f\"{num2:^20}\")\n",
        "print(f\"{num3:^20}\")"
      ]
    },
    {
      "cell_type": "markdown",
      "metadata": {},
      "source": [
        "### 7. How to represent a number in `thousand separator' format like : 745,236,986?\n",
        "- SYNTAX : { num :,}"
      ]
    },
    {
      "cell_type": "code",
      "execution_count": 20,
      "metadata": {},
      "outputs": [
        {
          "name": "stdout",
          "output_type": "stream",
          "text": [
            "7,846,212,369,847,421\n"
          ]
        }
      ],
      "source": [
        "num = 7846212369847421\n",
        "print( f\"{num:,}\")"
      ]
    },
    {
      "cell_type": "markdown",
      "metadata": {},
      "source": [
        "### 8. Represent a number with + or - sign:\n",
        "- SYNTAX : `{ num : +}`\n",
        "- Positive numbers will be preceded with + sign and negative number remain same."
      ]
    },
    {
      "cell_type": "code",
      "execution_count": null,
      "metadata": {},
      "outputs": [
        {
          "name": "stdout",
          "output_type": "stream",
          "text": [
            "\n",
            "=>numbers will be preceded with + sign and negative number remain same..\n",
            "+5.165464\n",
            "+4.364\n",
            "-1.23\n"
          ]
        }
      ],
      "source": [
        "print(f\"{num:+}\")\n",
        "print(f\"{num2:+}\")\n",
        "print(f\"{num3:+}\")"
      ]
    },
    {
      "cell_type": "markdown",
      "metadata": {},
      "source": [
        "### mixed use of format specifiers"
      ]
    },
    {
      "cell_type": "code",
      "execution_count": 23,
      "metadata": {},
      "outputs": [
        {
          "name": "stdout",
          "output_type": "stream",
          "text": [
            "We can also use mix format specifiers.Like here we're using 2 format specifiers..\n",
            "                5.17\n",
            "                4.36\n",
            "               -1.23\n"
          ]
        }
      ],
      "source": [
        "\n",
        "num = 5.165464\n",
        "num2 = 4.364\n",
        "num3 = -1.23\n",
        "\n",
        "\n",
        "print(\"We can also use mix format specifiers.Like here we're using 2 format specifiers..\")\n",
        "print(f\"{num:>20.2f}\")\n",
        "print(f\"{num2:>20.2f}\")\n",
        "print(f\"{num3:>20.2f}\")"
      ]
    },
    {
      "cell_type": "markdown",
      "metadata": {},
      "source": [
        "<img src=\"images\\green-divider.png\"/>"
      ]
    },
    {
      "cell_type": "markdown",
      "metadata": {
        "id": "2eMtf9chrGgz"
      },
      "source": [
        "# string methods:\n",
        "\n",
        "\n",
        "## 1. str() :  converts other objects (int, float, etc) into `str`"
      ]
    },
    {
      "cell_type": "code",
      "execution_count": null,
      "metadata": {
        "colab": {
          "base_uri": "https://localhost:8080/"
        },
        "id": "qDRQf-bUWG24",
        "outputId": "a8b407fc-2c09-4b77-fe7b-a9f4117104b6"
      },
      "outputs": [
        {
          "name": "stdout",
          "output_type": "stream",
          "text": [
            "<class 'int'>\n",
            "<class 'float'>\n",
            "After converting to str using str()......\n",
            "<class 'str'>\n",
            "<class 'str'>\n"
          ]
        }
      ],
      "source": [
        "\n",
        "i = 45\n",
        "f = 96.8\n",
        "print(type(i))\n",
        "print(type(f))\n",
        "\n",
        "print(\"After converting to str using str()......\")\n",
        "i = str(i)\n",
        "f = str(f)\n",
        "print(type(i))\n",
        "print(type(f))\n"
      ]
    },
    {
      "cell_type": "markdown",
      "metadata": {
        "id": "vzGj0lyP3sKG"
      },
      "source": [
        "<img src=\"images\\purple-divider.png\"/>"
      ]
    },
    {
      "cell_type": "markdown",
      "metadata": {
        "id": "LnTDnKjeCiXn"
      },
      "source": [
        "## 2. len() : Used to find the length of str"
      ]
    },
    {
      "cell_type": "code",
      "execution_count": null,
      "metadata": {
        "colab": {
          "base_uri": "https://localhost:8080/"
        },
        "id": "L2ag0Ib7CqZ5",
        "outputId": "941d905e-9141-449c-c454-e8493a26b307"
      },
      "outputs": [
        {
          "name": "stdout",
          "output_type": "stream",
          "text": [
            "11\n"
          ]
        }
      ],
      "source": [
        "s = \"Hello World\" # total 11 characters including space. so answer should contain 11 characters\n",
        "print(len(s))"
      ]
    },
    {
      "cell_type": "markdown",
      "metadata": {
        "id": "ey5NXtn53uBg"
      },
      "source": [
        "<img src=\"images\\purple-divider.png\"/>"
      ]
    },
    {
      "cell_type": "markdown",
      "metadata": {
        "id": "jfB-x2H1C-Eb"
      },
      "source": [
        "## 3. split() :    \n",
        "* returns a `list` of splitted substrings.\n",
        "* ### Syntax\n",
        "`string.split(separator, maxsplit)`\n",
        " * **separator**:\n",
        "   * `Default = None`, it will split on any whitespaces, including(\\n, \\r, \\t,\n",
        "    \\f).\n",
        "   * Otherwise it can be any character (for eg. '#' , '%', '|' , or any character ).\n",
        " * **maxsplit**: maximum number of splits.\n",
        "    * By default = -1, means no limit.\n",
        "    * When maxsplit = n, then total elements in list = n + 1\n"
      ]
    },
    {
      "cell_type": "code",
      "execution_count": null,
      "metadata": {
        "colab": {
          "base_uri": "https://localhost:8080/"
        },
        "id": "Kpoho4I9epIN",
        "outputId": "723304fe-1516-4b40-872c-0a45b8e6bab3"
      },
      "outputs": [
        {
          "name": "stdout",
          "output_type": "stream",
          "text": [
            "Printing list when delimiter = ';'\n",
            "['hha', 'yya', 'rha', 'vha', 'sha', 'rar']\n",
            "\n",
            "Printing list when delimiter = 'a'\n",
            "['hh', ';yy', ';rh', ';vh', ';sh', ';r', 'r']\n"
          ]
        }
      ],
      "source": [
        "# Example 1:\n",
        "s = \"hha;yya;rha;vha;sha;rar\"\n",
        "list1 = s.split(\";\")\n",
        "print(f\"Printing list when delimiter = ';'\")\n",
        "print(list1)\n",
        "print(\"\\nPrinting list when delimiter = 'a'\")\n",
        "list2 = s.split(\"a\")\n",
        "print(list2)"
      ]
    },
    {
      "cell_type": "code",
      "execution_count": 2,
      "metadata": {
        "colab": {
          "base_uri": "https://localhost:8080/"
        },
        "id": "8R-sfkuNZ3pr",
        "outputId": "f5abe18c-27fa-4423-dea0-f79b3067848e"
      },
      "outputs": [
        {
          "name": "stdout",
          "output_type": "stream",
          "text": [
            "['Hii', 'Himanshu!', 'How are you ?']\n",
            "length of list = 3\n"
          ]
        }
      ],
      "source": [
        "# Example 2:\n",
        "s = \"Hii Himanshu! How are you ?\"\n",
        "l = s.split(maxsplit=2)\n",
        "print(l)\n",
        "# Below the length of list comes out to be 3. Because ( l = n + 1)\n",
        "# l = length, n = maxsplit passed (here 2).\n",
        "print(f\"length of list = {len(l)}\") # output = 3\n"
      ]
    },
    {
      "cell_type": "markdown",
      "metadata": {
        "id": "mHZq8rFz3v5v"
      },
      "source": [
        "<img src=\"images\\purple-divider.png\"/>"
      ]
    },
    {
      "cell_type": "markdown",
      "metadata": {
        "id": "CRoFHNoljc8T"
      },
      "source": [
        "## 4. strip() :  [Default = whitespace]   \n",
        "* Return a copy of the string with **leading** and **trailing** characters or whitespace removed.\n",
        "\n",
        "* #### SYNTAX:\n",
        "   * `string.strip(characters)`\n",
        "      * Here, characters = A set of characters to remove as leading/trailing characters.\n",
        "      "
      ]
    },
    {
      "cell_type": "code",
      "execution_count": null,
      "metadata": {
        "colab": {
          "base_uri": "https://localhost:8080/"
        },
        "id": "brqGl59E2aLM",
        "outputId": "f9bd5ed5-1b8b-4452-d127-2f0404ebd289"
      },
      "outputs": [
        {
          "name": "stdout",
          "output_type": "stream",
          "text": [
            "banana\n"
          ]
        }
      ],
      "source": [
        "# Example 1:\n",
        "\n",
        "S = \",,,,,rrttgg.....banana....rrr\"\n",
        "x = S.strip(\",.grt\") # we want to remove 5 characters: (,.grt)\n",
        "print(x)"
      ]
    },
    {
      "cell_type": "code",
      "execution_count": null,
      "metadata": {
        "colab": {
          "base_uri": "https://localhost:8080/"
        },
        "id": "-WDB_pxsyV8T",
        "outputId": "2ec741ec-71b5-4f7a-a8da-b4df3fb52578"
      },
      "outputs": [
        {
          "name": "stdout",
          "output_type": "stream",
          "text": [
            " Hello world how are you #fit #healthy \n",
            "39\n"
          ]
        }
      ],
      "source": [
        "s = \"########## Hello world how are you #fit #healthy ##############\"\n",
        "result = s.strip(\"#\")\n",
        "print(result)\n",
        "print(len(result))"
      ]
    },
    {
      "cell_type": "markdown",
      "metadata": {
        "id": "JYpvqr1vzOzf"
      },
      "source": [
        "**NOTE** : From above, two things are clear :-         \n",
        " 1. Only trailing and leading character(#) were removed.\n",
        " 2. Only specified element were removed, not any whitespace.\n",
        " 3. We can pass multiple characters.\n",
        "\n",
        " ## Note: Similarly there are other 2 methods related to strip():\n",
        "  ###  1. **lstrip()**: only leading characters are removed.\n",
        "  ###  2. **rstrip()** : only trailing characters are removed.\n",
        "\n"
      ]
    },
    {
      "cell_type": "markdown",
      "metadata": {
        "id": "_SFguMBI3xpn"
      },
      "source": [
        "<img src=\"images\\purple-divider.png\"/>"
      ]
    },
    {
      "cell_type": "markdown",
      "metadata": {
        "id": "usez1GZX3ywf"
      },
      "source": [
        "## 5. join() :\n",
        "* It joins the all items of an `iterable` into one `str`.\n",
        "* **SYNTAX :**\n",
        "  * `string.join(iterable)`\n",
        "     * Here **iterable** is object like list, tuple, dictionary, etc.\n",
        "     * Here this `string` part act as **separator** while joining items in that iterable.\n",
        "\n",
        "* **NOTE** : When using a dictionary as an iterable, the returned values are the keys, not the values."
      ]
    },
    {
      "cell_type": "code",
      "execution_count": null,
      "metadata": {
        "colab": {
          "base_uri": "https://localhost:8080/"
        },
        "id": "r_AW72cODBPM",
        "outputId": "eb039779-c92f-40e5-c0d5-72b9a7a7f8d7"
      },
      "outputs": [
        {
          "name": "stdout",
          "output_type": "stream",
          "text": [
            "ab#pq#rs\n"
          ]
        }
      ],
      "source": [
        "# Example 1:\n",
        "string = \"#\".join(['ab', 'pq', 'rs'])\n",
        "print(string)"
      ]
    },
    {
      "cell_type": "markdown",
      "metadata": {
        "id": "hKSRv05kEe0S"
      },
      "source": [
        "<img src=\"images\\purple-divider.png\"/>"
      ]
    },
    {
      "cell_type": "code",
      "execution_count": null,
      "metadata": {
        "id": "YaP7DvoUEbZg"
      },
      "outputs": [],
      "source": []
    },
    {
      "cell_type": "code",
      "execution_count": 3,
      "metadata": {
        "colab": {
          "base_uri": "https://localhost:8080/"
        },
        "id": "P_eQlwAAsdNO",
        "outputId": "396bce8c-b4f2-4a4d-efcf-42506517bc52"
      },
      "outputs": [
        {
          "name": "stdout",
          "output_type": "stream",
          "text": [
            "David Warner From Australia\n"
          ]
        }
      ],
      "source": [
        "name = \"David Warner from Australia\"\n",
        "print( \" \".join(map(str.capitalize, name.split(\" \"))))"
      ]
    },
    {
      "cell_type": "code",
      "execution_count": null,
      "metadata": {
        "id": "ieY2zq9V9Wqr"
      },
      "outputs": [],
      "source": []
    }
  ],
  "metadata": {
    "colab": {
      "authorship_tag": "ABX9TyP1ZeI0/ODMOsGa58O3tE6m",
      "include_colab_link": true,
      "provenance": []
    },
    "kernelspec": {
      "display_name": "Python 3",
      "name": "python3"
    },
    "language_info": {
      "codemirror_mode": {
        "name": "ipython",
        "version": 3
      },
      "file_extension": ".py",
      "mimetype": "text/x-python",
      "name": "python",
      "nbconvert_exporter": "python",
      "pygments_lexer": "ipython3",
      "version": "3.10.12"
    }
  },
  "nbformat": 4,
  "nbformat_minor": 0
}

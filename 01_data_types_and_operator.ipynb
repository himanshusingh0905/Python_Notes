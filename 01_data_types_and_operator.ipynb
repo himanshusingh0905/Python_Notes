{
 "cells": [
  {
   "cell_type": "markdown",
   "metadata": {},
   "source": [
    "# First program:"
   ]
  },
  {
   "cell_type": "markdown",
   "metadata": {},
   "source": [
    "### print():\n",
    "* SYNTAX : `print(object(s), sep=separator, end=end, file=file, flush=flush)`\n",
    "  * object = object you are printing\n",
    "  * sep = separator between variables, when you are passing multiple variables to print.\n",
    "  * end = By default = \\n, ending of line ( after printing variables passed into print() )\n"
   ]
  },
  {
   "cell_type": "code",
   "execution_count": 15,
   "metadata": {},
   "outputs": [
    {
     "name": "stdout",
     "output_type": "stream",
     "text": [
      "Hello world\n",
      "Hello World!\n",
      "Hello World!\n",
      "Hello World!\n",
      "She said \"Hello\" and left\n",
      "She said \"Hello\" and left\n"
     ]
    }
   ],
   "source": [
    "print(\"Hello world\")\n",
    "print(\"Hello World!\\nHello World!\\nHello World!\")\n",
    "\n",
    "# If I want to print ->  she said \"Hello\" and left.\n",
    "# First method:\n",
    "print('She said \"Hello\" and left')\n",
    "# Second method:  Using backspace(\\) to escape the double quotes\n",
    "print(\"She said \\\"Hello\\\" and left\")"
   ]
  },
  {
   "cell_type": "markdown",
   "metadata": {},
   "source": [
    "<img src=\"images\\green-divider.png\"/>"
   ]
  },
  {
   "cell_type": "markdown",
   "metadata": {},
   "source": [
    "# 1. Python Variables & Data types\n",
    "\n",
    "* Python is `Dynamically typed` language. Which means we don't have to declare the `type` before variable.\n",
    "* It's a **case-sensitive** language.\n",
    "\n",
    "### RULES TO DECLARE VARIABLES:\n",
    "* A variable name must start with a `letter` or the `underscore` character.\n",
    "* A variable name can only contain **alpha-numeric** characters and underscores **(A-z, 0-9, and _ )**.\n",
    "* Variable names are case-sensitive (age, Age and AGE are three different variables).\n",
    "* A variable name cannot be any of the Python keywords."
   ]
  },
  {
   "cell_type": "code",
   "execution_count": null,
   "metadata": {},
   "outputs": [],
   "source": [
    "\n",
    "age = 40\n",
    "\n",
    "# 1. print using 'string - concatenation'\n",
    "\n",
    "# print(\"you are \"+ age + \"years old\")  # you are going to get TypeError here as age is int\n",
    "# correction : age is type-casted to int\n",
    "print(\"you are \"+ str(age) + \" years old\")\n",
    "\n",
    "# 2. Pass as argument or using comma\n",
    "print(\"you are\", age , \"years old\") # Here print() is treating them as 3 arguments, so automatic space is included after comma\n",
    "a = \"shri\"\n",
    "b = 89\n",
    "c = 28j\n",
    "print(a,b,c)\n",
    "\n",
    "# 3. fstrings\n",
    "print( f\"you are {age} years old\")\n",
    "\n"
   ]
  },
  {
   "cell_type": "markdown",
   "metadata": {},
   "source": [
    "# Data types\n",
    "Python supports 3 categories of data types:\n",
    "1. **Basic types** - int, float, complex, bool, string, bytes\n",
    "\n",
    "2. **Container types** - list, tuple, set, dict\n",
    "\n",
    "3. **User-defined types** - class\n"
   ]
  },
  {
   "cell_type": "markdown",
   "metadata": {},
   "source": [
    "## Basic types\n",
    "### 1. Number (int, float, complex)"
   ]
  },
  {
   "cell_type": "code",
   "execution_count": null,
   "metadata": {},
   "outputs": [],
   "source": [
    "a = 25\n",
    "b = 25.4\n",
    "c = 7 + 4j\n",
    "\n",
    "print(type(a))\n",
    "print(type(b))\n",
    "print(type(c))"
   ]
  },
  {
   "cell_type": "markdown",
   "metadata": {},
   "source": [
    "#### To increase redability of numbers we can represent them like this below:\n"
   ]
  },
  {
   "cell_type": "code",
   "execution_count": null,
   "metadata": {},
   "outputs": [],
   "source": [
    "num = 3_12_43_555\n",
    "print(num)\n",
    "\n",
    "num2 = 5_69_73.4789\n",
    "print(num2)\n",
    "\n",
    "print( 1_2  * 1_5)"
   ]
  },
  {
   "cell_type": "markdown",
   "metadata": {},
   "source": [
    "### To set precision we can use round() method:\n",
    "#### round() :\n",
    "- Syntax : **round (** *value*, *precision after decimal* **)**"
   ]
  },
  {
   "cell_type": "code",
   "execution_count": null,
   "metadata": {},
   "outputs": [],
   "source": [
    "print( round( 10/3, 2)) # precision = 2 digits afte decimal\n",
    "print( round(5.36725, 1))\n",
    "print( round(2.31243, 3))"
   ]
  },
  {
   "cell_type": "markdown",
   "metadata": {},
   "source": [
    "### 2. STRING (str)"
   ]
  },
  {
   "cell_type": "code",
   "execution_count": null,
   "metadata": {},
   "outputs": [],
   "source": [
    "email = \"abc@gmail.com\"\n",
    "name = \"Himanshu\"\n",
    "\n",
    "# Using fstring to print :\n",
    "print(f\"your name is {name}\")\n",
    "print(f\"your email is {email}\")\n",
    "\n",
    "print(type(name))"
   ]
  },
  {
   "cell_type": "markdown",
   "metadata": {},
   "source": [
    "### 3. BOOLEAN ( True or False ):"
   ]
  },
  {
   "cell_type": "code",
   "execution_count": 10,
   "metadata": {},
   "outputs": [
    {
     "name": "stdout",
     "output_type": "stream",
     "text": [
      "False\n",
      "True\n"
     ]
    }
   ],
   "source": [
    "# QUESTION : WHAT WOULD THESE BOOLEAN VARIABLES PRINT ?\n",
    "str1 = \"\"\n",
    "str2 = \" \"\n",
    "str1 = bool(str1)\n",
    "print(str1)\n",
    "str2 = bool(str2)\n",
    "print(str2)\n",
    "\n",
    "# Note : this way we can also find out that if string is empty or not.\n",
    "#        Because empty string when type-casted to bool, becomes false.\n"
   ]
  },
  {
   "cell_type": "code",
   "execution_count": 11,
   "metadata": {},
   "outputs": [
    {
     "name": "stdout",
     "output_type": "stream",
     "text": [
      "Are you single True\n",
      "<class 'bool'>\n"
     ]
    }
   ],
   "source": [
    "flag = True\n",
    "print(f\"Are you single {flag}\")\n",
    "print(type(flag))"
   ]
  },
  {
   "cell_type": "markdown",
   "metadata": {},
   "source": [
    "<img src=\"images\\green-divider.png\"/>"
   ]
  },
  {
   "cell_type": "markdown",
   "metadata": {},
   "source": [
    "# Python Type Jargon\n",
    "Often following terms are used while describing Python types:\n",
    "\n",
    "1. **Collection** - a generic term for container types.\n",
    "\n",
    "2. **Iterable** - means a collection that can be iterated over using a loop.\n",
    "\n",
    "3. **Ordered collection** :\n",
    "   - elements are stored in the same order in which they are inserted. \n",
    "   - Hence its elements can be accessed using an index, i.e. its position in the collection.\n",
    "\n",
    "4. **Unordered collection** :\n",
    "   - elements are not stored in the same order in which they are inserted.  `[ stored order != inserted order]`\n",
    "   - So we cannot predict at which position a particular element is present. \n",
    "   - Hence we cannot access its elements using a position based index.\n",
    "\n",
    "5. **Sequence** is the generic term for an ordered collection.\n",
    "\n",
    "6. **Immutable** - means unchangeable collection.\n",
    "\n",
    "7. **Mutable** - means changeable collection."
   ]
  },
  {
   "cell_type": "markdown",
   "metadata": {},
   "source": [
    "# Classes and Objects\n",
    "- **In Python every type is a class**. \n",
    "   - Hence `int`, `float`, `complex`, `bool`, `str`, `list`, `tuple`, `set`, `dict` are all classes. These are **ready-made** classes. \n",
    "\n",
    "- we can also create **user-defined** classes in python.\n",
    "- When an object is created from a class, it is said that an instance of the class is being created.\n",
    "- A class has a name, whereas objects are nameless. Since objects do not have names, they are referred using their addresses in memory.\n"
   ]
  },
  {
   "cell_type": "code",
   "execution_count": 4,
   "metadata": {},
   "outputs": [
    {
     "name": "stdout",
     "output_type": "stream",
     "text": [
      "30 good\n",
      "<class 'int'>    <class 'str'>\n",
      "Addresses of a and b : 126048558646416, 126048464323824\n",
      "True\n",
      "True\n"
     ]
    }
   ],
   "source": [
    "a = 30 \n",
    "b = 'good'\n",
    "\n",
    "print(a,b)\n",
    "print(type(a),\"  \", type(b))\n",
    "print(f\"Addresses of a and b : {id(a)}, {id(b)}\") \n",
    "print(isinstance(a, int)) # Is a object of int class?\n",
    "print(isinstance(b, str)) # Is b object of str class?"
   ]
  },
  {
   "cell_type": "markdown",
   "metadata": {},
   "source": [
    "### In below code: \n",
    "```py\n",
    "      a=3\n",
    "      b=3\n",
    "      print(id(a), id(b))\n",
    "      print(a is b)\n",
    "\n",
    "      a = 30\n",
    "      print(id(a))\n",
    "```\n",
    "#### Are we creating 2 int objects?\n",
    "   - Answer is **No**.   \n",
    "\n",
    "   - Since the value stored in int object is same(i.e. 3), So only 1 int object is created. \n",
    "\n",
    "   - Both 'a' and 'b' are referring to the same int object. That is why `id(a)` and `id(b)` return same addresses.\n",
    "\n",
    "   - This can also be verified using the `is` operator. It returns *True* since 'a' and 'b' both are referring to the same object.\n",
    "\n",
    "   - When we attempt to store a new value in 'a', a new int object is created as a different value, i.e. 30, is to be stored in it.\n",
    "     - 'a' now starts referring to this new int object, whereas 'b' continues to refer to int object with value 3."
   ]
  },
  {
   "cell_type": "code",
   "execution_count": 5,
   "metadata": {},
   "outputs": [
    {
     "name": "stdout",
     "output_type": "stream",
     "text": [
      "126048558645552 126048558645552\n",
      "True\n",
      "126048558646416\n"
     ]
    }
   ],
   "source": [
    "a=3\n",
    "b=3\n",
    "print(id(a), id(b))\n",
    "print(a is b)\n",
    "\n",
    "a = 30\n",
    "print(id(a))"
   ]
  },
  {
   "cell_type": "code",
   "execution_count": null,
   "metadata": {},
   "outputs": [],
   "source": []
  },
  {
   "cell_type": "markdown",
   "metadata": {},
   "source": [
    "<img src=\"images\\green-divider.png\"/>"
   ]
  },
  {
   "cell_type": "markdown",
   "metadata": {},
   "source": [
    "## Ways to assign values to varibles\n",
    "\n",
    "#### 1. ONE TO MANY\n",
    "#### 2. MANY TO MANY\n",
    "#### 3. MANY TO ITERABLE ( OR ANY COLLECTION )"
   ]
  },
  {
   "cell_type": "markdown",
   "metadata": {},
   "source": [
    "# User Input & Type-Casting:\n",
    "* `input()` always returns a **string** (or **str**)."
   ]
  },
  {
   "cell_type": "code",
   "execution_count": 4,
   "metadata": {},
   "outputs": [
    {
     "name": "stdout",
     "output_type": "stream",
     "text": [
      "Hello Himanshu\n"
     ]
    }
   ],
   "source": [
    "# User input\n",
    "name = input(\"Enter your name \")\n",
    "print(f\"Hello {name}\")"
   ]
  },
  {
   "cell_type": "code",
   "execution_count": null,
   "metadata": {},
   "outputs": [
    {
     "name": "stdout",
     "output_type": "stream",
     "text": [
      "23\n",
      "<class 'str'>\n"
     ]
    }
   ],
   "source": [
    "# input() returns 'str' type:\n",
    "age = input(\"Enter your age: \")\n",
    "\n",
    "# Suppose I want to increase my age by 1\n",
    "# age = age + 1     #TypeError, because age is str.\n",
    "\n",
    "print(age)\n",
    "print(type(age))"
   ]
  },
  {
   "cell_type": "markdown",
   "metadata": {},
   "source": [
    "#### Note : By default input() function returns `str` type. so we have to typecast it into other data types.\n",
    "* So In Previous example, If I do `age = age + 1`. I am going to get **TypeError**.Because you can't concatenate `int` to `str`.\n",
    "* Hence we have to **type-cast** age before increamenting it by 1"
   ]
  },
  {
   "cell_type": "markdown",
   "metadata": {},
   "source": [
    "## TYPE-CASTING:"
   ]
  },
  {
   "cell_type": "code",
   "execution_count": 9,
   "metadata": {},
   "outputs": [
    {
     "name": "stdout",
     "output_type": "stream",
     "text": [
      "<class 'int'>\n",
      "<class 'float'>\n",
      "<class 'bool'>\n",
      "<class 'complex'>\n",
      "45\n",
      "23.269\n",
      "True\n",
      "(4+3j)\n"
     ]
    }
   ],
   "source": [
    "# How to take int, float and bool input\n",
    "i = int(input())\n",
    "f = float(input())\n",
    "b = bool(input())\n",
    "co = complex(input())\n",
    "print(type(i))\n",
    "print(type(f))\n",
    "print(type(b))\n",
    "print(type(co))\n",
    "print(i)\n",
    "print(f)\n",
    "print(b)\n",
    "print(co)"
   ]
  },
  {
   "cell_type": "markdown",
   "metadata": {},
   "source": [
    "### Basically type-casting is of two types:\n",
    "1. Explicit : Manual type-casting or ` Doing casting by yourself`. [Above examples showcasing explicit typecast]\n",
    "2. Implicit : Automatic type-casting.\n",
    "\n",
    "\n",
    "### Implicit type-casting:\n",
    "* lower data-type is type-casted to higher data-type.\n",
    "   * `int` will be typecasted to `float`.\n",
    "   * `float` will be typecasted to `complex`.\n",
    "\n"
   ]
  },
  {
   "cell_type": "code",
   "execution_count": 14,
   "metadata": {},
   "outputs": [
    {
     "name": "stdout",
     "output_type": "stream",
     "text": [
      "2.5\n",
      "<class 'float'>\n"
     ]
    }
   ],
   "source": [
    "# Implicit Type-casting\n",
    "a = 4     # int\n",
    "b = 10.0  # float\n",
    "\n",
    "c = b / a    # it will be type-casted to float\n",
    "\n",
    "print(c)\n",
    "print(type(c))\n"
   ]
  },
  {
   "cell_type": "code",
   "execution_count": 13,
   "metadata": {},
   "outputs": [
    {
     "name": "stdout",
     "output_type": "stream",
     "text": [
      "(7.2+3j)\n",
      "<class 'complex'>\n"
     ]
    }
   ],
   "source": [
    "# EXample 2:\n",
    "\n",
    "a = 5.2\n",
    "b  = 2 + 3j\n",
    "\n",
    "c = a + b # c will be type-casted to complex\n",
    "\n",
    "print(c)\n",
    "print(type(c))"
   ]
  },
  {
   "cell_type": "markdown",
   "metadata": {},
   "source": [
    "<img src=\"images\\purple-divider.png\"/>"
   ]
  },
  {
   "cell_type": "markdown",
   "metadata": {},
   "source": [
    "# operators in python:\n",
    "\n",
    "## 1. Arithmetic operators:\n",
    "\n",
    "1.   Basic operators : +, -, *, /\n",
    "2.   Modulus operator: %\n",
    "3.   Exponentiation : **\n",
    "4.  floor or integer division : //\n",
    "\n",
    "## 2. Python Bitwise Operators\n",
    "Bitwise operators are used to perform operations on bits:\n",
    "1. AND (&)\n",
    "2. OR ( | )\n",
    "3. NOT ( ~ )\n",
    "4. left shift ( << )\n",
    "5. right shift ( >> )\n",
    "\n",
    "## Augmented Assignment operator:\n",
    "+=,  -= ,  *= ,  /= ,  &= ,  |= ,  <<= ,  >>= ,  ~= ,  **= ,  %= ,  //=\n",
    "\n",
    "# 3. Comparision Operator:\n",
    "1. greater than ( > )\n",
    "2. less than ( < )\n",
    "3. greater than or equal to ( >= )\n",
    "4. less than or equal to ( <= )\n",
    "5. Not equal ( != )\n",
    "6. equal ( == )\n",
    "\n",
    "# 4. Logical Operator:\n",
    "1. and ( like && in c++ )\n",
    "2. or\n",
    "3. not\n",
    "\n",
    "# 5. Identity Operator\n",
    "1. `is`\n",
    "2.  `is not`\n",
    "\n",
    "# 6. Membership Operator\n",
    "1. `in`\n",
    "2. `not in`\n",
    "\n",
    "\n",
    "\n",
    "\n",
    "\n"
   ]
  },
  {
   "cell_type": "code",
   "execution_count": 2,
   "metadata": {},
   "outputs": [
    {
     "name": "stdout",
     "output_type": "stream",
     "text": [
      "value of a =  15\n",
      "value of normal division (a / 2) =  7.5\n",
      "Integer division =  7\n",
      "value of exponentiation =  343\n",
      "Rounded value of 7.8764236 upto 2 decimal places 7.88\n",
      "abs() of -89 is = 89\n"
     ]
    }
   ],
   "source": [
    "a = 11\n",
    "\n",
    "# 1. '+' operator:\n",
    "a += 4\n",
    "print(\"value of a = \",a)\n",
    "\n",
    "# Normal division\n",
    "d = a / 2\n",
    "print(f\"value of normal division (a / 2) = \",d)\n",
    "\n",
    "d = a // 2\n",
    "print(f\"Integer division = \", d);\n",
    "\n",
    "# Integer division\n",
    "a //= 2\n",
    "\n",
    "# Exponentiation\n",
    "a **= 3\n",
    "print(f\"value of exponentiation = \",a)\n",
    "\n",
    "# round()\n",
    "f = 7.8764236\n",
    "print(f\"Rounded value of {f} upto 2 decimal places {round(f,2)}\")\n",
    "\n",
    "\n",
    "# abs()\n",
    "n = -89\n",
    "print(f\"abs() of {n} is = {abs(n)}\")\n"
   ]
  },
  {
   "cell_type": "markdown",
   "metadata": {},
   "source": [
    "## Identity Operators( `is` , `is not`) in detail :\n",
    "\n",
    "* Identity operators are used to **compare the objects**.\n",
    "* If both the objects are actually of the `same data type` and `share the same memory location`.\n",
    "\n",
    "1.   `is = True` : If variables on either side of the it point to same object and `False` otherwise.\n",
    "2.   `is not = True` If variables on either side of it aren't same. and `False` otherwise."
   ]
  },
  {
   "cell_type": "code",
   "execution_count": 1,
   "metadata": {},
   "outputs": [
    {
     "name": "stdout",
     "output_type": "stream",
     "text": [
      "False\n",
      "True\n",
      "False\n"
     ]
    }
   ],
   "source": [
    "# Example 1:\n",
    "a = 1000\n",
    "b = 1000\n",
    "print(a is b)\n",
    "\n",
    "# Example 2:\n",
    "x = 5\n",
    "y = 5\n",
    "print(x is y)\n",
    "\n",
    "# Example 3:\n",
    "x = [\"Geeks\", \"for\", \"Geeks\"]\n",
    "y = [\"Geeks\", \"for\", \"Geeks\"]\n",
    "print(x is y)\n"
   ]
  },
  {
   "cell_type": "markdown",
   "metadata": {},
   "source": [
    "# Membership operators(`in` , `not in`) in detail:\n",
    "1. **in operator**:\n",
    "    * It is used to check if a **character/ substring/ element** exists in a sequence or not.\n",
    "    * Evaluate to `True` if it finds the specified element in a sequence otherwise `False`.\n",
    "\n",
    "    *  **Time complexity** of the **in** operator for `lists` is **O(n)**. And for `sets` is **O(n)**\n",
    "\n",
    "\n",
    "2. **not in** returns:\n",
    "    * `True` : If finds the variable in sequence and `False` otherwise."
   ]
  },
  {
   "cell_type": "code",
   "execution_count": null,
   "metadata": {},
   "outputs": [
    {
     "name": "stdout",
     "output_type": "stream",
     "text": [
      "comman elements are : [4, 5]\n"
     ]
    }
   ],
   "source": [
    "# Write a program to find comman element in list using 'in' operator:\n",
    "list1 = [1,2,3,4,5]\n",
    "list2 = [5,6,8,4]\n",
    "ans = list()\n",
    "\n",
    "for i in list1:\n",
    "  if i in list2:\n",
    "    ans.append(i)\n",
    "\n",
    "\n",
    "print(f\"comman elements are : {ans}\")"
   ]
  },
  {
   "cell_type": "code",
   "execution_count": 17,
   "metadata": {},
   "outputs": [
    {
     "name": "stdout",
     "output_type": "stream",
     "text": [
      "True\n"
     ]
    }
   ],
   "source": [
    "# Example 2:\n",
    "word = \"avacado\"\n",
    "ans = (\"v\" in word)\n",
    "print(ans)"
   ]
  },
  {
   "cell_type": "markdown",
   "metadata": {},
   "source": [
    "# Operator Precedence and Associativity:\n",
    "\n",
    "- Operators in decreasing order of their priority (**PEMDAS**):\n",
    "    1. Parentheses  : `()`\n",
    "\n",
    "    2. Exponentiation : `**`\n",
    "\n",
    "    3. Multiplication, Division, modulo: `*, /, //, %`\n",
    "\n",
    "    4. Addition, Subtraction : `+,-`\n",
    "\n",
    "- If there is a tie between operators of same precedence, it is settled\n",
    "using associativity of operators.\n",
    "\n",
    "- Each operator has either left to right associativity or right to left associativity.\n",
    "- Example : In expression `c = a * b / c`, * is done before `/` .since arithmetic operators have left to right associativity.\n",
    "\n",
    "#### Note: Only 3 operators have `right to left` precedence: 1. `Exponentiation` 2. `bitwise NOT` 3. `Assignment`"
   ]
  },
  {
   "cell_type": "markdown",
   "metadata": {},
   "source": []
  }
 ],
 "metadata": {
  "kernelspec": {
   "display_name": "Python 3",
   "language": "python",
   "name": "python3"
  },
  "language_info": {
   "codemirror_mode": {
    "name": "ipython",
    "version": 3
   },
   "file_extension": ".py",
   "mimetype": "text/x-python",
   "name": "python",
   "nbconvert_exporter": "python",
   "pygments_lexer": "ipython3",
   "version": "3.10.12"
  }
 },
 "nbformat": 4,
 "nbformat_minor": 2
}

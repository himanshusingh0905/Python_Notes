{
  "cells": [
    {
      "cell_type": "markdown",
      "metadata": {
        "colab_type": "text",
        "id": "view-in-github"
      },
      "source": [
        "<a href=\"https://colab.research.google.com/github/himanshusingh0905/python-notes/blob/main/python_basics.ipynb\" target=\"_parent\"><img src=\"https://colab.research.google.com/assets/colab-badge.svg\" alt=\"Open In Colab\"/></a>"
      ]
    },
    {
      "cell_type": "markdown",
      "metadata": {},
      "source": [
        "# Control flow:\n",
        "- Loops and if-else blocks\n",
        "\n",
        "## 1. ( if - else - elif ) in python :\n",
        "* `elif` is similar to `else if` in c++. Otherwise `if-else` are already same.\n",
        "* Only one difference colon ( : ). Here in python `colon` is used to represent a block of code like `paranthesis` does in c++."
      ]
    },
    {
      "cell_type": "code",
      "execution_count": null,
      "metadata": {},
      "outputs": [],
      "source": [
        "# Calculator program to demonstrate if-else-elif:\n",
        "op = input(\"Choose an operator from (+ , - , / , *) : \")\n",
        "n1 = int(input(\"Enter first number : \"))\n",
        "n2 = int(input(\"Enter second number : \"))\n",
        "\n",
        "if op == '+':\n",
        "  print(f\"sum = {n1 + n2}\")\n",
        "elif op == \"-\":\n",
        "  print(f\"subtraction = {n1-n2}\")\n",
        "elif op == \"*\":\n",
        "  print(f\"Multiplication = {n1*n2}\")\n",
        "else:\n",
        "  print(f\"division = {n1/n2}\")"
      ]
    },
    {
      "cell_type": "markdown",
      "metadata": {},
      "source": [
        "### Exercise:\n",
        "Write a program that check out whether if a given year is a leap year. A normal year has 365 days, leap years have 366, with an extra day in February. The reason why we have leap years is really fascinating, this video does it more justice.\n",
        "\n",
        "This is how you check out whether if a particular year is a leap year.\n",
        "- on every year that is divisible by 4 with no remainder\n",
        "- **except** every year that is evenly divisible by 100 with no remainder\n",
        "- **unless** the year is also divisible by 400 with no remainder\n",
        "\n",
        "e.g. The year 2000:\n",
        "   - 2000 ÷ 4 = 500 (Leap)\n",
        "   - 2000 ÷ 100 = 20 (Not Leap)\n",
        "   - 2000 ÷ 400 = 5 (Leap!)\n",
        "- So the year 2000 is a leap year.\n",
        "\n",
        "But the year 2100 is not a leap year because:\n",
        "- 2100 ÷ 4 = 525 (Leap)\n",
        "- 2100 ÷ 100 = 21 (Not Leap)\n",
        "- 2100 ÷ 400 = 5.25 (Not Leap)\n",
        "---\n",
        "#### ALGORITHM :\n",
        "<img src=\"images\\algo.png\"/>\n"
      ]
    },
    {
      "cell_type": "code",
      "execution_count": 8,
      "metadata": {},
      "outputs": [
        {
          "name": "stdout",
          "output_type": "stream",
          "text": [
            "1990\n",
            "Not a Leap year\n"
          ]
        }
      ],
      "source": [
        "year = int(input(\"Enter year : \"))\n",
        "print(year)\n",
        "\n",
        "if year % 4 == 0:\n",
        "    if year % 100 == 0:\n",
        "        if year % 400 == 0:\n",
        "            print(\"Yes, It's a Leap year\")\n",
        "        else :\n",
        "            print(\"Not a Leap year\")\n",
        "    else :\n",
        "        print(\"Yes, It's a Leap year\")\n",
        "else :\n",
        "    print(\"Not a Leap year\")"
      ]
    },
    {
      "cell_type": "markdown",
      "metadata": {},
      "source": [
        "## EXERCISE 2 :\n",
        "\n",
        "You are going to write a program that tests the compatibility between two people.\n",
        "\n",
        "To work out the love score between two people:\n",
        "- Take both people's names and check for the number of times the letters in the word TRUE occurs.\n",
        "- Then check for the number of times the letters in the word LOVE occurs.\n",
        "- Then combine these numbers to make a 2 digit number.\n",
        "\n",
        "For Love Scores less than 10 or greater than 90, the message should be:\n",
        "- \"Your score is *x*, you go together like coke and mentos.\"\n",
        "For Love Scores between 40 and 50, the message should be:\n",
        "- \"Your score is *y*, you are alright together.\"\n",
        "\n",
        "Otherwise, the message will just be their score. e.g.:\n",
        "\n",
        "\"Your score is *z*.\"\n",
        "e.g.\n",
        "\n",
        "name1 = \"Angela Yu\"\n",
        "name2 = \"Jack Bauer\"\n",
        "\n",
        "- T occurs 0 times\n",
        "- R occurs 1 time\n",
        "- U occurs 2 times\n",
        "- E occurs 2 times\n",
        "\n",
        "Total = 5\n",
        "\n",
        "- L occurs 1 time\n",
        "- O occurs 0 times\n",
        "- V occurs 0 times\n",
        "- E occurs 2 times\n",
        "\n",
        "Total = 3\n",
        "\n",
        "Love Score = 53\n",
        "\n",
        "**Print: \"Your score is 53.\"**\n",
        "\n",
        "\n",
        "### Important functions we can use here :\n",
        "1. **count()** :\n",
        "   -  **SYNTAX :**   ***string.count(\"char\")***        -> It will return the number of characters present in that string.\n",
        "\n",
        "2. **lower()**:\n",
        "   -  **SYNTAX :**  ***string.lower()***   -> It will convert all characters of that string into lowercase."
      ]
    },
    {
      "cell_type": "code",
      "execution_count": 9,
      "metadata": {},
      "outputs": [
        {
          "name": "stdout",
          "output_type": "stream",
          "text": [
            "Your score is 45, you are alright together.\n"
          ]
        }
      ],
      "source": [
        "# Here we can use count() to count characters\n",
        "name1 = input().lower()\n",
        "name2 = input().lower()\n",
        "\n",
        "# Now I have to count letters of TRUE in both names\n",
        "Tcount = 0\n",
        "Tcount += ( name1.count(\"t\") + name1.count(\"r\") + name1.count(\"u\") + name1.count(\"e\") )\n",
        "Tcount += ( name2.count(\"t\") + name2.count(\"r\") + name2.count(\"u\") + name2.count(\"e\") )\n",
        "\n",
        "# Now I have to count letters of LOVE in both names\n",
        "Lcount = 0\n",
        "Lcount += ( name1.count(\"l\") + name1.count(\"o\") + name1.count(\"v\") + name1.count(\"e\") )\n",
        "Lcount += ( name2.count(\"l\") + name2.count(\"o\") + name2.count(\"v\") + name2.count(\"e\") )\n",
        "\n",
        "score = Tcount * 10 + Lcount\n",
        "\n",
        "if score < 10 and score > 90:\n",
        "    print(f\"Your score is {score}, you go together like coke and mentos.\")\n",
        "elif score > 40 and score < 50:\n",
        "    print(f\"Your score is {score}, you are alright together.\")\n",
        "else :\n",
        "    print(f\"Your score is {score}.\")\n"
      ]
    },
    {
      "cell_type": "markdown",
      "metadata": {},
      "source": [
        "<img src=\"images\\green-divider.png\"/>"
      ]
    },
    {
      "cell_type": "markdown",
      "metadata": {},
      "source": [
        "# Loops in python:"
      ]
    },
    {
      "cell_type": "code",
      "execution_count": 10,
      "metadata": {},
      "outputs": [
        {
          "name": "stdout",
          "output_type": "stream",
          "text": [
            "Him\n",
            "HE\n",
            "she\n",
            "her\n"
          ]
        }
      ],
      "source": [
        "List = [\"Him\", \"HE\", \"she\", \"her\"]\n",
        "\n",
        "# I call it, For-each loop\n",
        "for item in List:\n",
        "    print(item)"
      ]
    },
    {
      "cell_type": "markdown",
      "metadata": {},
      "source": [
        "## range():\n",
        "* SYNTAX : `range( *start*, *end*, *step* )`\n",
        "* *end* is excluded."
      ]
    },
    {
      "cell_type": "code",
      "execution_count": null,
      "metadata": {},
      "outputs": [],
      "source": [
        "# combining LC for more clarity\n",
        "List = [i for i in range(2,10,2)]\n",
        "print(List)"
      ]
    },
    {
      "cell_type": "code",
      "execution_count": null,
      "metadata": {},
      "outputs": [],
      "source": [
        "# By default, It starts from 0 and 'end' is not included.\n",
        "for i in range(5):\n",
        "    print(i)"
      ]
    },
    {
      "cell_type": "markdown",
      "metadata": {},
      "source": [
        "### Exercise: Print the sum of all even numbers from 1 to N using range().\n"
      ]
    },
    {
      "cell_type": "code",
      "execution_count": 11,
      "metadata": {},
      "outputs": [
        {
          "name": "stdout",
          "output_type": "stream",
          "text": [
            "2 4 \n",
            "sum = 6\n"
          ]
        }
      ],
      "source": [
        "N = int(input())\n",
        "\n",
        "sum = 0\n",
        "for i in range( 2 , N+1, 2):\n",
        "    sum += i\n",
        "    print(i,end=\" \")\n",
        "\n",
        "print(f\"\\nsum = {sum}\")"
      ]
    },
    {
      "cell_type": "markdown",
      "metadata": {},
      "source": [
        "<img src=\"images\\green-divider.png\"/>"
      ]
    },
    {
      "cell_type": "markdown",
      "metadata": {
        "id": "nTxmCNRXyxzt"
      },
      "source": [
        "# math module:"
      ]
    },
    {
      "cell_type": "code",
      "execution_count": null,
      "metadata": {
        "colab": {
          "base_uri": "https://localhost:8080/"
        },
        "id": "NvKLHAg4y4ly",
        "outputId": "5d5d9409-da81-4d82-bdc0-95630fd26cf1"
      },
      "outputs": [
        {
          "name": "stdout",
          "output_type": "stream",
          "text": [
            "Built-in pi = 3.141592653589793\n",
            "Built-in e = 2.718281828459045\n",
            "square root = 5.385164807134504\n",
            "floor of x = 4\n",
            "ceil of x = 5\n"
          ]
        }
      ],
      "source": [
        "import math\n",
        "\n",
        "x = 29\n",
        "\n",
        "print(f\"Built-in pi = {math.pi}\")\n",
        "print(f\"Built-in e = {math.e}\")\n",
        "\n",
        "print(f\"square root = {math.sqrt(x)}\")\n",
        "a = 4.25\n",
        "\n",
        "print(f\"floor of x = {math.floor(a)}\")\n",
        "print(f\"ceil of x = {math.ceil(a)}\")\n",
        "\n",
        "\n"
      ]
    },
    {
      "cell_type": "code",
      "execution_count": null,
      "metadata": {
        "colab": {
          "base_uri": "https://localhost:8080/"
        },
        "id": "VBUte58B0XVZ",
        "outputId": "3f3650b1-cca9-4c3c-a921-fcb9a46cb29f"
      },
      "outputs": [
        {
          "name": "stdout",
          "output_type": "stream",
          "text": [
            "Enter length of side A = 3\n",
            "Enter length of side B = 4\n",
            "length of third side = 5.0\n"
          ]
        }
      ],
      "source": [
        "# Write a program to find hypotenuse of a right triangle\n",
        "import math\n",
        "a = int(input(\"Enter length of side A = \"))\n",
        "b = int(input(\"Enter length of side B = \"))## Exercise: Print the sum of all even numbers from 1 to N using range().\n",
        "\n",
        "\n",
        "h = math.sqrt(a**2 + b**2)\n",
        "print(f\"length of third side = {h}\")"
      ]
    },
    {
      "cell_type": "markdown",
      "metadata": {
        "id": "0qqHLmX2gbjX"
      },
      "source": [
        "# random module\n",
        "1. randrange(*start*, *stop*, *step*)\n",
        "2. randint( a,b ):\n",
        "   -  range = [a,b]\n",
        "3. random():\n",
        "   -  x is in range = [0,1)\n",
        "   -  Basically it's float values"
      ]
    },
    {
      "cell_type": "code",
      "execution_count": 32,
      "metadata": {
        "colab": {
          "base_uri": "https://localhost:8080/"
        },
        "id": "IELq6WIVgaKY",
        "outputId": "530e59c8-1ee6-4898-e5b4-19f625aa02b0"
      },
      "outputs": [
        {
          "name": "stdout",
          "output_type": "stream",
          "text": [
            "11\n",
            "0.008221398202102548\n"
          ]
        }
      ],
      "source": [
        "import random\n",
        "# let's use randrange()\n",
        "random = random.randrange(1,15,2)\n",
        "print(random)\n"
      ]
    },
    {
      "cell_type": "markdown",
      "metadata": {},
      "source": [
        "### choice() in 'random' module\n",
        "* returns a randomly selected element from the specified sequence.\n",
        "* The sequence can be a *string*, a **range*, a *list*, a *tuple* or any other kind of sequence."
      ]
    },
    {
      "cell_type": "code",
      "execution_count": 2,
      "metadata": {},
      "outputs": [
        {
          "name": "stdout",
          "output_type": "stream",
          "text": [
            "We\n",
            "4\n",
            "M\n"
          ]
        }
      ],
      "source": [
        "import random\n",
        "# for List:\n",
        "List= [\"him\", \"he\", \"she\", \"her\", \"I\", \"We\"]\n",
        "print( random.choice(List) )\n",
        "\n",
        "# for range()\n",
        "print( random.choice( range(1,10) ))\n",
        "\n",
        "# for string\n",
        "print( random.choice( \"WELCOME\") ) # giving random letter as output\n"
      ]
    },
    {
      "cell_type": "markdown",
      "metadata": {
        "id": "Vjw_aYgwlxeq"
      },
      "source": [
        "### EXERCISE :           \n",
        "You are going to write a virtual coin toss program. It will randomly tell the user \"Heads\" or \"Tails\".\n",
        "\n",
        "Important, the first letter should be capitalised and spelt exactly like in the example e.g. \"Heads\", not \"heads\".\n",
        "\n",
        "There are many ways of doing this. But to practice what we learnt in the last lesson, you should generate a random number, either 0 or 1. Then use that number to print out \"Heads\" or \"Tails\".\n",
        "\n",
        "e.g. 1 means Heads 0 means Tails"
      ]
    },
    {
      "cell_type": "code",
      "execution_count": 33,
      "metadata": {
        "colab": {
          "base_uri": "https://localhost:8080/"
        },
        "id": "4Jxrloojl4sk",
        "outputId": "83576af6-67f8-49ec-8ee9-92b0d7bc61a6"
      },
      "outputs": [
        {
          "name": "stdout",
          "output_type": "stream",
          "text": [
            "Heads\n"
          ]
        }
      ],
      "source": [
        "import random\n",
        "\n",
        "random = random.randint(0,1)\n",
        "if random == 1 :\n",
        "  print(\"Heads\")\n",
        "else:\n",
        "  print(\"Tails\")"
      ]
    },
    {
      "cell_type": "markdown",
      "metadata": {
        "id": "pXfI-Xj01u-m"
      },
      "source": [
        "<img src=\"images\\green-divider.png\"/>"
      ]
    },
    {
      "cell_type": "markdown",
      "metadata": {},
      "source": [
        "---\n"
      ]
    },
    {
      "cell_type": "markdown",
      "metadata": {
        "id": "YaBX1rV2G7Wa"
      },
      "source": [
        "<img src=\"images\\purple-divider.png\"/>"
      ]
    },
    {
      "cell_type": "markdown",
      "metadata": {
        "id": "tCWUS2jUuY72"
      },
      "source": [
        "## Numbers ( decimal, octal, binary and hexadecimal ):\n",
        "### 1. Decimal : Normal numbers that we usually deal with.\n",
        "### 2. binary :     \n",
        "\n",
        "*   bin() constructor :   converts a number into binary. and return as str\n",
        "*   binary numbers are having prefix **0b**\n",
        "*   Example : 0b1001\n",
        "\n",
        "### 3. oct :    \n",
        "*  oct() constructor : converts a number into octal. and return result as str\n",
        "*  octals prefixed with **0o**.\n",
        "\n",
        "### 4. hex :\n",
        "*  hex() constructor converts number into hexadecimal. and return as str.\n",
        "*  prefixed with **0x**.\n",
        "\n"
      ]
    },
    {
      "cell_type": "code",
      "execution_count": null,
      "metadata": {
        "colab": {
          "base_uri": "https://localhost:8080/"
        },
        "id": "tmje5tFLIWls",
        "outputId": "ab88ad00-2784-47a5-acb0-312c315817f0"
      },
      "outputs": [
        {
          "name": "stdout",
          "output_type": "stream",
          "text": [
            "0xf\n",
            "0b1111\n",
            "0o17\n"
          ]
        }
      ],
      "source": [
        "num = 15\n",
        "h =  hex(num) # output = 0xf\n",
        "b = bin(num)  # Output = 0b1111\n",
        "\n",
        "# Can we convert hex into binary directly using bin().\n",
        "#print( bin(h) )   # Error : 'str' object cannot be interpreted as an integer.\n",
        "print(h)\n",
        "print(b)\n",
        "print( oct(num) )"
      ]
    },
    {
      "cell_type": "markdown",
      "metadata": {
        "id": "FbWmDYojFx_c"
      },
      "source": [
        "<img src=\"images\\green-divider.png\"/>"
      ]
    },
    {
      "cell_type": "markdown",
      "metadata": {},
      "source": [
        "# unpacking "
      ]
    },
    {
      "cell_type": "code",
      "execution_count": 6,
      "metadata": {},
      "outputs": [
        {
          "name": "stdout",
          "output_type": "stream",
          "text": [
            "{'Name': 'David', 'Roll No': 123}\n"
          ]
        }
      ],
      "source": [
        "def demo_unpacking(**kwargs):\n",
        "    print(kwargs)\n",
        "\n",
        "\n",
        "List = [1,2,3,4,5,6,7]\n",
        "Dict = {\n",
        "    \"Name\":\"David\",\n",
        "    \"Roll No\": 123,\n",
        "}\n",
        "\n",
        "demo_unpacking(**Dict) # This way I'm getting error: \n"
      ]
    }
  ],
  "metadata": {
    "colab": {
      "include_colab_link": true,
      "provenance": []
    },
    "kernelspec": {
      "display_name": "Python 3",
      "name": "python3"
    },
    "language_info": {
      "codemirror_mode": {
        "name": "ipython",
        "version": 3
      },
      "file_extension": ".py",
      "mimetype": "text/x-python",
      "name": "python",
      "nbconvert_exporter": "python",
      "pygments_lexer": "ipython3",
      "version": "3.10.12"
    }
  },
  "nbformat": 4,
  "nbformat_minor": 0
}

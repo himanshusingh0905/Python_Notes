{
 "cells": [
  {
   "cell_type": "markdown",
   "metadata": {},
   "source": [
    "# Lifespan:\n",
    "* The time period during which a FastAPI application is active, starting from when it *begins handling requests* to *when it stops*. \n",
    "* Allows you to define tasks to execute during:\n",
    "    * **Startup**: Before the application starts receiving requests.\n",
    "    * **Shutdown**: After the application stops handling requests.\n",
    "\n",
    "* Use Cases:\n",
    "    * Initializing resources like database connections, caches, or machine learning models. [**Before startup**].\n",
    "    * Cleaning up resources, e.g., closing database connections or releasing memory.      [**After Shutdown**]\n",
    "    * Logging application startup/shutdown events.\n",
    "    * Setting up configurations or environment variables dynamically."
   ]
  },
  {
   "cell_type": "code",
   "execution_count": null,
   "metadata": {},
   "outputs": [],
   "source": [
    "from contextlib import asynccontextmanager\n",
    "from fastapi import FastAPI\n",
    "\n",
    "@asynccontextmanager\n",
    "async def lifespan(app: FastAPI):\n",
    "    print(\"App is starting up!\")\n",
    "    yield  # This marks the point where the app starts accepting requests\n",
    "    print(\"App is shutting down!\")\n",
    "\n",
    "app = FastAPI(lifespan=lifespan)\n",
    "\n",
    "@app.get(\"/\")\n",
    "async def root():\n",
    "    return {\"message\": \"Welcome to the app!\"}\n",
    "\n",
    "\n",
    "# Output:\n",
    "#     Before handling requests: App is starting up!\n",
    "#     After stopping the app: App is shutting down!"
   ]
  },
  {
   "cell_type": "markdown",
   "metadata": {},
   "source": [
    "**OUTPUT:**   \n",
    "    \n",
    "<img src=\"img/lifespan.png\"/>"
   ]
  },
  {
   "cell_type": "markdown",
   "metadata": {},
   "source": [
    "# What is a Context Manager?\n",
    "* It's a ***Python construct*** that ensures **setup** and **cleanup** logic is handled properly. \n",
    "* The most common use case is resource management, such as opening and closing files or connections.\n",
    "* How it Works:\n",
    "    * **Setup:** Happens before entering the with block.\n",
    "    * **Cleanup:** Happens automatically after exiting the with block, even if an exception occurs."
   ]
  },
  {
   "cell_type": "code",
   "execution_count": null,
   "metadata": {},
   "outputs": [],
   "source": [
    "# Without Context Manager\n",
    "file = open(\"example.txt\", \"w\")\n",
    "try:\n",
    "    file.write(\"Hello, world!\")\n",
    "finally:\n",
    "    file.close()  # Explicitly closing the file\n",
    "\n",
    "\n",
    "# With Context Manager\n",
    "with open(\"example.txt\", \"w\") as file:\n",
    "    file.write(\"Hello, world!\")\n",
    "# File is automatically closed after the block\n"
   ]
  }
 ],
 "metadata": {
  "kernelspec": {
   "display_name": "Python 3",
   "language": "python",
   "name": "python3"
  },
  "language_info": {
   "codemirror_mode": {
    "name": "ipython",
    "version": 3
   },
   "file_extension": ".py",
   "mimetype": "text/x-python",
   "name": "python",
   "nbconvert_exporter": "python",
   "pygments_lexer": "ipython3",
   "version": "3.10.12"
  }
 },
 "nbformat": 4,
 "nbformat_minor": 2
}

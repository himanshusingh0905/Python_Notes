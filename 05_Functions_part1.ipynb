{
 "cells": [
  {
   "cell_type": "markdown",
   "metadata": {},
   "source": [
    "# Functions"
   ]
  },
  {
   "cell_type": "markdown",
   "metadata": {},
   "source": [
    "## Important points:\n",
    "1. Declared using ***' def '***  keyword"
   ]
  },
  {
   "cell_type": "code",
   "execution_count": 3,
   "metadata": {},
   "outputs": [
    {
     "name": "stdout",
     "output_type": "stream",
     "text": [
      "Hello! David, How are you?\n"
     ]
    }
   ],
   "source": [
    "# EXAMPLE: function with input\n",
    "def greet(name):\n",
    "    print(f\"Hello! {name}, How are you?\")\n",
    "\n",
    "\n",
    "myName = \"David\"\n",
    "greet(myName)"
   ]
  },
  {
   "cell_type": "markdown",
   "metadata": {},
   "source": [
    "# Argument and Parameters:\n",
    "* **Parameters** : variables in the function declaration. \n",
    "   * Example :  `def mul(a,b):` , Here *a* and *b* are **parameters**.\n",
    "  \n",
    "* **Arguments** : varibles which are passed to function.\n",
    "   * Example :\n",
    "   * `p = 5, q = 4`  \n",
    "     `mul(p,q)`, Here  *p* and *q* are **arguments**\n",
    "  "
   ]
  },
  {
   "cell_type": "code",
   "execution_count": 2,
   "metadata": {},
   "outputs": [
    {
     "name": "stdout",
     "output_type": "stream",
     "text": [
      "Anonymous\n",
      "David\n"
     ]
    }
   ],
   "source": [
    "# Default argument:\n",
    "def greet(name=\"Anonymous\"):\n",
    "    print(name)\n",
    "\n",
    "greet() # By defult 'Anonymous will be printed'\n",
    "greet(\"David\")"
   ]
  },
  {
   "cell_type": "markdown",
   "metadata": {},
   "source": [
    "<img src=\"images\\purple-divider.png\"/>"
   ]
  },
  {
   "cell_type": "markdown",
   "metadata": {},
   "source": [
    "# Positional and keyword arguments in function\n",
    "\n",
    "### Positional Argument\n",
    "* Means *Arguments* must be passed according to the **position** of parameters in the function declaration.\n",
    "\n",
    "### Keyword argument: \n",
    "* Here position is not important.\n",
    "* But to avoid ambiguity, variables must be passed like `mul(b=4,a=3)` .   \n",
    "\n",
    "\n",
    "\n",
    "## Positional Arguments\n"
   ]
  },
  {
   "cell_type": "code",
   "execution_count": 4,
   "metadata": {},
   "outputs": [
    {
     "name": "stdout",
     "output_type": "stream",
     "text": [
      "Hello Joss\n",
      "What is it like in California\n",
      "\n",
      "\n",
      "Hello California\n",
      "What is it like in Joss\n"
     ]
    }
   ],
   "source": [
    "# Example of function with positional arguments\n",
    "\n",
    "def greet(name, location):\n",
    "    print(f\"Hello {name}\")\n",
    "    print(f\"What is it like in {location}\")\n",
    "\n",
    "greet(\"Joss\", \"California\")\n",
    "print(\"\\n\")\n",
    "greet(\"California\", \"Joss\")\n"
   ]
  },
  {
   "cell_type": "markdown",
   "metadata": {},
   "source": [
    "Note: Above example is demonstrating the positional argumnents.\n",
    "\n",
    "## Keyword arguments:\n",
    "* See below, order of passing arguments doesn't matter and that's the key point here."
   ]
  },
  {
   "cell_type": "code",
   "execution_count": null,
   "metadata": {},
   "outputs": [
    {
     "name": "stdout",
     "output_type": "stream",
     "text": [
      "Hello Taylor swift\n",
      "What is it like in Pennsylvania\n"
     ]
    }
   ],
   "source": [
    "# Example of keyword arguments:\n",
    "def greet(name, location):\n",
    "    print(f\"Hello {name}\")\n",
    "    print(f\"What is it like in {location}\")\n",
    "\n",
    "# Calling function\n",
    "greet(location=\"Pennsylvania\", name=\"Taylor swift\")\n",
    "# greet(location=\"Pennsylvania\", \"Taylor swift\")            # Error : positional argument cannot follows keyword argument"
   ]
  },
  {
   "cell_type": "markdown",
   "metadata": {},
   "source": [
    "# *args and **kwargs\n",
    "\n",
    "---  \n",
    "\n",
    "\n",
    "## *args : Variable length Positional-Arguments\n"
   ]
  },
  {
   "cell_type": "code",
   "execution_count": 2,
   "metadata": {},
   "outputs": [
    {
     "name": "stdout",
     "output_type": "stream",
     "text": [
      "Type of args :  <class 'tuple'>\n",
      "1\n",
      "2\n",
      "3\n",
      "David\n",
      "4\n",
      "5\n"
     ]
    }
   ],
   "source": [
    "def print_details( *args ):  # We can name anything in place of 'args'\n",
    "    print(\"Type of args : \",type(args))\n",
    "    for arg in args:\n",
    "        print(arg)\n",
    "\n",
    "\n",
    "print_details(1,2,3,\"David\", 4,5)"
   ]
  },
  {
   "cell_type": "markdown",
   "metadata": {},
   "source": [
    "## Note: \n",
    "1. **args** : An iterable, specifically **tuple**.\n",
    "\n",
    "---\n"
   ]
  },
  {
   "cell_type": "markdown",
   "metadata": {},
   "source": [
    "## **kwargs : variable length Keyword-Arguments"
   ]
  },
  {
   "cell_type": "code",
   "execution_count": 3,
   "metadata": {},
   "outputs": [
    {
     "name": "stdout",
     "output_type": "stream",
     "text": [
      "Type of kwargs :  <class 'dict'>\n",
      "name : John\n",
      "age : 45\n",
      "gender : M\n",
      "country : Britain\n"
     ]
    }
   ],
   "source": [
    "def print_details( **kwargs ):  # We can name anything in place of 'kwargs'\n",
    "    print('Type of kwargs : ', type(kwargs))\n",
    "    for key,value in kwargs.items():\n",
    "        print(f\"{key} : {value}\")\n",
    "\n",
    "print_details(name=\"John\", age=45, gender=\"M\", country=\"Britain\")"
   ]
  },
  {
   "cell_type": "code",
   "execution_count": 6,
   "metadata": {},
   "outputs": [
    {
     "name": "stdout",
     "output_type": "stream",
     "text": [
      "Printing POSITIONAL ARGUMENTS........\n",
      "1\n",
      "2\n",
      "3\n",
      "Printing KEYWORD ARGUMENTS........\n",
      "name : John\n",
      "age : 45\n",
      "country : Britain\n"
     ]
    }
   ],
   "source": [
    "# Let's take an example where we are using both\n",
    "def print_details(*args, **kwargs ):  # We can name anything in place of 'kwargs'\n",
    "    print(\"Printing POSITIONAL ARGUMENTS........\")\n",
    "    for arg in args:\n",
    "        print(arg)\n",
    "    print(\"Printing KEYWORD ARGUMENTS........\")\n",
    "    for key,value in kwargs.items():\n",
    "        print(f\"{key} : {value}\")\n",
    "\n",
    "print_details(1,2,3, name=\"John\", age=45,country=\"Britain\")\n"
   ]
  },
  {
   "cell_type": "markdown",
   "metadata": {},
   "source": [
    "<img src=\"images\\green-divider.png\"/>"
   ]
  },
  {
   "cell_type": "markdown",
   "metadata": {},
   "source": [
    "# Mix Positional and Keyword Arguments:\n",
    "#### Below are few examples to demonstarate How we can use 'mix positional and keyword arguments'"
   ]
  },
  {
   "cell_type": "code",
   "execution_count": 5,
   "metadata": {},
   "outputs": [
    {
     "name": "stdout",
     "output_type": "stream",
     "text": [
      "a = 1  | b = 2  | c = 3  | d = 4\n",
      "a = 1  | b = 3  | c = 2  | d = 4\n",
      "a = 1  | b = 2  | c = 4  | d = 3\n"
     ]
    }
   ],
   "source": [
    "#  Example 1 :\n",
    "def add(a,b,c,d):\n",
    "    print(f\"a = {a}  | b = {b}  | c = {c}  | d = {d}\")\n",
    "\n",
    "add(1,2,3,4)\n",
    "add(a=1, d=4, c=2, b=3)\n",
    "add(1,2, d=3, c=4)\n",
    "\n",
    "#          **********       Error-cases      ***********\n",
    "\n",
    "# print( add(a=1, b=2, 3, 4) )      # Error : positional argument follows keyword argument\n",
    "# print( add(1,2, b=3, d=4) )         # Error : add() got multiple values for argument 'b'\n",
    "\n"
   ]
  },
  {
   "cell_type": "code",
   "execution_count": 17,
   "metadata": {},
   "outputs": [
    {
     "name": "stdout",
     "output_type": "stream",
     "text": [
      "15\n",
      "15\n"
     ]
    }
   ],
   "source": [
    "#  Example 2 :\n",
    "def add(a,b,/ ,c,d,e):\n",
    "    return a+b+c+d+e\n",
    "\n",
    "print( add(1, 2, 3, 4, 5) )\n",
    "print( add(1, 3, d=4, c=2, e=5) )\n",
    "\n",
    "\n",
    "#          **********       Error-cases      ***********\n",
    "\n",
    "# print( add(a=1, b=2, d=3, c=4, e=5) )        # Error : add() got some positional-only arguments passed as keyword arguments: 'a, \n",
    "#                                                      *  We are getting this error because, In function declaration some parameters must be\n",
    "#                                                         'positional'. \n",
    "#                                                      *  Parameters before / (forward slash) are must be positional.\n"
   ]
  },
  {
   "cell_type": "code",
   "execution_count": 25,
   "metadata": {},
   "outputs": [
    {
     "name": "stdout",
     "output_type": "stream",
     "text": [
      "21\n"
     ]
    }
   ],
   "source": [
    "#  Example 3 :\n",
    "def add(a,b,/,c,d,*,e,f):\n",
    "    return a+b+c+d+e+f\n",
    "\n",
    "\n",
    "print( add(1, 3, 2, d=4, f=6, e=5) )\n",
    "\n",
    "\n",
    "#          **********       Error-cases      ***********\n",
    "\n",
    "# print( add(1, 2, 3, 4, 5, 6))           # Error : As per function declaration:\n",
    "#                                         Note : Parameters after * must be keyword arguments. But Here we're passing them as positional\n",
    "#                                                          1.   a,b  ->  must be positional arguments\n",
    "#                                                          2.   e,f  ->  must be keyword arguments\n"
   ]
  },
  {
   "cell_type": "markdown",
   "metadata": {},
   "source": [
    "## NOTE: \n",
    "1. **forward slash(/)**: Signifies that parameters 'before' it must be positional.\n",
    "2. **Asterisk(*)**: Signifies that parameters 'after' it must be keyword."
   ]
  },
  {
   "cell_type": "markdown",
   "metadata": {},
   "source": [
    "<img src=\"images\\green-divider.png\"/>"
   ]
  },
  {
   "cell_type": "markdown",
   "metadata": {},
   "source": []
  },
  {
   "cell_type": "markdown",
   "metadata": {},
   "source": [
    "<img src=\"images\\purple-divider.png\"/>"
   ]
  },
  {
   "cell_type": "markdown",
   "metadata": {},
   "source": [
    "# Functions with 'return' keyword:"
   ]
  },
  {
   "cell_type": "code",
   "execution_count": 4,
   "metadata": {},
   "outputs": [
    {
     "name": "stdout",
     "output_type": "stream",
     "text": [
      "Mike Ross\n"
     ]
    }
   ],
   "source": [
    "def formatName(f_name, l_name):\n",
    "    formated_f_name = f_name.title()\n",
    "    formated_l_name = l_name.title()\n",
    "    \n",
    "    # Let's return multiple things, [ returning single value, We already know that ]\n",
    "    return formated_f_name,formated_l_name\n",
    "\n",
    "fname,lname = formatName(\"Mike\",\"Ross\")\n",
    "\n",
    "print(f\"{fname} {lname}\")"
   ]
  },
  {
   "cell_type": "markdown",
   "metadata": {},
   "source": [
    "## sum():\n",
    "**SYNTAX:** sum(iterable, start)\n",
    "* iterable (list, tuple, set, etc)\n",
    "* start = start value of sum, by default = 0"
   ]
  },
  {
   "cell_type": "code",
   "execution_count": 11,
   "metadata": {},
   "outputs": [
    {
     "name": "stdout",
     "output_type": "stream",
     "text": [
      "18\n",
      "28\n"
     ]
    }
   ],
   "source": [
    "List = [4, 5, 6, 3]\n",
    "\n",
    "print( sum(List)) # By default, start = 0\n",
    "print( sum(List, 10) ) # Here initial sum = 10"
   ]
  },
  {
   "cell_type": "markdown",
   "metadata": {},
   "source": [
    "# Pass by value and Pass by reference:\n",
    "* Python doesn't have ***Pass by value*** and ***Pass by reference*** instead it is ***pass by object***\n",
    "* Depending on the type of object you pass in the function, the function behaves differently. \n",
    "    * **Immutable Objects** show “pass by value” whereas **Mutable Objects** show “pass by reference”.\n",
    "* **Immutable Objects:** int, float, complex, str, tuple, frozenset\n",
    "* **Mutable Objects:** list, dict, set, bytearray\n"
   ]
  },
  {
   "cell_type": "code",
   "execution_count": 6,
   "metadata": {},
   "outputs": [
    {
     "name": "stdout",
     "output_type": "stream",
     "text": [
      "name inside function : Ross\n",
      "name outside function : Mike\n"
     ]
    }
   ],
   "source": [
    "def changeValue(name):\n",
    "    name = \"Ross\"\n",
    "    print(f\"name inside function : {name}\")\n",
    "    \n",
    "name = \"Mike\"\n",
    "changeValue(name)\n",
    "print(f\"name outside function : {name}\")\n",
    "# So value didn't change"
   ]
  },
  {
   "cell_type": "markdown",
   "metadata": {},
   "source": [
    "# Scopes in python\n",
    "## Local scope:\n",
    "* When a variable is declared inside a function, then it has a local scope.\n",
    "\n",
    "## Global scope :\n",
    "* When a variable is declared outside of any function, it has Global scope."
   ]
  },
  {
   "cell_type": "code",
   "execution_count": 7,
   "metadata": {},
   "outputs": [
    {
     "name": "stdout",
     "output_type": "stream",
     "text": [
      "Inside function age = 24\n",
      "Outside function age = 14\n"
     ]
    }
   ],
   "source": [
    "age = 14 # Global scope\n",
    "def fun():\n",
    "    age = 24  # Local scope\n",
    "    print(f\"Inside function age = {age}\") # Local variable overrides global variable\n",
    "\n",
    "fun()\n",
    "print(f\"Outside function age = {age}\")  # global varible will be printed"
   ]
  },
  {
   "cell_type": "markdown",
   "metadata": {},
   "source": [
    "#### Note : Python doesn't have block scope. \n",
    "* Anything which is declared inside *if-block* , *loop-block* or any *indented-block* have same scope as it's parent scope.\n",
    "* For Example: \n",
    "    * If any of above block is inside a function, Then variable inside that will have same scope as function.\n",
    "    * or if this block is global, Then variable inside that function will have global scope too."
   ]
  },
  {
   "cell_type": "code",
   "execution_count": 9,
   "metadata": {},
   "outputs": [
    {
     "name": "stdout",
     "output_type": "stream",
     "text": [
      "Accessing variable outside if-block: Will smith\n"
     ]
    }
   ],
   "source": [
    "if True:\n",
    "    name = \"Will smith\"\n",
    "\n",
    "print(f\"Accessing variable outside if-block: {name}\")"
   ]
  },
  {
   "cell_type": "markdown",
   "metadata": {},
   "source": [
    "## How to modify a global variable inside a function? : \n",
    "* When we are modifying a particular variable inside a top(global) if/loop block, then there is no problem at all, as it has same scope as global variable.\n",
    "* when modifying inside a function then we use following procedure:\n",
    "\n",
    "#### Note : \n",
    "* But it's not a good practice to modify global variables like below.\n",
    "* Instead we could return value then modify the global value."
   ]
  },
  {
   "cell_type": "code",
   "execution_count": 15,
   "metadata": {},
   "outputs": [
    {
     "name": "stdout",
     "output_type": "stream",
     "text": [
      "Inside function age = 25\n"
     ]
    }
   ],
   "source": [
    "age = 14 # Global scope\n",
    "def fun():\n",
    "    # age = age + 1  # Error:  cannot access local variable 'age' where it is not associated with a value\n",
    "\n",
    "    # To modiy global 'age' variable:\n",
    "    global age\n",
    "    age = 25\n",
    "    print(f\"Inside function age = {age}\")\n",
    "\n",
    "fun()"
   ]
  },
  {
   "cell_type": "code",
   "execution_count": null,
   "metadata": {},
   "outputs": [],
   "source": [
    "# Example 2:\n",
    "Mytuple = (\"apple\",\"banana\",\"mango\")\n",
    "\n",
    "def modify():\n",
    "    global Mytuple\n",
    "    Mytuple = ('a','b','c') # Remember here we're not modifying it, instead we're re-assigning it.\n",
    "\n",
    "modify()\n",
    "print(Mytuple)"
   ]
  },
  {
   "cell_type": "markdown",
   "metadata": {},
   "source": [
    "### REMEMBER : Mutable objects can be easily modified inside a funtion"
   ]
  },
  {
   "cell_type": "code",
   "execution_count": 3,
   "metadata": {},
   "outputs": [
    {
     "name": "stdout",
     "output_type": "stream",
     "text": [
      "List Before editing:\n",
      " [12, 3, 96, 45]\n",
      "List after editing in function:\n",
      " [12, 3, 96, 90]\n"
     ]
    }
   ],
   "source": [
    "List = [12,3,96,45]\n",
    "print(\"List Before editing:\\n\",List)\n",
    "\n",
    "def fun():\n",
    "    List[3] += 45\n",
    "\n",
    "fun()\n",
    "print(\"List after editing in function:\\n\",List)"
   ]
  },
  {
   "cell_type": "markdown",
   "metadata": {},
   "source": [
    "<img src=\"images\\purple-divider.png\"/>"
   ]
  },
  {
   "cell_type": "markdown",
   "metadata": {},
   "source": [
    "# Lambda functions:\n",
    "\n",
    "### Syntax :   `lambda arguments: expression`\n",
    "\n",
    "#### Notes:\n",
    "1. Function without a name.\n",
    "2. **'lambda'** keyword is used to define it.\n",
    "3. Any number of Arguments but single expression.\n",
    "4. Automatically returns the result of right side of colon( : )\n"
   ]
  },
  {
   "cell_type": "code",
   "execution_count": null,
   "metadata": {},
   "outputs": [
    {
     "name": "stdout",
     "output_type": "stream",
     "text": [
      "9\n"
     ]
    }
   ],
   "source": [
    "# Example 1:\n",
    "\n",
    "def addition(a,b):\n",
    "    return a + b\n",
    "\n",
    "print( addition(4,5))"
   ]
  },
  {
   "cell_type": "markdown",
   "metadata": {},
   "source": [
    "Equivalent lamda-expression...."
   ]
  },
  {
   "cell_type": "code",
   "execution_count": null,
   "metadata": {},
   "outputs": [
    {
     "name": "stdout",
     "output_type": "stream",
     "text": [
      "what is the type of lambda, Is it experession or a function :  <class 'function'>\n",
      "17\n"
     ]
    }
   ],
   "source": [
    "addition = lambda a,b: a + b\n",
    "\n",
    "print(\"what is the type of lambda, Is it experession or a function : \", type(addition))\n",
    "\n",
    "# How to call it..because it's a function, so I will call it as a function.\n",
    "print(addition(8,9))"
   ]
  },
  {
   "cell_type": "code",
   "execution_count": 8,
   "metadata": {},
   "outputs": [
    {
     "name": "stdout",
     "output_type": "stream",
     "text": [
      "True\n",
      "False\n"
     ]
    }
   ],
   "source": [
    "# Example 2 :\n",
    "\n",
    "def even(n):\n",
    "    if n%2 == 0:\n",
    "        return True\n",
    "    return False\n",
    "    \n",
    "print(even(24))\n",
    "print(even(23))\n"
   ]
  },
  {
   "cell_type": "markdown",
   "metadata": {},
   "source": [
    "#### Let's see equivalent lambda function"
   ]
  },
  {
   "cell_type": "code",
   "execution_count": 10,
   "metadata": {},
   "outputs": [
    {
     "name": "stdout",
     "output_type": "stream",
     "text": [
      "True\n",
      "False\n",
      "True\n",
      "False\n"
     ]
    }
   ],
   "source": [
    "isEven = lambda n : n % 2 == 0\n",
    "# This lambda function takes n as input and directly returns True if n is even (i.e., n % 2 == 0), otherwise False.\n",
    "\n",
    "#similarly\n",
    "even = lambda n: True if n % 2 == 0 else False\n",
    "\n",
    "\n",
    "print(isEven(24))\n",
    "print(isEven(23))\n",
    "\n",
    "# other one....\n",
    "print(even(24))\n",
    "print(even(23))"
   ]
  },
  {
   "cell_type": "markdown",
   "metadata": {},
   "source": [
    "<img src=\"images\\green-divider.png\"/>"
   ]
  },
  {
   "cell_type": "markdown",
   "metadata": {},
   "source": [
    "# map() : \n",
    "\n",
    "## SYNTAX : map(Function, iterable)\n",
    "\n",
    "### Important points :\n",
    "1. Applies a **function** to all items in an iterable.\n",
    "2. Returns a ***map*** object, so it has to be converted into *list* or other iterables."
   ]
  },
  {
   "cell_type": "code",
   "execution_count": null,
   "metadata": {},
   "outputs": [
    {
     "name": "stdout",
     "output_type": "stream",
     "text": [
      "[4, 9, 16, 25]\n",
      "[4, 9, 16, 25]\n"
     ]
    }
   ],
   "source": [
    "\n",
    "# function to return list of squares:\n",
    "def square(List):\n",
    "    result = []\n",
    "    for num in List:\n",
    "        num = num ** 2\n",
    "        result.append(num)\n",
    "    return result\n",
    "#----------------------------------\n",
    "Nums = [2,3,4,5]\n",
    "\n",
    "# So this is the 1 Method to get the result.\n",
    "res = square(Nums)\n",
    "print(res)\n",
    "\n",
    "\n",
    "# Method 2 : Using map()   <- one liner\n",
    "res = list(map(lambda n : n**2, Nums))\n",
    "print(res)\n",
    "\n",
    "\n"
   ]
  },
  {
   "cell_type": "markdown",
   "metadata": {},
   "source": [
    "### map multiple iterables:"
   ]
  },
  {
   "cell_type": "code",
   "execution_count": null,
   "metadata": {},
   "outputs": [
    {
     "ename": "TypeError",
     "evalue": "<lambda>() missing 1 required positional argument: 'y'",
     "output_type": "error",
     "traceback": [
      "\u001b[0;31m---------------------------------------------------------------------------\u001b[0m",
      "\u001b[0;31mTypeError\u001b[0m                                 Traceback (most recent call last)",
      "Cell \u001b[0;32mIn[26], line 4\u001b[0m\n\u001b[1;32m      1\u001b[0m List1 \u001b[38;5;241m=\u001b[39m [\u001b[38;5;241m4\u001b[39m,\u001b[38;5;241m5\u001b[39m,\u001b[38;5;241m6\u001b[39m,\u001b[38;5;241m7\u001b[39m]\n\u001b[1;32m      2\u001b[0m List2 \u001b[38;5;241m=\u001b[39m [\u001b[38;5;241m1\u001b[39m,\u001b[38;5;241m2\u001b[39m,\u001b[38;5;241m3\u001b[39m,\u001b[38;5;241m4\u001b[39m]\n\u001b[0;32m----> 4\u001b[0m \u001b[38;5;28;43mlist\u001b[39;49m\u001b[43m(\u001b[49m\u001b[43m \u001b[49m\u001b[38;5;28;43mmap\u001b[39;49m\u001b[43m(\u001b[49m\u001b[38;5;28;43;01mlambda\u001b[39;49;00m\u001b[43m \u001b[49m\u001b[43mx\u001b[49m\u001b[43m,\u001b[49m\u001b[43my\u001b[49m\u001b[43m:\u001b[49m\u001b[43m \u001b[49m\u001b[43mx\u001b[49m\u001b[38;5;241;43m+\u001b[39;49m\u001b[43my\u001b[49m\u001b[43m,\u001b[49m\u001b[43m \u001b[49m\u001b[43mList1\u001b[49m\u001b[43m)\u001b[49m\u001b[43m)\u001b[49m\n",
      "\u001b[0;31mTypeError\u001b[0m: <lambda>() missing 1 required positional argument: 'y'"
     ]
    }
   ],
   "source": [
    "List1 = [4,5,6,7]\n",
    "List2 = [1,2,3,4]\n",
    "\n",
    "list( map(lambda x,y:x+y, List1))"
   ]
  },
  {
   "cell_type": "code",
   "execution_count": 27,
   "metadata": {},
   "outputs": [
    {
     "data": {
      "text/plain": [
       "[5, 7, 9, 11]"
      ]
     },
     "execution_count": 27,
     "metadata": {},
     "output_type": "execute_result"
    }
   ],
   "source": [
    "List1 = [4,5,6,7]\n",
    "List2 = [1,2,3,4]\n",
    "\n",
    "list( map(lambda x,y: x+y, List1,List2))"
   ]
  },
  {
   "cell_type": "code",
   "execution_count": 30,
   "metadata": {},
   "outputs": [
    {
     "name": "stdout",
     "output_type": "stream",
     "text": [
      "<class 'str'>\n",
      "<class 'int'>\n"
     ]
    }
   ],
   "source": [
    "# map function to convert a list of strings into integers.\n",
    "Nums = ['2', '4', '6', '8', '10']\n",
    "print( type(Nums[0]) )\n",
    "\n",
    "Nums = list( map(int,Nums) )\n",
    "print( type(Nums[0]) )"
   ]
  },
  {
   "cell_type": "code",
   "execution_count": 31,
   "metadata": {},
   "outputs": [
    {
     "name": "stdout",
     "output_type": "stream",
     "text": [
      "['APPLE', 'MANGO', 'PEARS', 'BANANA']\n"
     ]
    }
   ],
   "source": [
    "# Let's apply one more inbuilt function :\n",
    "\n",
    "fruits = ['apple', 'mango', 'pears', 'banana']\n",
    "\n",
    "# Let's convert all in upper case using map() and upper()...\n",
    "fruits = list(map(str.upper, fruits))\n",
    "\n",
    "print(fruits)"
   ]
  },
  {
   "cell_type": "markdown",
   "metadata": {},
   "source": [
    "<img src=\"images\\green-divider.png\"/>"
   ]
  },
  {
   "cell_type": "markdown",
   "metadata": {},
   "source": [
    "# filter() :\n",
    "#### 1. Used to filter elements from an iterable (like a list or tuple) based on a given condition. \n",
    "#### 2. It takes two arguments:\n",
    "   1. A function that returns True or False for each element.\n",
    "   2. An iterable (like a list, tuple, or set).\n",
    "\n",
    "##### 3. The filter() function applies `the function` to each element in the iterable.\n",
    "##### 4. Returns only those elements for which the function returns True."
   ]
  },
  {
   "cell_type": "code",
   "execution_count": 32,
   "metadata": {},
   "outputs": [
    {
     "data": {
      "text/plain": [
       "[2, 4, 6, 8]"
      ]
     },
     "execution_count": 32,
     "metadata": {},
     "output_type": "execute_result"
    }
   ],
   "source": [
    "# A function which returns true or false only\n",
    "isEven = lambda x : x%2==0\n",
    "# iterable\n",
    "Nums = [1,2,3,4,6,9,8,7] \n",
    "\n",
    "list( filter(isEven,Nums))\n"
   ]
  }
 ],
 "metadata": {
  "kernelspec": {
   "display_name": "Python 3",
   "language": "python",
   "name": "python3"
  },
  "language_info": {
   "codemirror_mode": {
    "name": "ipython",
    "version": 3
   },
   "file_extension": ".py",
   "mimetype": "text/x-python",
   "name": "python",
   "nbconvert_exporter": "python",
   "pygments_lexer": "ipython3",
   "version": "3.10.12"
  }
 },
 "nbformat": 4,
 "nbformat_minor": 2
}
